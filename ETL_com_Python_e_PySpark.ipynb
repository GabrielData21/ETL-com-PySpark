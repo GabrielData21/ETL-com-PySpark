{
  "nbformat": 4,
  "nbformat_minor": 0,
  "metadata": {
    "colab": {
      "provenance": [],
      "collapsed_sections": [
        "qJoeN3e8_Gzk",
        "Dd6t0uFzuR4X",
        "8qf-TmnsBgXd",
        "3UJoYm5zwOWp",
        "mI_zYOVpf2yK",
        "NiU1nhA3y0j4",
        "9sDnyyzozVxA",
        "D7Dw2UpQ08-9",
        "hiKFyArf14B0",
        "9lAyzg282V_4",
        "-aQQ2gBF3Azz",
        "oSOpIOhJ4etN"
      ],
      "include_colab_link": true
    },
    "kernelspec": {
      "name": "python3",
      "display_name": "Python 3"
    },
    "language_info": {
      "name": "python"
    }
  },
  "cells": [
    {
      "cell_type": "markdown",
      "metadata": {
        "id": "view-in-github",
        "colab_type": "text"
      },
      "source": [
        "<a href=\"https://colab.research.google.com/github/GabrielData21/ETL-com-PySpark/blob/main/ETL_com_Python_e_PySpark.ipynb\" target=\"_parent\"><img src=\"https://colab.research.google.com/assets/colab-badge.svg\" alt=\"Open In Colab\"/></a>"
      ]
    },
    {
      "cell_type": "markdown",
      "source": [
        "# Pipeline de ETL com Python (PySpark)"
      ],
      "metadata": {
        "id": "ZZPtipYTrbgk"
      }
    },
    {
      "cell_type": "markdown",
      "source": [
        "**Descrição da atividade**\n",
        "\n",
        "Esse projeto visa simular uma pipeline contendo importação e transformação de dados do ENEM em uma arquitetura medallion, cujo perfil consiste em 3 camadas de tratamento de dados, sendo uma camada bruta no momento da importação (bronze), uma segunda camada para pré-processamento (silver) e a camada final com os dados prontos para uso (gold).\n"
      ],
      "metadata": {
        "id": "dTZDpUrdtXZf"
      }
    },
    {
      "cell_type": "markdown",
      "metadata": {
        "id": "Dd6t0uFzuR4X"
      },
      "source": [
        "## Instalando PySpark"
      ]
    },
    {
      "cell_type": "markdown",
      "source": [
        "Realizando a instalação do PySpark no notebook. Em versões anteriores era necessário instalar o ambiente com Hadoop e outros módulos, a partir da versão 3.4.0 é possível fazer a instação isolada."
      ],
      "metadata": {
        "id": "qu34sKRJvhq_"
      }
    },
    {
      "cell_type": "code",
      "execution_count": 1,
      "metadata": {
        "id": "We2yp-o7Hgu9",
        "colab": {
          "base_uri": "https://localhost:8080/"
        },
        "outputId": "3cfb1d40-2d4d-4421-b35f-1472b01ee809"
      },
      "outputs": [
        {
          "output_type": "stream",
          "name": "stdout",
          "text": [
            "Collecting pyspark==3.4.0\n",
            "  Downloading pyspark-3.4.0.tar.gz (310.8 MB)\n",
            "\u001b[2K     \u001b[91m━━━\u001b[0m\u001b[91m╸\u001b[0m\u001b[90m━━━━━━━━━━━━━━━━━━━━━━━━━━━━━━━━━━━━\u001b[0m \u001b[32m30.2/310.8 MB\u001b[0m \u001b[31m56.7 MB/s\u001b[0m eta \u001b[36m0:00:05\u001b[0m\n",
            "\u001b[?25h\u001b[31mERROR: Operation cancelled by user\u001b[0m\u001b[31m\n",
            "\u001b[0m"
          ]
        }
      ],
      "source": [
        "# instalando PySpark 3.4.0\n",
        "!pip install pyspark==3.4.0"
      ]
    },
    {
      "cell_type": "code",
      "source": [
        "# criando Spark Session\n",
        "from pyspark.sql import SparkSession\n",
        "spark = SparkSession.builder.appName(\"ETL-enem\").getOrCreate()\n",
        "spark"
      ],
      "metadata": {
        "colab": {
          "base_uri": "https://localhost:8080/",
          "height": 358
        },
        "id": "ULkClcAtSYDV",
        "outputId": "70c09301-1f94-4fe5-c1c4-d218c0702d02"
      },
      "execution_count": 2,
      "outputs": [
        {
          "output_type": "error",
          "ename": "ModuleNotFoundError",
          "evalue": "No module named 'pyspark'",
          "traceback": [
            "\u001b[0;31m---------------------------------------------------------------------------\u001b[0m",
            "\u001b[0;31mModuleNotFoundError\u001b[0m                       Traceback (most recent call last)",
            "\u001b[0;32m<ipython-input-2-54402bc61cbe>\u001b[0m in \u001b[0;36m<cell line: 1>\u001b[0;34m()\u001b[0m\n\u001b[0;32m----> 1\u001b[0;31m \u001b[0;32mfrom\u001b[0m \u001b[0mpyspark\u001b[0m\u001b[0;34m.\u001b[0m\u001b[0msql\u001b[0m \u001b[0;32mimport\u001b[0m \u001b[0mSparkSession\u001b[0m\u001b[0;34m\u001b[0m\u001b[0;34m\u001b[0m\u001b[0m\n\u001b[0m\u001b[1;32m      2\u001b[0m \u001b[0mspark\u001b[0m \u001b[0;34m=\u001b[0m \u001b[0mSparkSession\u001b[0m\u001b[0;34m.\u001b[0m\u001b[0mbuilder\u001b[0m\u001b[0;34m.\u001b[0m\u001b[0mappName\u001b[0m\u001b[0;34m(\u001b[0m\u001b[0;34m\"ETL-enem\"\u001b[0m\u001b[0;34m)\u001b[0m\u001b[0;34m.\u001b[0m\u001b[0mgetOrCreate\u001b[0m\u001b[0;34m(\u001b[0m\u001b[0;34m)\u001b[0m\u001b[0;34m\u001b[0m\u001b[0;34m\u001b[0m\u001b[0m\n\u001b[1;32m      3\u001b[0m \u001b[0mspark\u001b[0m\u001b[0;34m\u001b[0m\u001b[0;34m\u001b[0m\u001b[0m\n",
            "\u001b[0;31mModuleNotFoundError\u001b[0m: No module named 'pyspark'",
            "",
            "\u001b[0;31m---------------------------------------------------------------------------\u001b[0;32m\nNOTE: If your import is failing due to a missing package, you can\nmanually install dependencies using either !pip or !apt.\n\nTo view examples of installing some common dependencies, click the\n\"Open Examples\" button below.\n\u001b[0;31m---------------------------------------------------------------------------\u001b[0m\n"
          ],
          "errorDetails": {
            "actions": [
              {
                "action": "open_url",
                "actionText": "Open Examples",
                "url": "/notebooks/snippets/importing_libraries.ipynb"
              }
            ]
          }
        }
      ]
    },
    {
      "cell_type": "markdown",
      "source": [
        "# Organizando o ambiente para os arquivos do ETL"
      ],
      "metadata": {
        "id": "13jhiprkXri1"
      }
    },
    {
      "cell_type": "markdown",
      "source": [
        "Criando as pastas que irão compor o projeto de acordo com a arquitetura medallion."
      ],
      "metadata": {
        "id": "U3Ciz2-_Xzmu"
      }
    },
    {
      "cell_type": "code",
      "source": [
        "!mkdir -p enem_2020/1.bronze"
      ],
      "metadata": {
        "id": "6ob_vdkcYZlV"
      },
      "execution_count": null,
      "outputs": []
    },
    {
      "cell_type": "code",
      "source": [
        "!mkdir enem_2020/2.silver/ enem_2020/3.gold/"
      ],
      "metadata": {
        "id": "kRsc5UKnnI60"
      },
      "execution_count": null,
      "outputs": []
    },
    {
      "cell_type": "markdown",
      "metadata": {
        "id": "8qf-TmnsBgXd"
      },
      "source": [
        "## Aquisição de dados ENEM"
      ]
    },
    {
      "cell_type": "markdown",
      "metadata": {
        "id": "0ysUlfFrN5OD"
      },
      "source": [
        "### Download e pré processamento dos dados"
      ]
    },
    {
      "cell_type": "code",
      "execution_count": null,
      "metadata": {
        "id": "FDtw5Hy3N-pV",
        "colab": {
          "base_uri": "https://localhost:8080/"
        },
        "outputId": "0d34de51-1e39-48ba-b85b-5fbbb5ea881e"
      },
      "outputs": [
        {
          "output_type": "stream",
          "name": "stdout",
          "text": [
            "--2023-08-31 21:28:52--  https://download.inep.gov.br/microdados/microdados_enem_2020.zip\n",
            "Resolving download.inep.gov.br (download.inep.gov.br)... 200.130.24.15\n",
            "Connecting to download.inep.gov.br (download.inep.gov.br)|200.130.24.15|:443... connected.\n",
            "WARNING: cannot verify download.inep.gov.br's certificate, issued by ‘CN=RNP ICPEdu OV SSL CA 2019,O=Rede Nacional de Ensino e Pesquisa - RNP,C=BR’:\n",
            "  Unable to locally verify the issuer's authority.\n",
            "HTTP request sent, awaiting response... 200 OK\n",
            "Length: 620776982 (592M) [application/zip]\n",
            "Saving to: ‘microdados_enem_2020.zip’\n",
            "\n",
            "microdados_enem_202 100%[===================>] 592.02M   413KB/s    in 21m 40s \n",
            "\n",
            "2023-08-31 21:50:33 (466 KB/s) - ‘microdados_enem_2020.zip’ saved [620776982/620776982]\n",
            "\n",
            "total 606240\n",
            "drwxr-xr-x 4 root root      4096 Aug 31 21:28 enem_2020\n",
            "-rw-r--r-- 1 root root 620776982 Feb 16  2022 microdados_enem_2020.zip\n",
            "drwxr-xr-x 1 root root      4096 Aug 30 13:25 sample_data\n"
          ]
        }
      ],
      "source": [
        "# Importando os arquivos\n",
        "!wget https://download.inep.gov.br/microdados/microdados_enem_2020.zip --no-check-certificate\n",
        "\n",
        "# verificando os arquivos na pasta após download\n",
        "!ls -l"
      ]
    },
    {
      "cell_type": "markdown",
      "source": [
        "Os arquivos do ENEM são recebidos em formato compactado, para fazer a descompactação existem duas opções: usando comandos linux shell (através do unzip) ou usando o pacote zipfile do Python. Como este projeto visa uma prática em Python e PySpark, foi usado o pacote zipfile."
      ],
      "metadata": {
        "id": "6sZm6CSDoKta"
      }
    },
    {
      "cell_type": "code",
      "source": [
        "import zipfile"
      ],
      "metadata": {
        "id": "9SGo6Kt5qgZE"
      },
      "execution_count": null,
      "outputs": []
    },
    {
      "cell_type": "code",
      "source": [
        "%%time\n",
        "\n",
        "# realizando a descompactação dos arquivos\n",
        "with zipfile.ZipFile('microdados_enem_2020.zip', 'r') as zip_ref:\n",
        "    zip_ref.extractall('enem_2020')"
      ],
      "metadata": {
        "colab": {
          "base_uri": "https://localhost:8080/"
        },
        "id": "WOghTzsSqjxb",
        "outputId": "d76bf533-d33e-43c3-bde8-863901006880"
      },
      "execution_count": null,
      "outputs": [
        {
          "output_type": "stream",
          "name": "stdout",
          "text": [
            "CPU times: user 13 s, sys: 5.55 s, total: 18.5 s\n",
            "Wall time: 22.5 s\n"
          ]
        }
      ]
    },
    {
      "cell_type": "markdown",
      "source": [
        "Outro passo necessário é organizar os arquivos da descompactação, será usado apenas o arquivo principal para a transformação. Por isso ele será movido para a pasta /bronze."
      ],
      "metadata": {
        "id": "1XYHYIyNpX0N"
      }
    },
    {
      "cell_type": "markdown",
      "source": [
        "Mover arquivos entre pastas usando comandos linux shell é bem simples através do comando mv. Novamente, para manter o treinamento voltado para Python, usaremos o pacote shutil para realizar a movimentação."
      ],
      "metadata": {
        "id": "t1o2Mb-WuBvT"
      }
    },
    {
      "cell_type": "code",
      "source": [
        "import shutil"
      ],
      "metadata": {
        "id": "W_DLEa0XpY3C"
      },
      "execution_count": null,
      "outputs": []
    },
    {
      "cell_type": "code",
      "source": [
        "# criando variáveis para movimentação de arquivo\n",
        "source = \"/content/enem_2020/DADOS/MICRODADOS_ENEM_2020.csv\"\n",
        "destination = \"/content/enem_2020/raw/MICRODADOS_ENEM_2020.csv\"\n",
        "\n",
        "# movimentando o arquivo\n",
        "shutil.move(source, destination)"
      ],
      "metadata": {
        "colab": {
          "base_uri": "https://localhost:8080/",
          "height": 108
        },
        "id": "1uSwcJdhuftM",
        "outputId": "3048c816-35ac-4d39-a1e4-1f5bc2a754d4"
      },
      "execution_count": 4,
      "outputs": [
        {
          "output_type": "error",
          "ename": "SyntaxError",
          "evalue": "invalid syntax (<ipython-input-4-305365f6d9cd>, line 1)",
          "traceback": [
            "\u001b[0;36m  File \u001b[0;32m\"<ipython-input-4-305365f6d9cd>\"\u001b[0;36m, line \u001b[0;32m1\u001b[0m\n\u001b[0;31m    // \"\"\"criando variáveis para movimentação de arquivo\"\"\"\u001b[0m\n\u001b[0m    ^\u001b[0m\n\u001b[0;31mSyntaxError\u001b[0m\u001b[0;31m:\u001b[0m invalid syntax\n"
          ]
        }
      ]
    },
    {
      "cell_type": "code",
      "execution_count": null,
      "metadata": {
        "id": "9-1cK0nPNS95",
        "colab": {
          "base_uri": "https://localhost:8080/"
        },
        "outputId": "c3344de8-210b-4532-b947-29ef5408dd15"
      },
      "outputs": [
        {
          "output_type": "stream",
          "name": "stdout",
          "text": [
            "+------------+------+---------------+-------+---------------+-----------+----------------+---------------+---------------+---------+---------+------------+----------------+-------------------+---------+---------+----------------------+------------------+---------------+------------------+-------------------+-----------+-----------+--------------+--------------+--------------+--------------+-----------+-----------+-----------+-----------+----------+----------+----------+----------+--------------------+--------------------+--------------------+--------------------+---------+--------------------+--------------------+--------------------+--------------------+-----------------+-------------+-------------+-------------+-------------+-------------+---------------+----+----+----+----+----+----+----+----+----+----+----+----+----+----+----+----+----+----+----+----+----+----+----+----+----+\n",
            "|NU_INSCRICAO|NU_ANO|TP_FAIXA_ETARIA|TP_SEXO|TP_ESTADO_CIVIL|TP_COR_RACA|TP_NACIONALIDADE|TP_ST_CONCLUSAO|TP_ANO_CONCLUIU|TP_ESCOLA|TP_ENSINO|IN_TREINEIRO|CO_MUNICIPIO_ESC|   NO_MUNICIPIO_ESC|CO_UF_ESC|SG_UF_ESC|TP_DEPENDENCIA_ADM_ESC|TP_LOCALIZACAO_ESC|TP_SIT_FUNC_ESC|CO_MUNICIPIO_PROVA| NO_MUNICIPIO_PROVA|CO_UF_PROVA|SG_UF_PROVA|TP_PRESENCA_CN|TP_PRESENCA_CH|TP_PRESENCA_LC|TP_PRESENCA_MT|CO_PROVA_CN|CO_PROVA_CH|CO_PROVA_LC|CO_PROVA_MT|NU_NOTA_CN|NU_NOTA_CH|NU_NOTA_LC|NU_NOTA_MT|     TX_RESPOSTAS_CN|     TX_RESPOSTAS_CH|     TX_RESPOSTAS_LC|     TX_RESPOSTAS_MT|TP_LINGUA|      TX_GABARITO_CN|      TX_GABARITO_CH|      TX_GABARITO_LC|      TX_GABARITO_MT|TP_STATUS_REDACAO|NU_NOTA_COMP1|NU_NOTA_COMP2|NU_NOTA_COMP3|NU_NOTA_COMP4|NU_NOTA_COMP5|NU_NOTA_REDACAO|Q001|Q002|Q003|Q004|Q005|Q006|Q007|Q008|Q009|Q010|Q011|Q012|Q013|Q014|Q015|Q016|Q017|Q018|Q019|Q020|Q021|Q022|Q023|Q024|Q025|\n",
            "+------------+------+---------------+-------+---------------+-----------+----------------+---------------+---------------+---------+---------+------------+----------------+-------------------+---------+---------+----------------------+------------------+---------------+------------------+-------------------+-----------+-----------+--------------+--------------+--------------+--------------+-----------+-----------+-----------+-----------+----------+----------+----------+----------+--------------------+--------------------+--------------------+--------------------+---------+--------------------+--------------------+--------------------+--------------------+-----------------+-------------+-------------+-------------+-------------+-------------+---------------+----+----+----+----+----+----+----+----+----+----+----+----+----+----+----+----+----+----+----+----+----+----+----+----+----+\n",
            "|200006271946|  2020|             11|      F|              1|          2|               1|              1|             11|        1|     null|           0|            null|               null|     null|     null|                  null|              null|           null|           1501402|              Belém|         15|         PA|             0|             0|             0|             0|       null|       null|       null|       null|      null|      null|      null|      null|                null|                null|                null|                null|        1|                null|                null|                null|                null|             null|         null|         null|         null|         null|         null|           null|null|null|null|null|null|null|null|null|null|null|null|null|null|null|null|null|null|null|null|null|null|null|null|null|null|\n",
            "|200001195856|  2020|             11|      M|              2|          3|               1|              1|             11|        1|     null|           0|            null|               null|     null|     null|                  null|              null|           null|           2408102|              Natal|         24|         RN|             1|             1|             1|             1|        702|        689|        693|        698|     604.1|     661.7|     595.3|     711.3|BCBDBDCCCDBDDBADE...|BCAECABCDCEBDBBBD...|99999CADDEDADBAAB...|EBEBDEDAECBADCADD...|        1|ABBACBCCCDDDDBAEE...|BCEECDBCCDEBDBBBB...|99999CBDDEDBDBACE...|BBEADECAECBBXCEBA...|                1|          120|          120|          120|          120|          100|            580|null|null|null|null|null|null|null|null|null|null|null|null|null|null|null|null|null|null|null|null|null|null|null|null|null|\n",
            "|200001943954|  2020|              4|      F|              2|          3|               2|              2|              0|        2|        1|           0|         2927408|           Salvador|       29|       BA|                     2|                 1|              1|           2927408|           Salvador|         29|         BA|             0|             0|             0|             0|       null|       null|       null|       null|      null|      null|      null|      null|                null|                null|                null|                null|        0|                null|                null|                null|                null|             null|         null|         null|         null|         null|         null|           null|   B|   C|   A|   D|   3|   B|   A|   B|   A|   A|   A|   B|   A|   B|   A|   B|   A|   A|   B|   A|   A|   A|   A|   A|   A|\n",
            "|200001908998|  2020|              2|      M|              1|          3|               1|              2|              0|        2|        1|           0|         3547304|Santana de Parnaíba|       35|       SP|                     3|                 1|              1|           3547304|Santana de Parnaíba|         35|         SP|             1|             1|             1|             1|        700|        688|        692|        696|     620.8|       675|     624.2|     759.4|EBEDCCCDCBDBAECAE...|DABCCACCBCCDCADBD...|DCEAB99999AADAECC...|CBDBDCCDDEECBAABB...|        0|BDECCACBEBDEAEDAE...|DABCCAECBABECADBD...|DCEAD99999AADACCC...|EBDBXCCDAEECBAABA...|                1|          140|          200|          140|          120|          160|            760|null|null|null|null|null|null|null|null|null|null|null|null|null|null|null|null|null|null|null|null|null|null|null|null|null|\n",
            "|200001634757|  2020|              4|      F|              1|          3|               2|              1|              1|        1|     null|           0|            null|               null|     null|     null|                  null|              null|           null|           3121605|         Diamantina|         31|         MG|             0|             0|             0|             0|       null|       null|       null|       null|      null|      null|      null|      null|                null|                null|                null|                null|        1|                null|                null|                null|                null|             null|         null|         null|         null|         null|         null|           null|   B|   G|   B|   B|   3|   B|   A|   B|   D|   A|   A|   B|   A|   B|   A|   A|   A|   A|   B|   A|   B|   B|   A|   A|   B|\n",
            "|200003132410|  2020|              3|      F|              1|          3|               1|              1|              1|        1|     null|           0|            null|               null|     null|     null|                  null|              null|           null|           4305207|        Cerro Largo|         43|         RS|             1|             1|             1|             1|        598|        567|        577|        588|     498.1|     604.7|     505.4|     526.7|CABBEEACAEBEBCCDA...|ACEBBDDCADDAACEEA...|99999CBECEBEDBEEC...|BADCAAAEEDBEDBACE...|        1|CEDBDDDCACCBDAEBA...|DABCBDDDAEDBECECB...|AAEDCACEEECEAACBA...|AEBCCXCCCACCDABCC...|                1|          140|          120|          140|          140|          160|            700|   C|   B|   C|   B|   5|   C|   A|   B|   E|   A|   A|   B|   A|   A|   A|   B|   A|   A|   B|   B|   A|   D|   A|   B|   B|\n",
            "|200001379770|  2020|              9|      M|              1|          3|               1|              1|              6|        1|     null|           0|            null|               null|     null|     null|                  null|              null|           null|           2611606|             Recife|         26|         PE|             0|             0|             0|             0|       null|       null|       null|       null|      null|      null|      null|      null|                null|                null|                null|                null|        0|                null|                null|                null|                null|             null|         null|         null|         null|         null|         null|           null|null|null|null|null|null|null|null|null|null|null|null|null|null|null|null|null|null|null|null|null|null|null|null|null|null|\n",
            "|200001334237|  2020|              4|      M|              1|          1|               1|              1|              1|        1|     null|           0|            null|               null|     null|     null|                  null|              null|           null|           3550308|          São Paulo|         35|         SP|             1|             1|             1|             1|        699|        687|        691|        695|     604.6|     604.8|     562.1|     753.2|CECACBBCADACADDEE...|EAADABBEABCADDBAA...|CADDE99999AEEADBA...|BABADDBDAEBAEBBBE...|        0|DEAAECBBCDCBAEBEE...|EAAADBBEDBDACDBCC...|CADDE99999DEBBBBB...|BABBDABAEEBACBACD...|                1|          140|          120|          120|          120|          100|            600|null|null|null|null|null|null|null|null|null|null|null|null|null|null|null|null|null|null|null|null|null|null|null|null|null|\n",
            "|200006762554|  2020|              5|      F|              2|          3|               1|              1|              3|        1|     null|           0|            null|               null|     null|     null|                  null|              null|           null|           2507507|        João Pessoa|         25|         PB|             1|             1|             1|             1|        598|        567|        577|        588|     439.7|     383.5|     486.2|     448.5|DABCDCAEDEDCBEDCD...|ECCAEAEACDDABCBDA...|99999DDCBBABECCAC...|EEDCCEACEBAAAADCD...|        1|CEDBDDDCACCBDAEBA...|DABCBDDDAEDBECECB...|AAEDCACEEECEAACBA...|AEBCCXCCCACCDABCC...|                1|          120|          120|          120|          140|          100|            600|   B|   C|   C|   B|   2|   B|   A|   B|   C|   A|   A|   B|   A|   B|   A|   A|   A|   A|   B|   A|   A|   C|   A|   A|   A|\n",
            "|200005146210|  2020|              2|      M|              1|          2|               1|              2|              0|        2|        1|           0|            null|               null|     null|     null|                  null|              null|           null|           2304400|          Fortaleza|         23|         CE|             0|             0|             0|             0|       null|       null|       null|       null|      null|      null|      null|      null|                null|                null|                null|                null|        0|                null|                null|                null|                null|             null|         null|         null|         null|         null|         null|           null|   A|   A|   B|   A|   4|   B|   A|   B|   B|   A|   A|   B|   A|   A|   A|   A|   A|   A|   B|   A|   A|   A|   A|   A|   B|\n",
            "+------------+------+---------------+-------+---------------+-----------+----------------+---------------+---------------+---------+---------+------------+----------------+-------------------+---------+---------+----------------------+------------------+---------------+------------------+-------------------+-----------+-----------+--------------+--------------+--------------+--------------+-----------+-----------+-----------+-----------+----------+----------+----------+----------+--------------------+--------------------+--------------------+--------------------+---------+--------------------+--------------------+--------------------+--------------------+-----------------+-------------+-------------+-------------+-------------+-------------+---------------+----+----+----+----+----+----+----+----+----+----+----+----+----+----+----+----+----+----+----+----+----+----+----+----+----+\n",
            "only showing top 10 rows\n",
            "\n",
            "CPU times: user 8.54 ms, sys: 1.55 ms, total: 10.1 ms\n",
            "Wall time: 1.1 s\n"
          ]
        }
      ],
      "source": [
        "%%time\n",
        "\n",
        "# importando pacote Functions para manipulação de dados\n",
        "import pyspark.sql.functions\n",
        "\n",
        "# primeira leitura dos dados descompactados\n",
        "mida = spark.read.csv('/content/enem_2020/raw/MICRODADOS_ENEM_2020.csv', header= True, sep=';', encoding='ISO-8859-1')\n",
        "mida.show(10)"
      ]
    },
    {
      "cell_type": "code",
      "source": [
        "\"\"\"\n",
        "Verificando as colunas do DataFrame, avaliando junto à documetação do dicionário dos dados\n",
        "sobre o conteúdo, formato...\n",
        "\"\"\"\n",
        "mida.printSchema()"
      ],
      "metadata": {
        "id": "YDoMDzk0kWLF",
        "colab": {
          "base_uri": "https://localhost:8080/"
        },
        "outputId": "4f89ddc9-ece6-49fa-dd8a-5dc33ae255fa"
      },
      "execution_count": null,
      "outputs": [
        {
          "output_type": "execute_result",
          "data": {
            "text/plain": [
              "['NU_INSCRICAO',\n",
              " 'NU_ANO',\n",
              " 'TP_FAIXA_ETARIA',\n",
              " 'TP_SEXO',\n",
              " 'TP_ESTADO_CIVIL',\n",
              " 'TP_COR_RACA',\n",
              " 'TP_NACIONALIDADE',\n",
              " 'TP_ST_CONCLUSAO',\n",
              " 'TP_ANO_CONCLUIU',\n",
              " 'TP_ESCOLA',\n",
              " 'TP_ENSINO',\n",
              " 'IN_TREINEIRO',\n",
              " 'CO_MUNICIPIO_ESC',\n",
              " 'NO_MUNICIPIO_ESC',\n",
              " 'CO_UF_ESC',\n",
              " 'SG_UF_ESC',\n",
              " 'TP_DEPENDENCIA_ADM_ESC',\n",
              " 'TP_LOCALIZACAO_ESC',\n",
              " 'TP_SIT_FUNC_ESC',\n",
              " 'CO_MUNICIPIO_PROVA',\n",
              " 'NO_MUNICIPIO_PROVA',\n",
              " 'CO_UF_PROVA',\n",
              " 'SG_UF_PROVA',\n",
              " 'TP_PRESENCA_CN',\n",
              " 'TP_PRESENCA_CH',\n",
              " 'TP_PRESENCA_LC',\n",
              " 'TP_PRESENCA_MT',\n",
              " 'CO_PROVA_CN',\n",
              " 'CO_PROVA_CH',\n",
              " 'CO_PROVA_LC',\n",
              " 'CO_PROVA_MT',\n",
              " 'NU_NOTA_CN',\n",
              " 'NU_NOTA_CH',\n",
              " 'NU_NOTA_LC',\n",
              " 'NU_NOTA_MT',\n",
              " 'TX_RESPOSTAS_CN',\n",
              " 'TX_RESPOSTAS_CH',\n",
              " 'TX_RESPOSTAS_LC',\n",
              " 'TX_RESPOSTAS_MT',\n",
              " 'TP_LINGUA',\n",
              " 'TX_GABARITO_CN',\n",
              " 'TX_GABARITO_CH',\n",
              " 'TX_GABARITO_LC',\n",
              " 'TX_GABARITO_MT',\n",
              " 'TP_STATUS_REDACAO',\n",
              " 'NU_NOTA_COMP1',\n",
              " 'NU_NOTA_COMP2',\n",
              " 'NU_NOTA_COMP3',\n",
              " 'NU_NOTA_COMP4',\n",
              " 'NU_NOTA_COMP5',\n",
              " 'NU_NOTA_REDACAO',\n",
              " 'Q001',\n",
              " 'Q002',\n",
              " 'Q003',\n",
              " 'Q004',\n",
              " 'Q005',\n",
              " 'Q006',\n",
              " 'Q007',\n",
              " 'Q008',\n",
              " 'Q009',\n",
              " 'Q010',\n",
              " 'Q011',\n",
              " 'Q012',\n",
              " 'Q013',\n",
              " 'Q014',\n",
              " 'Q015',\n",
              " 'Q016',\n",
              " 'Q017',\n",
              " 'Q018',\n",
              " 'Q019',\n",
              " 'Q020',\n",
              " 'Q021',\n",
              " 'Q022',\n",
              " 'Q023',\n",
              " 'Q024',\n",
              " 'Q025']"
            ]
          },
          "metadata": {},
          "execution_count": 23
        }
      ]
    },
    {
      "cell_type": "markdown",
      "source": [
        "# Transformação dos dados"
      ],
      "metadata": {
        "id": "MjYpRtL5-KEb"
      }
    },
    {
      "cell_type": "code",
      "source": [
        "\"\"\"\n",
        "Para realizar o tratamento de forma mais eficiente, o arquivo será transformado em Parquet.\n",
        "É possível atribuir o destino do arquivo em uma variável para usar na função\n",
        "de salvar o arquivo no formato desejado, por isso ao alterar o formato o arquivo será salvo na pasta /silver.\n",
        "\"\"\"\n",
        "\n",
        "# Caminho para salvar o arquivo Parquet\n",
        "parquet_path = \"/content/enem_2020/silver/MICRODADOS_ENEM_2020.parquet\"\n",
        "\n",
        "# Salvar o DataFrame como arquivo Parquet\n",
        "mida.write.mode(\"overwrite\").parquet(parquet_path)"
      ],
      "metadata": {
        "id": "6jBgmCFKkWCw"
      },
      "execution_count": null,
      "outputs": []
    },
    {
      "cell_type": "code",
      "execution_count": null,
      "metadata": {
        "id": "qLS_NEpEgDBJ",
        "colab": {
          "base_uri": "https://localhost:8080/"
        },
        "outputId": "895f8aad-67d3-4ff6-c6b2-7c8bf638c654"
      },
      "outputs": [
        {
          "output_type": "stream",
          "name": "stdout",
          "text": [
            "+------------+------+---------------+-------+---------------+-----------+----------------+---------------+---------------+---------+---------+------------+----------------+-------------------+---------+---------+----------------------+------------------+---------------+------------------+-------------------+-----------+-----------+--------------+--------------+--------------+--------------+-----------+-----------+-----------+-----------+----------+----------+----------+----------+--------------------+--------------------+--------------------+--------------------+---------+--------------------+--------------------+--------------------+--------------------+-----------------+-------------+-------------+-------------+-------------+-------------+---------------+----+----+----+----+----+----+----+----+----+----+----+----+----+----+----+----+----+----+----+----+----+----+----+----+----+\n",
            "|NU_INSCRICAO|NU_ANO|TP_FAIXA_ETARIA|TP_SEXO|TP_ESTADO_CIVIL|TP_COR_RACA|TP_NACIONALIDADE|TP_ST_CONCLUSAO|TP_ANO_CONCLUIU|TP_ESCOLA|TP_ENSINO|IN_TREINEIRO|CO_MUNICIPIO_ESC|   NO_MUNICIPIO_ESC|CO_UF_ESC|SG_UF_ESC|TP_DEPENDENCIA_ADM_ESC|TP_LOCALIZACAO_ESC|TP_SIT_FUNC_ESC|CO_MUNICIPIO_PROVA| NO_MUNICIPIO_PROVA|CO_UF_PROVA|SG_UF_PROVA|TP_PRESENCA_CN|TP_PRESENCA_CH|TP_PRESENCA_LC|TP_PRESENCA_MT|CO_PROVA_CN|CO_PROVA_CH|CO_PROVA_LC|CO_PROVA_MT|NU_NOTA_CN|NU_NOTA_CH|NU_NOTA_LC|NU_NOTA_MT|     TX_RESPOSTAS_CN|     TX_RESPOSTAS_CH|     TX_RESPOSTAS_LC|     TX_RESPOSTAS_MT|TP_LINGUA|      TX_GABARITO_CN|      TX_GABARITO_CH|      TX_GABARITO_LC|      TX_GABARITO_MT|TP_STATUS_REDACAO|NU_NOTA_COMP1|NU_NOTA_COMP2|NU_NOTA_COMP3|NU_NOTA_COMP4|NU_NOTA_COMP5|NU_NOTA_REDACAO|Q001|Q002|Q003|Q004|Q005|Q006|Q007|Q008|Q009|Q010|Q011|Q012|Q013|Q014|Q015|Q016|Q017|Q018|Q019|Q020|Q021|Q022|Q023|Q024|Q025|\n",
            "+------------+------+---------------+-------+---------------+-----------+----------------+---------------+---------------+---------+---------+------------+----------------+-------------------+---------+---------+----------------------+------------------+---------------+------------------+-------------------+-----------+-----------+--------------+--------------+--------------+--------------+-----------+-----------+-----------+-----------+----------+----------+----------+----------+--------------------+--------------------+--------------------+--------------------+---------+--------------------+--------------------+--------------------+--------------------+-----------------+-------------+-------------+-------------+-------------+-------------+---------------+----+----+----+----+----+----+----+----+----+----+----+----+----+----+----+----+----+----+----+----+----+----+----+----+----+\n",
            "|200006271946|  2020|             11|      F|              1|          2|               1|              1|             11|        1|     null|           0|            null|               null|     null|     null|                  null|              null|           null|           1501402|              Belém|         15|         PA|             0|             0|             0|             0|       null|       null|       null|       null|      null|      null|      null|      null|                null|                null|                null|                null|        1|                null|                null|                null|                null|             null|         null|         null|         null|         null|         null|           null|null|null|null|null|null|null|null|null|null|null|null|null|null|null|null|null|null|null|null|null|null|null|null|null|null|\n",
            "|200001195856|  2020|             11|      M|              2|          3|               1|              1|             11|        1|     null|           0|            null|               null|     null|     null|                  null|              null|           null|           2408102|              Natal|         24|         RN|             1|             1|             1|             1|        702|        689|        693|        698|     604.1|     661.7|     595.3|     711.3|BCBDBDCCCDBDDBADE...|BCAECABCDCEBDBBBD...|99999CADDEDADBAAB...|EBEBDEDAECBADCADD...|        1|ABBACBCCCDDDDBAEE...|BCEECDBCCDEBDBBBB...|99999CBDDEDBDBACE...|BBEADECAECBBXCEBA...|                1|          120|          120|          120|          120|          100|            580|null|null|null|null|null|null|null|null|null|null|null|null|null|null|null|null|null|null|null|null|null|null|null|null|null|\n",
            "|200001943954|  2020|              4|      F|              2|          3|               2|              2|              0|        2|        1|           0|         2927408|           Salvador|       29|       BA|                     2|                 1|              1|           2927408|           Salvador|         29|         BA|             0|             0|             0|             0|       null|       null|       null|       null|      null|      null|      null|      null|                null|                null|                null|                null|        0|                null|                null|                null|                null|             null|         null|         null|         null|         null|         null|           null|   B|   C|   A|   D|   3|   B|   A|   B|   A|   A|   A|   B|   A|   B|   A|   B|   A|   A|   B|   A|   A|   A|   A|   A|   A|\n",
            "|200001908998|  2020|              2|      M|              1|          3|               1|              2|              0|        2|        1|           0|         3547304|Santana de Parnaíba|       35|       SP|                     3|                 1|              1|           3547304|Santana de Parnaíba|         35|         SP|             1|             1|             1|             1|        700|        688|        692|        696|     620.8|       675|     624.2|     759.4|EBEDCCCDCBDBAECAE...|DABCCACCBCCDCADBD...|DCEAB99999AADAECC...|CBDBDCCDDEECBAABB...|        0|BDECCACBEBDEAEDAE...|DABCCAECBABECADBD...|DCEAD99999AADACCC...|EBDBXCCDAEECBAABA...|                1|          140|          200|          140|          120|          160|            760|null|null|null|null|null|null|null|null|null|null|null|null|null|null|null|null|null|null|null|null|null|null|null|null|null|\n",
            "|200001634757|  2020|              4|      F|              1|          3|               2|              1|              1|        1|     null|           0|            null|               null|     null|     null|                  null|              null|           null|           3121605|         Diamantina|         31|         MG|             0|             0|             0|             0|       null|       null|       null|       null|      null|      null|      null|      null|                null|                null|                null|                null|        1|                null|                null|                null|                null|             null|         null|         null|         null|         null|         null|           null|   B|   G|   B|   B|   3|   B|   A|   B|   D|   A|   A|   B|   A|   B|   A|   A|   A|   A|   B|   A|   B|   B|   A|   A|   B|\n",
            "|200003132410|  2020|              3|      F|              1|          3|               1|              1|              1|        1|     null|           0|            null|               null|     null|     null|                  null|              null|           null|           4305207|        Cerro Largo|         43|         RS|             1|             1|             1|             1|        598|        567|        577|        588|     498.1|     604.7|     505.4|     526.7|CABBEEACAEBEBCCDA...|ACEBBDDCADDAACEEA...|99999CBECEBEDBEEC...|BADCAAAEEDBEDBACE...|        1|CEDBDDDCACCBDAEBA...|DABCBDDDAEDBECECB...|AAEDCACEEECEAACBA...|AEBCCXCCCACCDABCC...|                1|          140|          120|          140|          140|          160|            700|   C|   B|   C|   B|   5|   C|   A|   B|   E|   A|   A|   B|   A|   A|   A|   B|   A|   A|   B|   B|   A|   D|   A|   B|   B|\n",
            "|200001379770|  2020|              9|      M|              1|          3|               1|              1|              6|        1|     null|           0|            null|               null|     null|     null|                  null|              null|           null|           2611606|             Recife|         26|         PE|             0|             0|             0|             0|       null|       null|       null|       null|      null|      null|      null|      null|                null|                null|                null|                null|        0|                null|                null|                null|                null|             null|         null|         null|         null|         null|         null|           null|null|null|null|null|null|null|null|null|null|null|null|null|null|null|null|null|null|null|null|null|null|null|null|null|null|\n",
            "|200001334237|  2020|              4|      M|              1|          1|               1|              1|              1|        1|     null|           0|            null|               null|     null|     null|                  null|              null|           null|           3550308|          São Paulo|         35|         SP|             1|             1|             1|             1|        699|        687|        691|        695|     604.6|     604.8|     562.1|     753.2|CECACBBCADACADDEE...|EAADABBEABCADDBAA...|CADDE99999AEEADBA...|BABADDBDAEBAEBBBE...|        0|DEAAECBBCDCBAEBEE...|EAAADBBEDBDACDBCC...|CADDE99999DEBBBBB...|BABBDABAEEBACBACD...|                1|          140|          120|          120|          120|          100|            600|null|null|null|null|null|null|null|null|null|null|null|null|null|null|null|null|null|null|null|null|null|null|null|null|null|\n",
            "|200006762554|  2020|              5|      F|              2|          3|               1|              1|              3|        1|     null|           0|            null|               null|     null|     null|                  null|              null|           null|           2507507|        João Pessoa|         25|         PB|             1|             1|             1|             1|        598|        567|        577|        588|     439.7|     383.5|     486.2|     448.5|DABCDCAEDEDCBEDCD...|ECCAEAEACDDABCBDA...|99999DDCBBABECCAC...|EEDCCEACEBAAAADCD...|        1|CEDBDDDCACCBDAEBA...|DABCBDDDAEDBECECB...|AAEDCACEEECEAACBA...|AEBCCXCCCACCDABCC...|                1|          120|          120|          120|          140|          100|            600|   B|   C|   C|   B|   2|   B|   A|   B|   C|   A|   A|   B|   A|   B|   A|   A|   A|   A|   B|   A|   A|   C|   A|   A|   A|\n",
            "|200005146210|  2020|              2|      M|              1|          2|               1|              2|              0|        2|        1|           0|            null|               null|     null|     null|                  null|              null|           null|           2304400|          Fortaleza|         23|         CE|             0|             0|             0|             0|       null|       null|       null|       null|      null|      null|      null|      null|                null|                null|                null|                null|        0|                null|                null|                null|                null|             null|         null|         null|         null|         null|         null|           null|   A|   A|   B|   A|   4|   B|   A|   B|   B|   A|   A|   B|   A|   A|   A|   A|   A|   A|   B|   A|   A|   A|   A|   A|   B|\n",
            "+------------+------+---------------+-------+---------------+-----------+----------------+---------------+---------------+---------+---------+------------+----------------+-------------------+---------+---------+----------------------+------------------+---------------+------------------+-------------------+-----------+-----------+--------------+--------------+--------------+--------------+-----------+-----------+-----------+-----------+----------+----------+----------+----------+--------------------+--------------------+--------------------+--------------------+---------+--------------------+--------------------+--------------------+--------------------+-----------------+-------------+-------------+-------------+-------------+-------------+---------------+----+----+----+----+----+----+----+----+----+----+----+----+----+----+----+----+----+----+----+----+----+----+----+----+----+\n",
            "only showing top 10 rows\n",
            "\n",
            "CPU times: user 6.71 ms, sys: 76 µs, total: 6.79 ms\n",
            "Wall time: 712 ms\n"
          ]
        }
      ],
      "source": [
        "%%time\n",
        "\n",
        "# Pra ler o arquivo Parquet, pode usar a mesma variável criada para alocar o aquivo na célula anterior\n",
        "mida_parquet = spark.read.parquet(parquet_path)\n",
        "mida_parquet.show(10)"
      ]
    },
    {
      "cell_type": "markdown",
      "source": [
        "Parte do processo de ETL é a seleção das colunas que contém os dados importantes para análises posteriores pela equipe de Analytics."
      ],
      "metadata": {
        "id": "DFHkGUHr-Cdy"
      }
    },
    {
      "cell_type": "markdown",
      "source": [
        "Em um dataset que contém muitas colunas como esse, para manter o código limpo é interessante colocar as colunas selecionadas para deleção em uma variável antes de colocar na função. Isso é realizado utilizando o documento de dicionário de dados."
      ],
      "metadata": {
        "id": "m8I1WWjX-0bx"
      }
    },
    {
      "cell_type": "code",
      "execution_count": null,
      "metadata": {
        "id": "E7NuMVpygC2h",
        "colab": {
          "base_uri": "https://localhost:8080/"
        },
        "outputId": "a6ab3b54-7460-4421-c4b0-469dd14b00a6"
      },
      "outputs": [
        {
          "output_type": "execute_result",
          "data": {
            "text/plain": [
              "['NU_INSCRICAO',\n",
              " 'NU_ANO',\n",
              " 'TP_FAIXA_ETARIA',\n",
              " 'TP_SEXO',\n",
              " 'TP_ESTADO_CIVIL',\n",
              " 'TP_COR_RACA',\n",
              " 'TP_NACIONALIDADE',\n",
              " 'TP_ST_CONCLUSAO',\n",
              " 'TP_ANO_CONCLUIU',\n",
              " 'TP_ESCOLA',\n",
              " 'TP_ENSINO',\n",
              " 'IN_TREINEIRO',\n",
              " 'CO_MUNICIPIO_ESC',\n",
              " 'NO_MUNICIPIO_ESC',\n",
              " 'CO_UF_ESC',\n",
              " 'SG_UF_ESC',\n",
              " 'TP_DEPENDENCIA_ADM_ESC',\n",
              " 'TP_LOCALIZACAO_ESC',\n",
              " 'TP_SIT_FUNC_ESC',\n",
              " 'CO_MUNICIPIO_PROVA',\n",
              " 'NO_MUNICIPIO_PROVA',\n",
              " 'CO_UF_PROVA',\n",
              " 'SG_UF_PROVA',\n",
              " 'TP_PRESENCA_CN',\n",
              " 'TP_PRESENCA_CH',\n",
              " 'TP_PRESENCA_LC',\n",
              " 'TP_PRESENCA_MT',\n",
              " 'CO_PROVA_CN',\n",
              " 'CO_PROVA_CH',\n",
              " 'CO_PROVA_LC',\n",
              " 'CO_PROVA_MT',\n",
              " 'NU_NOTA_CN',\n",
              " 'NU_NOTA_CH',\n",
              " 'NU_NOTA_LC',\n",
              " 'NU_NOTA_MT',\n",
              " 'TX_RESPOSTAS_CN',\n",
              " 'TX_RESPOSTAS_CH',\n",
              " 'TX_RESPOSTAS_LC',\n",
              " 'TX_RESPOSTAS_MT',\n",
              " 'TP_LINGUA',\n",
              " 'TX_GABARITO_CN',\n",
              " 'TX_GABARITO_CH',\n",
              " 'TX_GABARITO_LC',\n",
              " 'TX_GABARITO_MT',\n",
              " 'TP_STATUS_REDACAO',\n",
              " 'NU_NOTA_COMP1',\n",
              " 'NU_NOTA_COMP2',\n",
              " 'NU_NOTA_COMP3',\n",
              " 'NU_NOTA_COMP4',\n",
              " 'NU_NOTA_COMP5',\n",
              " 'NU_NOTA_REDACAO',\n",
              " 'Q001',\n",
              " 'Q002',\n",
              " 'Q003',\n",
              " 'Q004',\n",
              " 'Q005',\n",
              " 'Q006',\n",
              " 'Q007',\n",
              " 'Q008',\n",
              " 'Q009',\n",
              " 'Q010',\n",
              " 'Q011',\n",
              " 'Q012',\n",
              " 'Q013',\n",
              " 'Q014',\n",
              " 'Q015',\n",
              " 'Q016',\n",
              " 'Q017',\n",
              " 'Q018',\n",
              " 'Q019',\n",
              " 'Q020',\n",
              " 'Q021',\n",
              " 'Q022',\n",
              " 'Q023',\n",
              " 'Q024',\n",
              " 'Q025']"
            ]
          },
          "metadata": {},
          "execution_count": 27
        }
      ],
      "source": [
        "# Imprimindo as colunas em uma lista\n",
        "list(mida_parquet.columns)"
      ]
    },
    {
      "cell_type": "code",
      "source": [
        "# Selecionando as colunas que não serão utilizadas\n",
        "dropcols = ('TX_RESPOSTAS_CN',\n",
        " 'TX_RESPOSTAS_CH',\n",
        " 'TX_RESPOSTAS_LC',\n",
        " 'TX_RESPOSTAS_MT',\n",
        " 'TX_GABARITO_CN',\n",
        " 'TX_GABARITO_CH',\n",
        " 'TX_GABARITO_LC',\n",
        " 'TX_GABARITO_MT',\n",
        " 'Q001',\n",
        " 'Q002',\n",
        " 'Q003',\n",
        " 'Q004',\n",
        " 'Q005',\n",
        " 'Q006',\n",
        " 'Q007',\n",
        " 'Q008',\n",
        " 'Q009',\n",
        " 'Q010',\n",
        " 'Q011',\n",
        " 'Q012',\n",
        " 'Q013',\n",
        " 'Q014',\n",
        " 'Q015',\n",
        " 'Q016',\n",
        " 'Q017',\n",
        " 'Q018',\n",
        " 'Q019',\n",
        " 'Q020',\n",
        " 'Q021',\n",
        " 'Q022',\n",
        " 'Q023',\n",
        " 'Q024',\n",
        " 'Q025')"
      ],
      "metadata": {
        "id": "cXvOU8dW_oVw"
      },
      "execution_count": null,
      "outputs": []
    },
    {
      "cell_type": "code",
      "execution_count": null,
      "metadata": {
        "id": "JkUF4yJFgG25",
        "colab": {
          "base_uri": "https://localhost:8080/"
        },
        "outputId": "5466dcc9-b681-4c57-8646-548116e2190e"
      },
      "outputs": [
        {
          "output_type": "stream",
          "name": "stdout",
          "text": [
            "+------------+------+---------------+-------+---------------+-----------+----------------+---------------+---------------+---------+---------+------------+----------------+-------------------+---------+---------+----------------------+------------------+---------------+------------------+-------------------+-----------+-----------+--------------+--------------+--------------+--------------+-----------+-----------+-----------+-----------+----------+----------+----------+----------+---------+-----------------+-------------+-------------+-------------+-------------+-------------+---------------+\n",
            "|NU_INSCRICAO|NU_ANO|TP_FAIXA_ETARIA|TP_SEXO|TP_ESTADO_CIVIL|TP_COR_RACA|TP_NACIONALIDADE|TP_ST_CONCLUSAO|TP_ANO_CONCLUIU|TP_ESCOLA|TP_ENSINO|IN_TREINEIRO|CO_MUNICIPIO_ESC|   NO_MUNICIPIO_ESC|CO_UF_ESC|SG_UF_ESC|TP_DEPENDENCIA_ADM_ESC|TP_LOCALIZACAO_ESC|TP_SIT_FUNC_ESC|CO_MUNICIPIO_PROVA| NO_MUNICIPIO_PROVA|CO_UF_PROVA|SG_UF_PROVA|TP_PRESENCA_CN|TP_PRESENCA_CH|TP_PRESENCA_LC|TP_PRESENCA_MT|CO_PROVA_CN|CO_PROVA_CH|CO_PROVA_LC|CO_PROVA_MT|NU_NOTA_CN|NU_NOTA_CH|NU_NOTA_LC|NU_NOTA_MT|TP_LINGUA|TP_STATUS_REDACAO|NU_NOTA_COMP1|NU_NOTA_COMP2|NU_NOTA_COMP3|NU_NOTA_COMP4|NU_NOTA_COMP5|NU_NOTA_REDACAO|\n",
            "+------------+------+---------------+-------+---------------+-----------+----------------+---------------+---------------+---------+---------+------------+----------------+-------------------+---------+---------+----------------------+------------------+---------------+------------------+-------------------+-----------+-----------+--------------+--------------+--------------+--------------+-----------+-----------+-----------+-----------+----------+----------+----------+----------+---------+-----------------+-------------+-------------+-------------+-------------+-------------+---------------+\n",
            "|200006271946|  2020|             11|      F|              1|          2|               1|              1|             11|        1|     null|           0|            null|               null|     null|     null|                  null|              null|           null|           1501402|              Belém|         15|         PA|             0|             0|             0|             0|       null|       null|       null|       null|      null|      null|      null|      null|        1|             null|         null|         null|         null|         null|         null|           null|\n",
            "|200001195856|  2020|             11|      M|              2|          3|               1|              1|             11|        1|     null|           0|            null|               null|     null|     null|                  null|              null|           null|           2408102|              Natal|         24|         RN|             1|             1|             1|             1|        702|        689|        693|        698|     604.1|     661.7|     595.3|     711.3|        1|                1|          120|          120|          120|          120|          100|            580|\n",
            "|200001943954|  2020|              4|      F|              2|          3|               2|              2|              0|        2|        1|           0|         2927408|           Salvador|       29|       BA|                     2|                 1|              1|           2927408|           Salvador|         29|         BA|             0|             0|             0|             0|       null|       null|       null|       null|      null|      null|      null|      null|        0|             null|         null|         null|         null|         null|         null|           null|\n",
            "|200001908998|  2020|              2|      M|              1|          3|               1|              2|              0|        2|        1|           0|         3547304|Santana de Parnaíba|       35|       SP|                     3|                 1|              1|           3547304|Santana de Parnaíba|         35|         SP|             1|             1|             1|             1|        700|        688|        692|        696|     620.8|       675|     624.2|     759.4|        0|                1|          140|          200|          140|          120|          160|            760|\n",
            "|200001634757|  2020|              4|      F|              1|          3|               2|              1|              1|        1|     null|           0|            null|               null|     null|     null|                  null|              null|           null|           3121605|         Diamantina|         31|         MG|             0|             0|             0|             0|       null|       null|       null|       null|      null|      null|      null|      null|        1|             null|         null|         null|         null|         null|         null|           null|\n",
            "|200003132410|  2020|              3|      F|              1|          3|               1|              1|              1|        1|     null|           0|            null|               null|     null|     null|                  null|              null|           null|           4305207|        Cerro Largo|         43|         RS|             1|             1|             1|             1|        598|        567|        577|        588|     498.1|     604.7|     505.4|     526.7|        1|                1|          140|          120|          140|          140|          160|            700|\n",
            "|200001379770|  2020|              9|      M|              1|          3|               1|              1|              6|        1|     null|           0|            null|               null|     null|     null|                  null|              null|           null|           2611606|             Recife|         26|         PE|             0|             0|             0|             0|       null|       null|       null|       null|      null|      null|      null|      null|        0|             null|         null|         null|         null|         null|         null|           null|\n",
            "|200001334237|  2020|              4|      M|              1|          1|               1|              1|              1|        1|     null|           0|            null|               null|     null|     null|                  null|              null|           null|           3550308|          São Paulo|         35|         SP|             1|             1|             1|             1|        699|        687|        691|        695|     604.6|     604.8|     562.1|     753.2|        0|                1|          140|          120|          120|          120|          100|            600|\n",
            "|200006762554|  2020|              5|      F|              2|          3|               1|              1|              3|        1|     null|           0|            null|               null|     null|     null|                  null|              null|           null|           2507507|        João Pessoa|         25|         PB|             1|             1|             1|             1|        598|        567|        577|        588|     439.7|     383.5|     486.2|     448.5|        1|                1|          120|          120|          120|          140|          100|            600|\n",
            "|200005146210|  2020|              2|      M|              1|          2|               1|              2|              0|        2|        1|           0|            null|               null|     null|     null|                  null|              null|           null|           2304400|          Fortaleza|         23|         CE|             0|             0|             0|             0|       null|       null|       null|       null|      null|      null|      null|      null|        0|             null|         null|         null|         null|         null|         null|           null|\n",
            "+------------+------+---------------+-------+---------------+-----------+----------------+---------------+---------------+---------+---------+------------+----------------+-------------------+---------+---------+----------------------+------------------+---------------+------------------+-------------------+-----------+-----------+--------------+--------------+--------------+--------------+-----------+-----------+-----------+-----------+----------+----------+----------+----------+---------+-----------------+-------------+-------------+-------------+-------------+-------------+---------------+\n",
            "only showing top 10 rows\n",
            "\n"
          ]
        }
      ],
      "source": [
        "mida_parquet = mida_parquet.drop(*dropcols)\n",
        "mida_parquet.show(10)"
      ]
    },
    {
      "cell_type": "code",
      "execution_count": null,
      "metadata": {
        "id": "o3IB6VxLgGYi",
        "colab": {
          "base_uri": "https://localhost:8080/"
        },
        "outputId": "1b7376fb-e59d-4e12-8ad3-afdf9e6b1740"
      },
      "outputs": [
        {
          "output_type": "execute_result",
          "data": {
            "text/plain": [
              "5783109"
            ]
          },
          "metadata": {},
          "execution_count": 28
        }
      ],
      "source": [
        "mida_parquet.count()"
      ]
    },
    {
      "cell_type": "markdown",
      "source": [
        "Até esse momento foi realizado uma transformação simples dos dados alterando o formato do arquivo e removendo colunas não essenciais para o trabalho de analytics. Agora o arquivo se encontra na pasta /silver."
      ],
      "metadata": {
        "id": "zZo57UWjNuFT"
      }
    },
    {
      "cell_type": "code",
      "source": [
        "# Listando as colunas\n",
        "mida_parquet.columns"
      ],
      "metadata": {
        "id": "9q3OfZrJN5LH"
      },
      "execution_count": null,
      "outputs": []
    },
    {
      "cell_type": "markdown",
      "source": [
        "Para a área de Analytics, as colunas selecionadas serão renomeadas."
      ],
      "metadata": {
        "id": "UlIgQJsYOwJU"
      }
    },
    {
      "cell_type": "code",
      "source": [
        "enem_gold = mida_parquet.withColumnsRenamed({\n",
        " 'NU_INSCRICAO':'INSCRICAO',\n",
        " 'NU_ANO':'ANO',\n",
        " 'TP_FAIXA_ETARIA':'FAIXA_ETARIA',\n",
        " 'TP_SEXO':'SEXO',\n",
        " 'TP_COR_RACA':'COR_RACA',\n",
        " 'TP_ST_CONCLUSAO':'ST_CONCLUSAO',\n",
        " 'TP_ANO_CONCLUIU':'ANO_CONCLUIU',\n",
        " 'TP_ESCOLA':'ESCOLA',\n",
        " 'TP_ENSINO':'ENSINO',\n",
        " 'IN_TREINEIRO':'TREINEIRO',\n",
        " 'SG_UF_PROVA':'UF_PROVA',\n",
        " 'TP_PRESENCA_CN':'PRE_C_NATURAIS',\n",
        " 'TP_PRESENCA_CH':'PRE_C_HUMANAS',\n",
        " 'TP_PRESENCA_LC':'PRE_LINGUAGENS',\n",
        " 'TP_PRESENCA_MT':'PRE_MATEMATICA',\n",
        " 'NU_NOTA_CN':'NOTA_C_NATURAIS',\n",
        " 'NU_NOTA_CH':'NOTA_C_HUMANAS',\n",
        " 'NU_NOTA_LC':'NOTA_LINGAGENS',\n",
        " 'NU_NOTA_MT':'NOTA_MATEMATICA',\n",
        " 'TP_LINGUA':'LINGUA_ESTR',\n",
        " 'TP_STATUS_REDACAO':'STATUS_REDACAO',\n",
        " 'NU_NOTA_COMP1':'NOTA_COMP1',\n",
        " 'NU_NOTA_COMP2':'NOTA_COMP2',\n",
        " 'NU_NOTA_COMP3':'NOTA_COMP3',\n",
        " 'NU_NOTA_COMP4':'NOTA_COMP4',\n",
        " 'NU_NOTA_COMP5':'NOTA_COMP5',\n",
        " 'NU_NOTA_REDACAO':'NOTA_REDACAO'\n",
        " })"
      ],
      "metadata": {
        "id": "LOiU5M-jOubJ"
      },
      "execution_count": null,
      "outputs": []
    },
    {
      "cell_type": "code",
      "source": [
        "# Visualizando os dados com as colunas renomeadas\n",
        "enem_gold.limit(5)"
      ],
      "metadata": {
        "id": "WUYAGjk-PXEA"
      },
      "execution_count": null,
      "outputs": []
    },
    {
      "cell_type": "markdown",
      "source": [
        "Analisando os tipos das variáveis do arquivo, estão todas classificadas como string. As variáveis que não condizem com essa modelagem para análise receberão um novo formato."
      ],
      "metadata": {
        "id": "3QxBJvdlPhF0"
      }
    },
    {
      "cell_type": "code",
      "source": [
        "list(enem_gold.schema)"
      ],
      "metadata": {
        "id": "M4wA4eUiQC75"
      },
      "execution_count": null,
      "outputs": []
    },
    {
      "cell_type": "code",
      "source": [
        "# Importando o pacote types do PySpark para alterar os dados do dataframe\n",
        "from pyspark.sql.types import StructType, StructField, StringType, IntegerType"
      ],
      "metadata": {
        "id": "y_FQzlQRQHxw"
      },
      "execution_count": null,
      "outputs": []
    },
    {
      "cell_type": "code",
      "source": [
        "# alterando o formato dos dados no df\n",
        "enem_gold = enem_gold.select(\n",
        " enem_gold.INSCRICAO.cast(StringType()),\n",
        " enem_gold.ANO.cast(StringType()),\n",
        " enem_gold.FAIXA_ETARIA.cast(StringType()),\n",
        " enem_gold.SEXO.cast(StringType()),\n",
        " enem_gold.COR_RACA.cast(StringType()),\n",
        " enem_gold.ST_CONCLUSAO.cast(StringType()),\n",
        " enem_gold.ANO_CONCLUIU.cast(StringType()),\n",
        " enem_gold.ESCOLA.cast(StringType()),\n",
        " enem_gold.ENSINO.cast(StringType()),\n",
        " enem_gold.TREINEIRO.cast(StringType()),\n",
        " enem_gold.UF_PROVA.cast(StringType()),\n",
        " enem_gold.PRE_C_NATURAIS.cast(StringType()),\n",
        " enem_gold.PRE_C_HUMANAS.cast(StringType()),\n",
        " enem_gold.PRE_LINGUAGENS.cast(StringType()),\n",
        " enem_gold.PRE_MATEMATICA.cast(StringType()),\n",
        " enem_gold.NOTA_C_NATURAIS.cast(IntegerType()),\n",
        " enem_gold.NOTA_C_HUMANAS.cast(IntegerType()),\n",
        " enem_gold.NOTA_LINGAGENS.cast(IntegerType()),\n",
        " enem_gold.NOTA_MATEMATICA.cast(IntegerType()),\n",
        " enem_gold.LINGUA_ESTR.cast(StringType()),\n",
        " enem_gold.STATUS_REDACAO.cast(StringType()),\n",
        " enem_gold.NOTA_COMP1.cast(IntegerType()),\n",
        " enem_gold.NOTA_COMP2.cast(IntegerType()),\n",
        " enem_gold.NOTA_COMP3.cast(IntegerType()),\n",
        " enem_gold.NOTA_COMP4.cast(IntegerType()),\n",
        " enem_gold.NOTA_COMP5.cast(IntegerType()),\n",
        " enem_gold.NOTA_REDACAO.cast(IntegerType())\n",
        ")\n",
        "\n",
        "# visualizando o schema do df após alteração\n",
        "list(enem_gold.schema)"
      ],
      "metadata": {
        "colab": {
          "base_uri": "https://localhost:8080/",
          "height": 144
        },
        "id": "PCO-nmELQPTw",
        "outputId": "c727cb5b-8fe2-4e93-c1db-a70df85c4630"
      },
      "execution_count": 5,
      "outputs": [
        {
          "output_type": "error",
          "ename": "NameError",
          "evalue": "name 'enem_refined' is not defined",
          "traceback": [
            "\u001b[0;31m---------------------------------------------------------------------------\u001b[0m",
            "\u001b[0;31mNameError\u001b[0m                                 Traceback (most recent call last)",
            "\u001b[0;32m<ipython-input-5-70937ae8e8b8>\u001b[0m in \u001b[0;36m<cell line: 1>\u001b[0;34m()\u001b[0m\n\u001b[0;32m----> 1\u001b[0;31m \u001b[0menem_refined\u001b[0m\u001b[0;34m\u001b[0m\u001b[0;34m\u001b[0m\u001b[0m\n\u001b[0m",
            "\u001b[0;31mNameError\u001b[0m: name 'enem_refined' is not defined"
          ]
        }
      ]
    },
    {
      "cell_type": "code",
      "source": [
        "enem_gold.limit(5)"
      ],
      "metadata": {
        "id": "AiFIa82OQrME"
      },
      "execution_count": null,
      "outputs": []
    },
    {
      "cell_type": "markdown",
      "source": [
        "Finalizando o arquivo agora com os dados tratados e selecionados, resta salvar no diretório do último estágio do processo de ETL: gold."
      ],
      "metadata": {
        "id": "xFv2vv0fRE6Z"
      }
    },
    {
      "cell_type": "code",
      "source": [
        "# Caminho para salvar o arquivo gold\n",
        "gold_path = \"/content/enem_2020/3.gold/ENEM_2020_GOLD.parquet\"\n",
        "\n",
        "# Salvar o DataFrame na pasta gold\n",
        "dados_enem.write.parquet(gold_path)\n",
        "#dados_enem.write.mode(\"overwrite\").parquet(parquet_path)"
      ],
      "metadata": {
        "id": "PWVW5ga8RG3n"
      },
      "execution_count": null,
      "outputs": []
    }
  ]
}