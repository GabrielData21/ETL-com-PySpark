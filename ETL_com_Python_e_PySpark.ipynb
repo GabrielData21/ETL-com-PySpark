{
  "nbformat": 4,
  "nbformat_minor": 0,
  "metadata": {
    "colab": {
      "provenance": [],
      "collapsed_sections": [
        "qJoeN3e8_Gzk",
        "Dd6t0uFzuR4X",
        "8qf-TmnsBgXd",
        "3UJoYm5zwOWp",
        "mI_zYOVpf2yK",
        "NiU1nhA3y0j4",
        "9sDnyyzozVxA",
        "D7Dw2UpQ08-9",
        "hiKFyArf14B0",
        "9lAyzg282V_4",
        "-aQQ2gBF3Azz",
        "oSOpIOhJ4etN"
      ],
      "include_colab_link": true
    },
    "kernelspec": {
      "name": "python3",
      "display_name": "Python 3"
    },
    "language_info": {
      "name": "python"
    }
  },
  "cells": [
    {
      "cell_type": "markdown",
      "metadata": {
        "id": "view-in-github",
        "colab_type": "text"
      },
      "source": [
        "<a href=\"https://colab.research.google.com/github/GabrielData21/ETL-com-PySpark/blob/main/ETL_com_Python_e_PySpark.ipynb\" target=\"_parent\"><img src=\"https://colab.research.google.com/assets/colab-badge.svg\" alt=\"Open In Colab\"/></a>"
      ]
    },
    {
      "cell_type": "markdown",
      "source": [
        "# Pipeline de ETL com Python (PySpark)"
      ],
      "metadata": {
        "id": "ZZPtipYTrbgk"
      }
    },
    {
      "cell_type": "markdown",
      "source": [
        "**Descrição da atividade**\n",
        "\n",
        "O objetivo desse projeto é desenvolver um processo de ETL utilizando liguagem Python e o framework PySpark, considerando 3 estágios de transformação dos dados: raw, staging e refined. Foram utilizados os dados do ENEM 2020 para o exercício desse projeto.\n"
      ],
      "metadata": {
        "id": "dTZDpUrdtXZf"
      }
    },
    {
      "cell_type": "markdown",
      "source": [
        "Usei o chatGPT pra conseguir alguns comandos que vão ajudar na execução do ETL."
      ],
      "metadata": {
        "id": "PH8wxPGMSJU5"
      }
    },
    {
      "cell_type": "markdown",
      "metadata": {
        "id": "Dd6t0uFzuR4X"
      },
      "source": [
        "## Instalando PySpark"
      ]
    },
    {
      "cell_type": "markdown",
      "source": [
        "A partir da versão 3.4.0 é possível realizar a instalação do PySpark no Google Colab de forma isolada. Em versões anteriores era necessário instalar o ambiente com Hadoop, java e outros módulos."
      ],
      "metadata": {
        "id": "qu34sKRJvhq_"
      }
    },
    {
      "cell_type": "code",
      "execution_count": 1,
      "metadata": {
        "id": "We2yp-o7Hgu9",
        "colab": {
          "base_uri": "https://localhost:8080/"
        },
        "outputId": "bc193ed6-e8f8-408f-a428-b524f8007adc"
      },
      "outputs": [
        {
          "output_type": "stream",
          "name": "stdout",
          "text": [
            "Collecting pyspark==3.4.0\n",
            "  Downloading pyspark-3.4.0.tar.gz (310.8 MB)\n",
            "\u001b[2K     \u001b[90m━━━━━━━━━━━━━━━━━━━━━━━━━━━━━━━━━━━━━━━\u001b[0m \u001b[32m310.8/310.8 MB\u001b[0m \u001b[31m2.9 MB/s\u001b[0m eta \u001b[36m0:00:00\u001b[0m\n",
            "\u001b[?25h  Preparing metadata (setup.py) ... \u001b[?25l\u001b[?25hdone\n",
            "Requirement already satisfied: py4j==0.10.9.7 in /usr/local/lib/python3.10/dist-packages (from pyspark==3.4.0) (0.10.9.7)\n",
            "Building wheels for collected packages: pyspark\n",
            "  Building wheel for pyspark (setup.py) ... \u001b[?25l\u001b[?25hdone\n",
            "  Created wheel for pyspark: filename=pyspark-3.4.0-py2.py3-none-any.whl size=311317123 sha256=e4f8d85849fd280d75d85316c287f85e496bb7bfc556e987b068060a3214c775\n",
            "  Stored in directory: /root/.cache/pip/wheels/7b/1b/4b/3363a1d04368e7ff0d408e57ff57966fcdf00583774e761327\n",
            "Successfully built pyspark\n",
            "Installing collected packages: pyspark\n",
            "Successfully installed pyspark-3.4.0\n"
          ]
        }
      ],
      "source": [
        "# Instalando o PySpark\n",
        "!pip install pyspark==3.4.0"
      ]
    },
    {
      "cell_type": "code",
      "source": [
        "# Iniciando sessão do PySpark\n",
        "from pyspark.sql import SparkSession\n",
        "spark = SparkSession.builder.appName(\"ETL-enem\").getOrCreate()\n",
        "spark"
      ],
      "metadata": {
        "colab": {
          "base_uri": "https://localhost:8080/",
          "height": 222
        },
        "id": "ULkClcAtSYDV",
        "outputId": "bca0a968-253b-463c-dfac-ae998857ad9c"
      },
      "execution_count": 2,
      "outputs": [
        {
          "output_type": "execute_result",
          "data": {
            "text/plain": [
              "<pyspark.sql.session.SparkSession at 0x7faa50f49000>"
            ],
            "text/html": [
              "\n",
              "            <div>\n",
              "                <p><b>SparkSession - in-memory</b></p>\n",
              "                \n",
              "        <div>\n",
              "            <p><b>SparkContext</b></p>\n",
              "\n",
              "            <p><a href=\"http://1ce4b579e06d:4040\">Spark UI</a></p>\n",
              "\n",
              "            <dl>\n",
              "              <dt>Version</dt>\n",
              "                <dd><code>v3.4.0</code></dd>\n",
              "              <dt>Master</dt>\n",
              "                <dd><code>local[*]</code></dd>\n",
              "              <dt>AppName</dt>\n",
              "                <dd><code>ETL-enem</code></dd>\n",
              "            </dl>\n",
              "        </div>\n",
              "        \n",
              "            </div>\n",
              "        "
            ]
          },
          "metadata": {},
          "execution_count": 2
        }
      ]
    },
    {
      "cell_type": "code",
      "source": [
        "spark.conf.set(\"spark.sql.repl.eagerEval.enabled\", True)"
      ],
      "metadata": {
        "id": "uT6Q3xJSPgVH"
      },
      "execution_count": 62,
      "outputs": []
    },
    {
      "cell_type": "markdown",
      "source": [
        "# Organizando o ambiente para os arquivos do ETL"
      ],
      "metadata": {
        "id": "13jhiprkXri1"
      }
    },
    {
      "cell_type": "markdown",
      "source": [
        "Solicitei ao chatGPT os comandos adequados para criar as pastas onde vamos guardar os arquivos do ETL em seus 3 estágios: raw, staging e refined. Os comando são os mesmos utilizados no Linux Shell para criação de diretórios."
      ],
      "metadata": {
        "id": "U3Ciz2-_Xzmu"
      }
    },
    {
      "cell_type": "code",
      "source": [
        "# Criando a pasta mestre do projeto\n",
        "!mkdir enem_2020/"
      ],
      "metadata": {
        "id": "6ob_vdkcYZlV"
      },
      "execution_count": 3,
      "outputs": []
    },
    {
      "cell_type": "code",
      "source": [
        "# Criando as pastas dos estágios do ETL\n",
        "!mkdir enem_2020/1.raw/ enem_2020/2.staging/ enem_2020/3.refined/"
      ],
      "metadata": {
        "id": "kRsc5UKnnI60"
      },
      "execution_count": 4,
      "outputs": []
    },
    {
      "cell_type": "markdown",
      "metadata": {
        "id": "8qf-TmnsBgXd"
      },
      "source": [
        "## Aquisição de dados ENEM"
      ]
    },
    {
      "cell_type": "markdown",
      "metadata": {
        "id": "0ysUlfFrN5OD"
      },
      "source": [
        "### Download e pré processamento dos dados"
      ]
    },
    {
      "cell_type": "code",
      "execution_count": 5,
      "metadata": {
        "id": "FDtw5Hy3N-pV",
        "colab": {
          "base_uri": "https://localhost:8080/"
        },
        "outputId": "4867e951-a602-45b2-d11a-fcd33f0185ef"
      },
      "outputs": [
        {
          "output_type": "stream",
          "name": "stdout",
          "text": [
            "--2023-09-21 16:09:26--  https://download.inep.gov.br/microdados/microdados_enem_2020.zip\n",
            "Resolving download.inep.gov.br (download.inep.gov.br)... 200.130.24.15\n",
            "Connecting to download.inep.gov.br (download.inep.gov.br)|200.130.24.15|:443... connected.\n",
            "WARNING: cannot verify download.inep.gov.br's certificate, issued by ‘CN=RNP ICPEdu OV SSL CA 2019,O=Rede Nacional de Ensino e Pesquisa - RNP,C=BR’:\n",
            "  Unable to locally verify the issuer's authority.\n",
            "HTTP request sent, awaiting response... 200 OK\n",
            "Length: 620776982 (592M) [application/zip]\n",
            "Saving to: ‘microdados_enem_2020.zip’\n",
            "\n",
            "microdados_enem_202 100%[===================>] 592.02M   444KB/s    in 24m 8s  \n",
            "\n",
            "2023-09-21 16:33:35 (419 KB/s) - ‘microdados_enem_2020.zip’ saved [620776982/620776982]\n",
            "\n"
          ]
        }
      ],
      "source": [
        "# Captação dos dados do ENEM 2020\n",
        "!wget https://download.inep.gov.br/microdados/microdados_enem_2020.zip --no-check-certificate"
      ]
    },
    {
      "cell_type": "code",
      "source": [
        "# Mostrando os arquivos baixados\n",
        "!ls -l"
      ],
      "metadata": {
        "colab": {
          "base_uri": "https://localhost:8080/"
        },
        "id": "LulYpdlbd_U7",
        "outputId": "b46f7075-501c-4199-ed00-28faa1db97fc"
      },
      "execution_count": 6,
      "outputs": [
        {
          "output_type": "stream",
          "name": "stdout",
          "text": [
            "total 606240\n",
            "drwxr-xr-x 5 root root      4096 Sep 21 16:09 enem_2020\n",
            "-rw-r--r-- 1 root root 620776982 Feb 16  2022 microdados_enem_2020.zip\n",
            "drwxr-xr-x 1 root root      4096 Sep 19 13:44 sample_data\n"
          ]
        }
      ]
    },
    {
      "cell_type": "markdown",
      "source": [
        "Os arquivos do ENEM são recebidos em formato compactado, para fazer a descompactação existem duas opções: usando comandos linux shell (através do unzip) ou usando o pacote zipfile do Python. Como este exercício é uma prática em Python e PySpark, usei o pacote zipfile. As recomendações para descompactação foram feitas pelo chatGPT."
      ],
      "metadata": {
        "id": "6sZm6CSDoKta"
      }
    },
    {
      "cell_type": "code",
      "source": [
        "# Importando pacote para descompactar o arquivo ENEM 2020\n",
        "import zipfile"
      ],
      "metadata": {
        "id": "9SGo6Kt5qgZE"
      },
      "execution_count": 7,
      "outputs": []
    },
    {
      "cell_type": "code",
      "source": [
        "# Medindo o tempo de descompactação\n",
        "%%time\n",
        "\n",
        "with zipfile.ZipFile('microdados_enem_2020.zip', 'r') as zip_ref:\n",
        "    zip_ref.extractall('enem_2020')"
      ],
      "metadata": {
        "colab": {
          "base_uri": "https://localhost:8080/"
        },
        "id": "WOghTzsSqjxb",
        "outputId": "ff9300fc-1e3a-40bd-db60-68229cefede6"
      },
      "execution_count": 8,
      "outputs": [
        {
          "output_type": "stream",
          "name": "stdout",
          "text": [
            "CPU times: user 15.5 s, sys: 8.64 s, total: 24.2 s\n",
            "Wall time: 31.8 s\n"
          ]
        }
      ]
    },
    {
      "cell_type": "markdown",
      "source": [
        "Outro passo necessário é organizar os arquivos da descompactação, usei apenas o arquivo principal para a transformação. Por isso ele será movido para a pasta /raw."
      ],
      "metadata": {
        "id": "1XYHYIyNpX0N"
      }
    },
    {
      "cell_type": "markdown",
      "source": [
        "Mover arquivos entre pastas usando comandos linux shell é bem simples através do comando mv. Novamente, para manter o treinamento voltado para Python, usei o pacote shutil para realizar a movimentação e seus comandos foram passados pelo chatGPT."
      ],
      "metadata": {
        "id": "t1o2Mb-WuBvT"
      }
    },
    {
      "cell_type": "code",
      "source": [
        "import shutil"
      ],
      "metadata": {
        "id": "W_DLEa0XpY3C"
      },
      "execution_count": 9,
      "outputs": []
    },
    {
      "cell_type": "code",
      "source": [
        "\"\"\"\n",
        "O código comentado abaixo foi passado pelo chat GPT,\n",
        "porém não é suficiente para realizar a movimentação da forma necessária.\n",
        "A documentação foi consultada para conseguir os detalhes faltantes.\n",
        "\"\"\"\n",
        "# shutil.move('arquivo.txt', 'nova_pasta/')\n",
        "\n",
        "# Atribuuindo os endereços dos dados a variáveis\n",
        "source = \"/content/enem_2020/DADOS/MICRODADOS_ENEM_2020.csv\"\n",
        "destination = \"/content/enem_2020/1.raw/MICRODADOS_ENEM_2020.csv\"\n",
        "\n",
        "# Realizando a movimentação\n",
        "shutil.move(source, destination)"
      ],
      "metadata": {
        "colab": {
          "base_uri": "https://localhost:8080/",
          "height": 36
        },
        "id": "1uSwcJdhuftM",
        "outputId": "6acefa97-4b38-45a7-cebe-c702460e679e"
      },
      "execution_count": 11,
      "outputs": [
        {
          "output_type": "execute_result",
          "data": {
            "text/plain": [
              "'/content/enem_2020/1.raw/MICRODADOS_ENEM_2020.csv'"
            ],
            "application/vnd.google.colaboratory.intrinsic+json": {
              "type": "string"
            }
          },
          "metadata": {},
          "execution_count": 11
        }
      ]
    },
    {
      "cell_type": "code",
      "execution_count": 63,
      "metadata": {
        "id": "9-1cK0nPNS95",
        "colab": {
          "base_uri": "https://localhost:8080/"
        },
        "outputId": "ecfab16d-050f-44c1-ddfc-075d7b6c40e5"
      },
      "outputs": [
        {
          "output_type": "stream",
          "name": "stdout",
          "text": [
            "+------------+------+---------------+-------+---------------+-----------+----------------+---------------+---------------+---------+---------+------------+----------------+-------------------+---------+---------+----------------------+------------------+---------------+------------------+-------------------+-----------+-----------+--------------+--------------+--------------+--------------+-----------+-----------+-----------+-----------+----------+----------+----------+----------+--------------------+--------------------+--------------------+--------------------+---------+--------------------+--------------------+--------------------+--------------------+-----------------+-------------+-------------+-------------+-------------+-------------+---------------+----+----+----+----+----+----+----+----+----+----+----+----+----+----+----+----+----+----+----+----+----+----+----+----+----+\n",
            "|NU_INSCRICAO|NU_ANO|TP_FAIXA_ETARIA|TP_SEXO|TP_ESTADO_CIVIL|TP_COR_RACA|TP_NACIONALIDADE|TP_ST_CONCLUSAO|TP_ANO_CONCLUIU|TP_ESCOLA|TP_ENSINO|IN_TREINEIRO|CO_MUNICIPIO_ESC|   NO_MUNICIPIO_ESC|CO_UF_ESC|SG_UF_ESC|TP_DEPENDENCIA_ADM_ESC|TP_LOCALIZACAO_ESC|TP_SIT_FUNC_ESC|CO_MUNICIPIO_PROVA| NO_MUNICIPIO_PROVA|CO_UF_PROVA|SG_UF_PROVA|TP_PRESENCA_CN|TP_PRESENCA_CH|TP_PRESENCA_LC|TP_PRESENCA_MT|CO_PROVA_CN|CO_PROVA_CH|CO_PROVA_LC|CO_PROVA_MT|NU_NOTA_CN|NU_NOTA_CH|NU_NOTA_LC|NU_NOTA_MT|     TX_RESPOSTAS_CN|     TX_RESPOSTAS_CH|     TX_RESPOSTAS_LC|     TX_RESPOSTAS_MT|TP_LINGUA|      TX_GABARITO_CN|      TX_GABARITO_CH|      TX_GABARITO_LC|      TX_GABARITO_MT|TP_STATUS_REDACAO|NU_NOTA_COMP1|NU_NOTA_COMP2|NU_NOTA_COMP3|NU_NOTA_COMP4|NU_NOTA_COMP5|NU_NOTA_REDACAO|Q001|Q002|Q003|Q004|Q005|Q006|Q007|Q008|Q009|Q010|Q011|Q012|Q013|Q014|Q015|Q016|Q017|Q018|Q019|Q020|Q021|Q022|Q023|Q024|Q025|\n",
            "+------------+------+---------------+-------+---------------+-----------+----------------+---------------+---------------+---------+---------+------------+----------------+-------------------+---------+---------+----------------------+------------------+---------------+------------------+-------------------+-----------+-----------+--------------+--------------+--------------+--------------+-----------+-----------+-----------+-----------+----------+----------+----------+----------+--------------------+--------------------+--------------------+--------------------+---------+--------------------+--------------------+--------------------+--------------------+-----------------+-------------+-------------+-------------+-------------+-------------+---------------+----+----+----+----+----+----+----+----+----+----+----+----+----+----+----+----+----+----+----+----+----+----+----+----+----+\n",
            "|200006271946|  2020|             11|      F|              1|          2|               1|              1|             11|        1|     null|           0|            null|               null|     null|     null|                  null|              null|           null|           1501402|              Belém|         15|         PA|             0|             0|             0|             0|       null|       null|       null|       null|      null|      null|      null|      null|                null|                null|                null|                null|        1|                null|                null|                null|                null|             null|         null|         null|         null|         null|         null|           null|null|null|null|null|null|null|null|null|null|null|null|null|null|null|null|null|null|null|null|null|null|null|null|null|null|\n",
            "|200001195856|  2020|             11|      M|              2|          3|               1|              1|             11|        1|     null|           0|            null|               null|     null|     null|                  null|              null|           null|           2408102|              Natal|         24|         RN|             1|             1|             1|             1|        702|        689|        693|        698|     604.1|     661.7|     595.3|     711.3|BCBDBDCCCDBDDBADE...|BCAECABCDCEBDBBBD...|99999CADDEDADBAAB...|EBEBDEDAECBADCADD...|        1|ABBACBCCCDDDDBAEE...|BCEECDBCCDEBDBBBB...|99999CBDDEDBDBACE...|BBEADECAECBBXCEBA...|                1|          120|          120|          120|          120|          100|            580|null|null|null|null|null|null|null|null|null|null|null|null|null|null|null|null|null|null|null|null|null|null|null|null|null|\n",
            "|200001943954|  2020|              4|      F|              2|          3|               2|              2|              0|        2|        1|           0|         2927408|           Salvador|       29|       BA|                     2|                 1|              1|           2927408|           Salvador|         29|         BA|             0|             0|             0|             0|       null|       null|       null|       null|      null|      null|      null|      null|                null|                null|                null|                null|        0|                null|                null|                null|                null|             null|         null|         null|         null|         null|         null|           null|   B|   C|   A|   D|   3|   B|   A|   B|   A|   A|   A|   B|   A|   B|   A|   B|   A|   A|   B|   A|   A|   A|   A|   A|   A|\n",
            "|200001908998|  2020|              2|      M|              1|          3|               1|              2|              0|        2|        1|           0|         3547304|Santana de Parnaíba|       35|       SP|                     3|                 1|              1|           3547304|Santana de Parnaíba|         35|         SP|             1|             1|             1|             1|        700|        688|        692|        696|     620.8|       675|     624.2|     759.4|EBEDCCCDCBDBAECAE...|DABCCACCBCCDCADBD...|DCEAB99999AADAECC...|CBDBDCCDDEECBAABB...|        0|BDECCACBEBDEAEDAE...|DABCCAECBABECADBD...|DCEAD99999AADACCC...|EBDBXCCDAEECBAABA...|                1|          140|          200|          140|          120|          160|            760|null|null|null|null|null|null|null|null|null|null|null|null|null|null|null|null|null|null|null|null|null|null|null|null|null|\n",
            "|200001634757|  2020|              4|      F|              1|          3|               2|              1|              1|        1|     null|           0|            null|               null|     null|     null|                  null|              null|           null|           3121605|         Diamantina|         31|         MG|             0|             0|             0|             0|       null|       null|       null|       null|      null|      null|      null|      null|                null|                null|                null|                null|        1|                null|                null|                null|                null|             null|         null|         null|         null|         null|         null|           null|   B|   G|   B|   B|   3|   B|   A|   B|   D|   A|   A|   B|   A|   B|   A|   A|   A|   A|   B|   A|   B|   B|   A|   A|   B|\n",
            "+------------+------+---------------+-------+---------------+-----------+----------------+---------------+---------------+---------+---------+------------+----------------+-------------------+---------+---------+----------------------+------------------+---------------+------------------+-------------------+-----------+-----------+--------------+--------------+--------------+--------------+-----------+-----------+-----------+-----------+----------+----------+----------+----------+--------------------+--------------------+--------------------+--------------------+---------+--------------------+--------------------+--------------------+--------------------+-----------------+-------------+-------------+-------------+-------------+-------------+---------------+----+----+----+----+----+----+----+----+----+----+----+----+----+----+----+----+----+----+----+----+----+----+----+----+----+\n",
            "only showing top 5 rows\n",
            "\n",
            "CPU times: user 10.7 ms, sys: 1.29 ms, total: 12 ms\n",
            "Wall time: 1.59 s\n"
          ]
        }
      ],
      "source": [
        "%%time\n",
        "import pyspark.sql.functions\n",
        "\n",
        "dados_enem = spark.read.csv('/content/enem_2020/1.raw/MICRODADOS_ENEM_2020.csv', header= True, sep=';', encoding='ISO-8859-1')\n",
        "dados_enem.show(5)"
      ]
    },
    {
      "cell_type": "code",
      "source": [
        "\"\"\"\n",
        "Verificando as colunas do DataFrame, avaliando junto à documetação do dicionário dos dados\n",
        "sobre o conteúdo, formato...\n",
        "\"\"\"\n",
        "dados_enem.columns"
      ],
      "metadata": {
        "id": "YDoMDzk0kWLF",
        "colab": {
          "base_uri": "https://localhost:8080/"
        },
        "outputId": "e933c22b-a823-4530-8f5b-e6c73bc67145"
      },
      "execution_count": 14,
      "outputs": [
        {
          "output_type": "execute_result",
          "data": {
            "text/plain": [
              "['NU_INSCRICAO',\n",
              " 'NU_ANO',\n",
              " 'TP_FAIXA_ETARIA',\n",
              " 'TP_SEXO',\n",
              " 'TP_ESTADO_CIVIL',\n",
              " 'TP_COR_RACA',\n",
              " 'TP_NACIONALIDADE',\n",
              " 'TP_ST_CONCLUSAO',\n",
              " 'TP_ANO_CONCLUIU',\n",
              " 'TP_ESCOLA',\n",
              " 'TP_ENSINO',\n",
              " 'IN_TREINEIRO',\n",
              " 'CO_MUNICIPIO_ESC',\n",
              " 'NO_MUNICIPIO_ESC',\n",
              " 'CO_UF_ESC',\n",
              " 'SG_UF_ESC',\n",
              " 'TP_DEPENDENCIA_ADM_ESC',\n",
              " 'TP_LOCALIZACAO_ESC',\n",
              " 'TP_SIT_FUNC_ESC',\n",
              " 'CO_MUNICIPIO_PROVA',\n",
              " 'NO_MUNICIPIO_PROVA',\n",
              " 'CO_UF_PROVA',\n",
              " 'SG_UF_PROVA',\n",
              " 'TP_PRESENCA_CN',\n",
              " 'TP_PRESENCA_CH',\n",
              " 'TP_PRESENCA_LC',\n",
              " 'TP_PRESENCA_MT',\n",
              " 'CO_PROVA_CN',\n",
              " 'CO_PROVA_CH',\n",
              " 'CO_PROVA_LC',\n",
              " 'CO_PROVA_MT',\n",
              " 'NU_NOTA_CN',\n",
              " 'NU_NOTA_CH',\n",
              " 'NU_NOTA_LC',\n",
              " 'NU_NOTA_MT',\n",
              " 'TX_RESPOSTAS_CN',\n",
              " 'TX_RESPOSTAS_CH',\n",
              " 'TX_RESPOSTAS_LC',\n",
              " 'TX_RESPOSTAS_MT',\n",
              " 'TP_LINGUA',\n",
              " 'TX_GABARITO_CN',\n",
              " 'TX_GABARITO_CH',\n",
              " 'TX_GABARITO_LC',\n",
              " 'TX_GABARITO_MT',\n",
              " 'TP_STATUS_REDACAO',\n",
              " 'NU_NOTA_COMP1',\n",
              " 'NU_NOTA_COMP2',\n",
              " 'NU_NOTA_COMP3',\n",
              " 'NU_NOTA_COMP4',\n",
              " 'NU_NOTA_COMP5',\n",
              " 'NU_NOTA_REDACAO',\n",
              " 'Q001',\n",
              " 'Q002',\n",
              " 'Q003',\n",
              " 'Q004',\n",
              " 'Q005',\n",
              " 'Q006',\n",
              " 'Q007',\n",
              " 'Q008',\n",
              " 'Q009',\n",
              " 'Q010',\n",
              " 'Q011',\n",
              " 'Q012',\n",
              " 'Q013',\n",
              " 'Q014',\n",
              " 'Q015',\n",
              " 'Q016',\n",
              " 'Q017',\n",
              " 'Q018',\n",
              " 'Q019',\n",
              " 'Q020',\n",
              " 'Q021',\n",
              " 'Q022',\n",
              " 'Q023',\n",
              " 'Q024',\n",
              " 'Q025']"
            ]
          },
          "metadata": {},
          "execution_count": 14
        }
      ]
    },
    {
      "cell_type": "markdown",
      "source": [
        "# Transformação dos dados"
      ],
      "metadata": {
        "id": "MjYpRtL5-KEb"
      }
    },
    {
      "cell_type": "markdown",
      "source": [
        "Nessa etapa realizarei a seleção dos dados relevantes para uma análise posterior, essas informações são acordadas com a área da análises que precisa desses dados.\n",
        "Para esse projeto, considerei que a análise na ponta realizará estudos com os dados de:\n",
        "* notas de cada categoria de conhecimento do ENEM;\n",
        "* nota geral da redação;\n",
        "* nota geral do ENEM;\n",
        "* faixa etária;\n",
        "* análise demográfica a nível de estado (de acordo com local de aplicação da prova);\n",
        "* cor/raça;\n",
        "* treineiro;\n",
        "* quantidade de faltantes;\n",
        "* sexo;\n",
        "* situação de conclusão do ensino médio;\n",
        "* Tipo de instituição que concluiu ou concluirá o Ensino Médio;\n",
        "* tipo de escola no ensino médio."
      ],
      "metadata": {
        "id": "5tdh_A2soJYA"
      }
    },
    {
      "cell_type": "code",
      "source": [
        "\"\"\"\n",
        "Para realizar o tratamento de forma mais eficiente, o arquivo será transformado em Parquet.\n",
        "Segundo chat GPT, podemos atribuir o destino do arquivo em uma variável para usar na função\n",
        "de salvar o arquivo no formato desejado.\n",
        "\"\"\"\n",
        "\n",
        "# Caminho para salvar o arquivo Parquet\n",
        "parquet_path = \"/content/enem_2020/refined/MICRODADOS_ENEM_2020.parquet\"\n",
        "\n",
        "# Salvar o DataFrame como arquivo Parquet\n",
        "dados_enem.write.mode(\"overwrite\").parquet(parquet_path)"
      ],
      "metadata": {
        "id": "6jBgmCFKkWCw"
      },
      "execution_count": 15,
      "outputs": []
    },
    {
      "cell_type": "code",
      "execution_count": 64,
      "metadata": {
        "id": "qLS_NEpEgDBJ",
        "colab": {
          "base_uri": "https://localhost:8080/"
        },
        "outputId": "f9b20c6c-8801-4fa1-fb0d-ef12840d7630"
      },
      "outputs": [
        {
          "output_type": "stream",
          "name": "stdout",
          "text": [
            "+------------+------+---------------+-------+---------------+-----------+----------------+---------------+---------------+---------+---------+------------+----------------+-------------------+---------+---------+----------------------+------------------+---------------+------------------+-------------------+-----------+-----------+--------------+--------------+--------------+--------------+-----------+-----------+-----------+-----------+----------+----------+----------+----------+--------------------+--------------------+--------------------+--------------------+---------+--------------------+--------------------+--------------------+--------------------+-----------------+-------------+-------------+-------------+-------------+-------------+---------------+----+----+----+----+----+----+----+----+----+----+----+----+----+----+----+----+----+----+----+----+----+----+----+----+----+\n",
            "|NU_INSCRICAO|NU_ANO|TP_FAIXA_ETARIA|TP_SEXO|TP_ESTADO_CIVIL|TP_COR_RACA|TP_NACIONALIDADE|TP_ST_CONCLUSAO|TP_ANO_CONCLUIU|TP_ESCOLA|TP_ENSINO|IN_TREINEIRO|CO_MUNICIPIO_ESC|   NO_MUNICIPIO_ESC|CO_UF_ESC|SG_UF_ESC|TP_DEPENDENCIA_ADM_ESC|TP_LOCALIZACAO_ESC|TP_SIT_FUNC_ESC|CO_MUNICIPIO_PROVA| NO_MUNICIPIO_PROVA|CO_UF_PROVA|SG_UF_PROVA|TP_PRESENCA_CN|TP_PRESENCA_CH|TP_PRESENCA_LC|TP_PRESENCA_MT|CO_PROVA_CN|CO_PROVA_CH|CO_PROVA_LC|CO_PROVA_MT|NU_NOTA_CN|NU_NOTA_CH|NU_NOTA_LC|NU_NOTA_MT|     TX_RESPOSTAS_CN|     TX_RESPOSTAS_CH|     TX_RESPOSTAS_LC|     TX_RESPOSTAS_MT|TP_LINGUA|      TX_GABARITO_CN|      TX_GABARITO_CH|      TX_GABARITO_LC|      TX_GABARITO_MT|TP_STATUS_REDACAO|NU_NOTA_COMP1|NU_NOTA_COMP2|NU_NOTA_COMP3|NU_NOTA_COMP4|NU_NOTA_COMP5|NU_NOTA_REDACAO|Q001|Q002|Q003|Q004|Q005|Q006|Q007|Q008|Q009|Q010|Q011|Q012|Q013|Q014|Q015|Q016|Q017|Q018|Q019|Q020|Q021|Q022|Q023|Q024|Q025|\n",
            "+------------+------+---------------+-------+---------------+-----------+----------------+---------------+---------------+---------+---------+------------+----------------+-------------------+---------+---------+----------------------+------------------+---------------+------------------+-------------------+-----------+-----------+--------------+--------------+--------------+--------------+-----------+-----------+-----------+-----------+----------+----------+----------+----------+--------------------+--------------------+--------------------+--------------------+---------+--------------------+--------------------+--------------------+--------------------+-----------------+-------------+-------------+-------------+-------------+-------------+---------------+----+----+----+----+----+----+----+----+----+----+----+----+----+----+----+----+----+----+----+----+----+----+----+----+----+\n",
            "|200006271946|  2020|             11|      F|              1|          2|               1|              1|             11|        1|     null|           0|            null|               null|     null|     null|                  null|              null|           null|           1501402|              Belém|         15|         PA|             0|             0|             0|             0|       null|       null|       null|       null|      null|      null|      null|      null|                null|                null|                null|                null|        1|                null|                null|                null|                null|             null|         null|         null|         null|         null|         null|           null|null|null|null|null|null|null|null|null|null|null|null|null|null|null|null|null|null|null|null|null|null|null|null|null|null|\n",
            "|200001195856|  2020|             11|      M|              2|          3|               1|              1|             11|        1|     null|           0|            null|               null|     null|     null|                  null|              null|           null|           2408102|              Natal|         24|         RN|             1|             1|             1|             1|        702|        689|        693|        698|     604.1|     661.7|     595.3|     711.3|BCBDBDCCCDBDDBADE...|BCAECABCDCEBDBBBD...|99999CADDEDADBAAB...|EBEBDEDAECBADCADD...|        1|ABBACBCCCDDDDBAEE...|BCEECDBCCDEBDBBBB...|99999CBDDEDBDBACE...|BBEADECAECBBXCEBA...|                1|          120|          120|          120|          120|          100|            580|null|null|null|null|null|null|null|null|null|null|null|null|null|null|null|null|null|null|null|null|null|null|null|null|null|\n",
            "|200001943954|  2020|              4|      F|              2|          3|               2|              2|              0|        2|        1|           0|         2927408|           Salvador|       29|       BA|                     2|                 1|              1|           2927408|           Salvador|         29|         BA|             0|             0|             0|             0|       null|       null|       null|       null|      null|      null|      null|      null|                null|                null|                null|                null|        0|                null|                null|                null|                null|             null|         null|         null|         null|         null|         null|           null|   B|   C|   A|   D|   3|   B|   A|   B|   A|   A|   A|   B|   A|   B|   A|   B|   A|   A|   B|   A|   A|   A|   A|   A|   A|\n",
            "|200001908998|  2020|              2|      M|              1|          3|               1|              2|              0|        2|        1|           0|         3547304|Santana de Parnaíba|       35|       SP|                     3|                 1|              1|           3547304|Santana de Parnaíba|         35|         SP|             1|             1|             1|             1|        700|        688|        692|        696|     620.8|       675|     624.2|     759.4|EBEDCCCDCBDBAECAE...|DABCCACCBCCDCADBD...|DCEAB99999AADAECC...|CBDBDCCDDEECBAABB...|        0|BDECCACBEBDEAEDAE...|DABCCAECBABECADBD...|DCEAD99999AADACCC...|EBDBXCCDAEECBAABA...|                1|          140|          200|          140|          120|          160|            760|null|null|null|null|null|null|null|null|null|null|null|null|null|null|null|null|null|null|null|null|null|null|null|null|null|\n",
            "|200001634757|  2020|              4|      F|              1|          3|               2|              1|              1|        1|     null|           0|            null|               null|     null|     null|                  null|              null|           null|           3121605|         Diamantina|         31|         MG|             0|             0|             0|             0|       null|       null|       null|       null|      null|      null|      null|      null|                null|                null|                null|                null|        1|                null|                null|                null|                null|             null|         null|         null|         null|         null|         null|           null|   B|   G|   B|   B|   3|   B|   A|   B|   D|   A|   A|   B|   A|   B|   A|   A|   A|   A|   B|   A|   B|   B|   A|   A|   B|\n",
            "+------------+------+---------------+-------+---------------+-----------+----------------+---------------+---------------+---------+---------+------------+----------------+-------------------+---------+---------+----------------------+------------------+---------------+------------------+-------------------+-----------+-----------+--------------+--------------+--------------+--------------+-----------+-----------+-----------+-----------+----------+----------+----------+----------+--------------------+--------------------+--------------------+--------------------+---------+--------------------+--------------------+--------------------+--------------------+-----------------+-------------+-------------+-------------+-------------+-------------+---------------+----+----+----+----+----+----+----+----+----+----+----+----+----+----+----+----+----+----+----+----+----+----+----+----+----+\n",
            "only showing top 5 rows\n",
            "\n",
            "CPU times: user 12.3 ms, sys: 0 ns, total: 12.3 ms\n",
            "Wall time: 1.37 s\n"
          ]
        }
      ],
      "source": [
        "%%time\n",
        "\n",
        "# Pra ler o arquivo Parquet pode usar a mesma variável criada para alocar o aquivo na célula anterior\n",
        "enem_parquet = spark.read.parquet(parquet_path)\n",
        "enem_parquet.show(5)"
      ]
    },
    {
      "cell_type": "markdown",
      "source": [
        "Parte do processo de ETL é a seleção das colunas que contém os dados relevantes para análises posteriores pela equipe de Analytics."
      ],
      "metadata": {
        "id": "DFHkGUHr-Cdy"
      }
    },
    {
      "cell_type": "markdown",
      "source": [
        "Em um dataset que contém muitas colunas como esse, para manter o código limpo é interessante colocar as colunas selecionadas (seja para remoção ou que serão mantidas) em uma variável antes de colocar na função. Aqui, essa seleção foi realizada utilizando o documento de dicionário de dados mantendo o perfil de análise em mente."
      ],
      "metadata": {
        "id": "m8I1WWjX-0bx"
      }
    },
    {
      "cell_type": "code",
      "execution_count": 20,
      "metadata": {
        "id": "E7NuMVpygC2h",
        "colab": {
          "base_uri": "https://localhost:8080/"
        },
        "outputId": "b59f1e42-516c-40c0-c335-18ea80980546"
      },
      "outputs": [
        {
          "output_type": "execute_result",
          "data": {
            "text/plain": [
              "['NU_INSCRICAO',\n",
              " 'NU_ANO',\n",
              " 'TP_FAIXA_ETARIA',\n",
              " 'TP_SEXO',\n",
              " 'TP_ESTADO_CIVIL',\n",
              " 'TP_COR_RACA',\n",
              " 'TP_NACIONALIDADE',\n",
              " 'TP_ST_CONCLUSAO',\n",
              " 'TP_ANO_CONCLUIU',\n",
              " 'TP_ESCOLA',\n",
              " 'TP_ENSINO',\n",
              " 'IN_TREINEIRO',\n",
              " 'CO_MUNICIPIO_ESC',\n",
              " 'NO_MUNICIPIO_ESC',\n",
              " 'CO_UF_ESC',\n",
              " 'SG_UF_ESC',\n",
              " 'TP_DEPENDENCIA_ADM_ESC',\n",
              " 'TP_LOCALIZACAO_ESC',\n",
              " 'TP_SIT_FUNC_ESC',\n",
              " 'CO_MUNICIPIO_PROVA',\n",
              " 'NO_MUNICIPIO_PROVA',\n",
              " 'CO_UF_PROVA',\n",
              " 'SG_UF_PROVA',\n",
              " 'TP_PRESENCA_CN',\n",
              " 'TP_PRESENCA_CH',\n",
              " 'TP_PRESENCA_LC',\n",
              " 'TP_PRESENCA_MT',\n",
              " 'CO_PROVA_CN',\n",
              " 'CO_PROVA_CH',\n",
              " 'CO_PROVA_LC',\n",
              " 'CO_PROVA_MT',\n",
              " 'NU_NOTA_CN',\n",
              " 'NU_NOTA_CH',\n",
              " 'NU_NOTA_LC',\n",
              " 'NU_NOTA_MT',\n",
              " 'TX_RESPOSTAS_CN',\n",
              " 'TX_RESPOSTAS_CH',\n",
              " 'TX_RESPOSTAS_LC',\n",
              " 'TX_RESPOSTAS_MT',\n",
              " 'TP_LINGUA',\n",
              " 'TX_GABARITO_CN',\n",
              " 'TX_GABARITO_CH',\n",
              " 'TX_GABARITO_LC',\n",
              " 'TX_GABARITO_MT',\n",
              " 'TP_STATUS_REDACAO',\n",
              " 'NU_NOTA_COMP1',\n",
              " 'NU_NOTA_COMP2',\n",
              " 'NU_NOTA_COMP3',\n",
              " 'NU_NOTA_COMP4',\n",
              " 'NU_NOTA_COMP5',\n",
              " 'NU_NOTA_REDACAO',\n",
              " 'Q001',\n",
              " 'Q002',\n",
              " 'Q003',\n",
              " 'Q004',\n",
              " 'Q005',\n",
              " 'Q006',\n",
              " 'Q007',\n",
              " 'Q008',\n",
              " 'Q009',\n",
              " 'Q010',\n",
              " 'Q011',\n",
              " 'Q012',\n",
              " 'Q013',\n",
              " 'Q014',\n",
              " 'Q015',\n",
              " 'Q016',\n",
              " 'Q017',\n",
              " 'Q018',\n",
              " 'Q019',\n",
              " 'Q020',\n",
              " 'Q021',\n",
              " 'Q022',\n",
              " 'Q023',\n",
              " 'Q024',\n",
              " 'Q025']"
            ]
          },
          "metadata": {},
          "execution_count": 20
        }
      ],
      "source": [
        "# Imprimindo as colunas em uma lista\n",
        "enem_parquet.columns"
      ]
    },
    {
      "cell_type": "code",
      "source": [
        "# Selecionando as colunas para a área de Analytics\n",
        "dropcols = ('TP_ESTADO_CIVIL',\n",
        " 'TP_NACIONALIDADE',\n",
        " 'CO_MUNICIPIO_ESC',\n",
        " 'NO_MUNICIPIO_ESC',\n",
        " 'CO_UF_ESC',\n",
        " 'SG_UF_ESC',\n",
        " 'TP_DEPENDENCIA_ADM_ESC',\n",
        " 'TP_LOCALIZACAO_ESC',\n",
        " 'TP_SIT_FUNC_ESC',\n",
        " 'CO_MUNICIPIO_ESC',\n",
        " 'NO_MUNICIPIO_ESC',\n",
        " 'CO_UF_ESC',\n",
        " 'CO_MUNICIPIO_PROVA',\n",
        " 'NO_MUNICIPIO_PROVA',\n",
        " 'CO_UF_PROVA',\n",
        " 'CO_PROVA_CN',\n",
        " 'CO_PROVA_CH',\n",
        " 'CO_PROVA_LC',\n",
        " 'CO_PROVA_MT',\n",
        " 'TX_RESPOSTAS_CN',\n",
        " 'TX_RESPOSTAS_CH',\n",
        " 'TX_RESPOSTAS_LC',\n",
        " 'TX_RESPOSTAS_MT',\n",
        " 'TX_GABARITO_CN',\n",
        " 'TX_GABARITO_CH',\n",
        " 'TX_GABARITO_LC',\n",
        " 'TX_GABARITO_MT',\n",
        " 'Q001',\n",
        " 'Q002',\n",
        " 'Q003',\n",
        " 'Q004',\n",
        " 'Q005',\n",
        " 'Q006',\n",
        " 'Q007',\n",
        " 'Q008',\n",
        " 'Q009',\n",
        " 'Q010',\n",
        " 'Q011',\n",
        " 'Q012',\n",
        " 'Q013',\n",
        " 'Q014',\n",
        " 'Q015',\n",
        " 'Q016',\n",
        " 'Q017',\n",
        " 'Q018',\n",
        " 'Q019',\n",
        " 'Q020',\n",
        " 'Q021',\n",
        " 'Q022',\n",
        " 'Q023',\n",
        " 'Q024',\n",
        " 'Q025')"
      ],
      "metadata": {
        "id": "cXvOU8dW_oVw"
      },
      "execution_count": 26,
      "outputs": []
    },
    {
      "cell_type": "code",
      "execution_count": 27,
      "metadata": {
        "id": "JkUF4yJFgG25",
        "colab": {
          "base_uri": "https://localhost:8080/"
        },
        "outputId": "e9039050-1961-4691-97ba-6cc89c4b97bd"
      },
      "outputs": [
        {
          "output_type": "stream",
          "name": "stdout",
          "text": [
            "+------------+------+---------------+-------+-----------+---------------+---------------+---------+---------+------------+-----------+--------------+--------------+--------------+--------------+----------+----------+----------+----------+---------+-----------------+-------------+-------------+-------------+-------------+-------------+---------------+\n",
            "|NU_INSCRICAO|NU_ANO|TP_FAIXA_ETARIA|TP_SEXO|TP_COR_RACA|TP_ST_CONCLUSAO|TP_ANO_CONCLUIU|TP_ESCOLA|TP_ENSINO|IN_TREINEIRO|SG_UF_PROVA|TP_PRESENCA_CN|TP_PRESENCA_CH|TP_PRESENCA_LC|TP_PRESENCA_MT|NU_NOTA_CN|NU_NOTA_CH|NU_NOTA_LC|NU_NOTA_MT|TP_LINGUA|TP_STATUS_REDACAO|NU_NOTA_COMP1|NU_NOTA_COMP2|NU_NOTA_COMP3|NU_NOTA_COMP4|NU_NOTA_COMP5|NU_NOTA_REDACAO|\n",
            "+------------+------+---------------+-------+-----------+---------------+---------------+---------+---------+------------+-----------+--------------+--------------+--------------+--------------+----------+----------+----------+----------+---------+-----------------+-------------+-------------+-------------+-------------+-------------+---------------+\n",
            "|200006271946|  2020|             11|      F|          2|              1|             11|        1|     null|           0|         PA|             0|             0|             0|             0|      null|      null|      null|      null|        1|             null|         null|         null|         null|         null|         null|           null|\n",
            "|200001195856|  2020|             11|      M|          3|              1|             11|        1|     null|           0|         RN|             1|             1|             1|             1|     604.1|     661.7|     595.3|     711.3|        1|                1|          120|          120|          120|          120|          100|            580|\n",
            "|200001943954|  2020|              4|      F|          3|              2|              0|        2|        1|           0|         BA|             0|             0|             0|             0|      null|      null|      null|      null|        0|             null|         null|         null|         null|         null|         null|           null|\n",
            "|200001908998|  2020|              2|      M|          3|              2|              0|        2|        1|           0|         SP|             1|             1|             1|             1|     620.8|       675|     624.2|     759.4|        0|                1|          140|          200|          140|          120|          160|            760|\n",
            "|200001634757|  2020|              4|      F|          3|              1|              1|        1|     null|           0|         MG|             0|             0|             0|             0|      null|      null|      null|      null|        1|             null|         null|         null|         null|         null|         null|           null|\n",
            "+------------+------+---------------+-------+-----------+---------------+---------------+---------+---------+------------+-----------+--------------+--------------+--------------+--------------+----------+----------+----------+----------+---------+-----------------+-------------+-------------+-------------+-------------+-------------+---------------+\n",
            "only showing top 5 rows\n",
            "\n"
          ]
        }
      ],
      "source": [
        "enem_parquet = enem_parquet.drop(*dropcols)\n",
        "enem_parquet.show(5)"
      ]
    },
    {
      "cell_type": "code",
      "execution_count": 28,
      "metadata": {
        "id": "o3IB6VxLgGYi",
        "colab": {
          "base_uri": "https://localhost:8080/"
        },
        "outputId": "a65862dd-b381-4394-a4b0-7ef0b32b6417"
      },
      "outputs": [
        {
          "output_type": "execute_result",
          "data": {
            "text/plain": [
              "5783109"
            ]
          },
          "metadata": {},
          "execution_count": 28
        }
      ],
      "source": [
        "# Contando quantos registros tem na tabela\n",
        "enem_parquet.count()"
      ]
    },
    {
      "cell_type": "markdown",
      "source": [
        "Até esse momento realizei uma transformação simples dos dados alterando o formato do arquivo e removendo colunas não essenciais para o trabalho de analytics. A partir de agora trato sobre o formado dos dados, nome de colunas e enriquecimento. Essa transformação final será realizada para colocar os dados no estágio final refined."
      ],
      "metadata": {
        "id": "HoJQwgeHuW9S"
      }
    },
    {
      "cell_type": "code",
      "source": [
        "# Listando as colunas novamente\n",
        "enem_parquet.columns"
      ],
      "metadata": {
        "colab": {
          "base_uri": "https://localhost:8080/"
        },
        "id": "tZzAMsNmvIsa",
        "outputId": "83879aac-dda0-48d4-d568-7c6b057f0a30"
      },
      "execution_count": 29,
      "outputs": [
        {
          "output_type": "execute_result",
          "data": {
            "text/plain": [
              "['NU_INSCRICAO',\n",
              " 'NU_ANO',\n",
              " 'TP_FAIXA_ETARIA',\n",
              " 'TP_SEXO',\n",
              " 'TP_COR_RACA',\n",
              " 'TP_ST_CONCLUSAO',\n",
              " 'TP_ANO_CONCLUIU',\n",
              " 'TP_ESCOLA',\n",
              " 'TP_ENSINO',\n",
              " 'IN_TREINEIRO',\n",
              " 'SG_UF_PROVA',\n",
              " 'TP_PRESENCA_CN',\n",
              " 'TP_PRESENCA_CH',\n",
              " 'TP_PRESENCA_LC',\n",
              " 'TP_PRESENCA_MT',\n",
              " 'NU_NOTA_CN',\n",
              " 'NU_NOTA_CH',\n",
              " 'NU_NOTA_LC',\n",
              " 'NU_NOTA_MT',\n",
              " 'TP_LINGUA',\n",
              " 'TP_STATUS_REDACAO',\n",
              " 'NU_NOTA_COMP1',\n",
              " 'NU_NOTA_COMP2',\n",
              " 'NU_NOTA_COMP3',\n",
              " 'NU_NOTA_COMP4',\n",
              " 'NU_NOTA_COMP5',\n",
              " 'NU_NOTA_REDACAO']"
            ]
          },
          "metadata": {},
          "execution_count": 29
        }
      ]
    },
    {
      "cell_type": "markdown",
      "source": [
        "Interessante notar que segundo chatGPT só é possível renomear várias colunas seguindo uma estrutura repetitiva como exemplificado abaixo:\n",
        "\n",
        "df = df.withColumnRenamed(\"coluna_antiga_1\", \"nova_coluna_1\") \\\n",
        "        .withColumnRenamed(\"coluna_antiga_2\", \"nova_coluna_2\") \\\n",
        "        .withColumnRenamed(\"coluna_antiga_3\", \"nova_coluna_3\")\n",
        "\n",
        "Porém, a partir do PySpark 3.4 que estou usando, foi adicionado suporte para renomear várias colunas com um mesmo comando. Abaixo temos o exemplo de código da documentação:\n",
        "\n",
        "df = df.withColumnsRenamed({\"coluna_antiga_1\": \"nova_coluna_1\", \"coluna_antiga_2\": \"nova_coluna_2\", \"coluna_antiga_3\": \"nova_coluna_3\"})"
      ],
      "metadata": {
        "id": "p1eA71SfzYiT"
      }
    },
    {
      "cell_type": "code",
      "source": [
        "enem_refined = enem_parquet.withColumnsRenamed({\n",
        " 'NU_INSCRICAO':'INSCRICAO',\n",
        " 'NU_ANO':'ANO',\n",
        " 'TP_FAIXA_ETARIA':'FAIXA_ETARIA',\n",
        " 'TP_SEXO':'SEXO',\n",
        " 'TP_COR_RACA':'COR_RACA',\n",
        " 'TP_ST_CONCLUSAO':'ST_CONCLUSAO',\n",
        " 'TP_ANO_CONCLUIU':'ANO_CONCLUIU',\n",
        " 'TP_ESCOLA':'ESCOLA',\n",
        " 'TP_ENSINO':'ENSINO',\n",
        " 'IN_TREINEIRO':'TREINEIRO',\n",
        " 'SG_UF_PROVA':'UF_PROVA',\n",
        " 'TP_PRESENCA_CN':'PRE_C_NATURAIS',\n",
        " 'TP_PRESENCA_CH':'PRE_C_HUMANAS',\n",
        " 'TP_PRESENCA_LC':'PRE_LINGUAGENS',\n",
        " 'TP_PRESENCA_MT':'PRE_MATEMATICA',\n",
        " 'NU_NOTA_CN':'NOTA_C_NATURAIS',\n",
        " 'NU_NOTA_CH':'NOTA_C_HUMANAS',\n",
        " 'NU_NOTA_LC':'NOTA_LINGAGENS',\n",
        " 'NU_NOTA_MT':'NOTA_MATEMATICA',\n",
        " 'TP_LINGUA':'LINGUA_ESTR',\n",
        " 'TP_STATUS_REDACAO':'STATUS_REDACAO',\n",
        " 'NU_NOTA_COMP1':'NOTA_COMP1',\n",
        " 'NU_NOTA_COMP2':'NOTA_COMP2',\n",
        " 'NU_NOTA_COMP3':'NOTA_COMP3',\n",
        " 'NU_NOTA_COMP4':'NOTA_COMP4',\n",
        " 'NU_NOTA_COMP5':'NOTA_COMP5',\n",
        " 'NU_NOTA_REDACAO':'NOTA_REDACAO'\n",
        " })"
      ],
      "metadata": {
        "id": "j-E6PV03vIvG"
      },
      "execution_count": 57,
      "outputs": []
    },
    {
      "cell_type": "code",
      "source": [
        "enem_refined.show(5)"
      ],
      "metadata": {
        "colab": {
          "base_uri": "https://localhost:8080/"
        },
        "id": "dRwDMPAFvIxe",
        "outputId": "a281ccb2-285a-4c25-aabe-3cd083a26b0e"
      },
      "execution_count": 58,
      "outputs": [
        {
          "output_type": "stream",
          "name": "stdout",
          "text": [
            "+------------+----+------------+----+--------+------------+------------+------+------+---------+--------+--------------+-------------+--------------+--------------+---------------+--------------+--------------+---------------+-----------+--------------+----------+----------+----------+----------+----------+------------+\n",
            "|   INSCRICAO| ANO|FAIXA_ETARIA|SEXO|COR_RACA|ST_CONCLUSAO|ANO_CONCLUIU|ESCOLA|ENSINO|TREINEIRO|UF_PROVA|PRE_C_NATURAIS|PRE_C_HUMANAS|PRE_LINGUAGENS|PRE_MATEMATICA|NOTA_C_NATURAIS|NOTA_C_HUMANAS|NOTA_LINGAGENS|NOTA_MATEMATICA|LINGUA_ESTR|STATUS_REDACAO|NOTA_COMP1|NOTA_COMP2|NOTA_COMP3|NOTA_COMP4|NOTA_COMP5|NOTA_REDACAO|\n",
            "+------------+----+------------+----+--------+------------+------------+------+------+---------+--------+--------------+-------------+--------------+--------------+---------------+--------------+--------------+---------------+-----------+--------------+----------+----------+----------+----------+----------+------------+\n",
            "|200006271946|2020|          11|   F|       2|           1|          11|     1|  null|        0|      PA|             0|            0|             0|             0|           null|          null|          null|           null|          1|          null|      null|      null|      null|      null|      null|        null|\n",
            "|200001195856|2020|          11|   M|       3|           1|          11|     1|  null|        0|      RN|             1|            1|             1|             1|          604.1|         661.7|         595.3|          711.3|          1|             1|       120|       120|       120|       120|       100|         580|\n",
            "|200001943954|2020|           4|   F|       3|           2|           0|     2|     1|        0|      BA|             0|            0|             0|             0|           null|          null|          null|           null|          0|          null|      null|      null|      null|      null|      null|        null|\n",
            "|200001908998|2020|           2|   M|       3|           2|           0|     2|     1|        0|      SP|             1|            1|             1|             1|          620.8|           675|         624.2|          759.4|          0|             1|       140|       200|       140|       120|       160|         760|\n",
            "|200001634757|2020|           4|   F|       3|           1|           1|     1|  null|        0|      MG|             0|            0|             0|             0|           null|          null|          null|           null|          1|          null|      null|      null|      null|      null|      null|        null|\n",
            "+------------+----+------------+----+--------+------------+------------+------+------+---------+--------+--------------+-------------+--------------+--------------+---------------+--------------+--------------+---------------+-----------+--------------+----------+----------+----------+----------+----------+------------+\n",
            "only showing top 5 rows\n",
            "\n"
          ]
        }
      ]
    },
    {
      "cell_type": "markdown",
      "source": [
        "Analisando os tipos das variáveis do arquivo, estão todas classificadas como string. Em sua maioria é assim mesmo que vou manter, considerando que são variáveis qualitativas.\n",
        "Apenas as colunas de nota das provas alterei para números, essas são variáveis quantitativas."
      ],
      "metadata": {
        "id": "d8a8miDy7qT6"
      }
    },
    {
      "cell_type": "code",
      "source": [
        "enem_refined.columns"
      ],
      "metadata": {
        "colab": {
          "base_uri": "https://localhost:8080/"
        },
        "id": "iiXVnfkRKmai",
        "outputId": "727fabd5-1fde-46c0-bea2-ea90b6246f6a"
      },
      "execution_count": 59,
      "outputs": [
        {
          "output_type": "execute_result",
          "data": {
            "text/plain": [
              "['INSCRICAO',\n",
              " 'ANO',\n",
              " 'FAIXA_ETARIA',\n",
              " 'SEXO',\n",
              " 'COR_RACA',\n",
              " 'ST_CONCLUSAO',\n",
              " 'ANO_CONCLUIU',\n",
              " 'ESCOLA',\n",
              " 'ENSINO',\n",
              " 'TREINEIRO',\n",
              " 'UF_PROVA',\n",
              " 'PRE_C_NATURAIS',\n",
              " 'PRE_C_HUMANAS',\n",
              " 'PRE_LINGUAGENS',\n",
              " 'PRE_MATEMATICA',\n",
              " 'NOTA_C_NATURAIS',\n",
              " 'NOTA_C_HUMANAS',\n",
              " 'NOTA_LINGAGENS',\n",
              " 'NOTA_MATEMATICA',\n",
              " 'LINGUA_ESTR',\n",
              " 'STATUS_REDACAO',\n",
              " 'NOTA_COMP1',\n",
              " 'NOTA_COMP2',\n",
              " 'NOTA_COMP3',\n",
              " 'NOTA_COMP4',\n",
              " 'NOTA_COMP5',\n",
              " 'NOTA_REDACAO']"
            ]
          },
          "metadata": {},
          "execution_count": 59
        }
      ]
    },
    {
      "cell_type": "code",
      "source": [
        "list(enem_refined.schema)"
      ],
      "metadata": {
        "colab": {
          "base_uri": "https://localhost:8080/"
        },
        "id": "2daBayMf3a42",
        "outputId": "ab178d74-eb04-4332-a02d-0ad48648443d"
      },
      "execution_count": 46,
      "outputs": [
        {
          "output_type": "execute_result",
          "data": {
            "text/plain": [
              "[StructField('INSCRICAO', StringType(), True),\n",
              " StructField('ANO', StringType(), True),\n",
              " StructField('FAIXA_ETARIA', StringType(), True),\n",
              " StructField('SEXO', StringType(), True),\n",
              " StructField('COR_RACA', StringType(), True),\n",
              " StructField('ST_CONCLUSAO', StringType(), True),\n",
              " StructField('ANO_CONCLUIU', StringType(), True),\n",
              " StructField('ESCOLA', StringType(), True),\n",
              " StructField('ENSINO', StringType(), True),\n",
              " StructField('TREINEIRO', StringType(), True),\n",
              " StructField('UF_PROVA', StringType(), True),\n",
              " StructField('PRE_C_NATURAIS', StringType(), True),\n",
              " StructField('PRE_C_HUMANAS', StringType(), True),\n",
              " StructField('PRE_LINGUAGENS', StringType(), True),\n",
              " StructField('PRE_MATEMATICA', StringType(), True),\n",
              " StructField('NOTA_C_NATURAIS', StringType(), True),\n",
              " StructField('NOTA_C_HUMANAS', StringType(), True),\n",
              " StructField('NOTA_LINGAGENS', StringType(), True),\n",
              " StructField('NOTA_MATEMATICA', StringType(), True),\n",
              " StructField('LINGUA_ESTR', StringType(), True),\n",
              " StructField('STATUS_REDACAO', StringType(), True),\n",
              " StructField('NOTA_COMP1', StringType(), True),\n",
              " StructField('NOTA_COMP2', StringType(), True),\n",
              " StructField('NOTA_COMP3', StringType(), True),\n",
              " StructField('NOTA_COMP4', StringType(), True),\n",
              " StructField('NOTA_COMP5', StringType(), True),\n",
              " StructField('NOTA_REDACAO', StringType(), True)]"
            ]
          },
          "metadata": {},
          "execution_count": 46
        }
      ]
    },
    {
      "cell_type": "code",
      "source": [
        "# Importando o pacote types do PySpark para alterar os dados do dataframe\n",
        "from pyspark.sql.types import StructType, StructField, StringType, IntegerType"
      ],
      "metadata": {
        "id": "WnsKljuuGMLk"
      },
      "execution_count": 51,
      "outputs": []
    },
    {
      "cell_type": "code",
      "source": [
        "enem_refined = enem_refined.select(\n",
        " enem_refined.INSCRICAO.cast(StringType()),\n",
        " enem_refined.ANO.cast(StringType()),\n",
        " enem_refined.FAIXA_ETARIA.cast(StringType()),\n",
        " enem_refined.SEXO.cast(StringType()),\n",
        " enem_refined.COR_RACA.cast(StringType()),\n",
        " enem_refined.ST_CONCLUSAO.cast(StringType()),\n",
        " enem_refined.ANO_CONCLUIU.cast(StringType()),\n",
        " enem_refined.ESCOLA.cast(StringType()),\n",
        " enem_refined.ENSINO.cast(StringType()),\n",
        " enem_refined.TREINEIRO.cast(StringType()),\n",
        " enem_refined.UF_PROVA.cast(StringType()),\n",
        " enem_refined.PRE_C_NATURAIS.cast(StringType()),\n",
        " enem_refined.PRE_C_HUMANAS.cast(StringType()),\n",
        " enem_refined.PRE_LINGUAGENS.cast(StringType()),\n",
        " enem_refined.PRE_MATEMATICA.cast(StringType()),\n",
        " enem_refined.NOTA_C_NATURAIS.cast(IntegerType()),\n",
        " enem_refined.NOTA_C_HUMANAS.cast(IntegerType()),\n",
        " enem_refined.NOTA_LINGAGENS.cast(IntegerType()),\n",
        " enem_refined.NOTA_MATEMATICA.cast(IntegerType()),\n",
        " enem_refined.LINGUA_ESTR.cast(StringType()),\n",
        " enem_refined.STATUS_REDACAO.cast(StringType()),\n",
        " enem_refined.NOTA_COMP1.cast(IntegerType()),\n",
        " enem_refined.NOTA_COMP2.cast(IntegerType()),\n",
        " enem_refined.NOTA_COMP3.cast(IntegerType()),\n",
        " enem_refined.NOTA_COMP4.cast(IntegerType()),\n",
        " enem_refined.NOTA_COMP5.cast(IntegerType()),\n",
        " enem_refined.NOTA_REDACAO.cast(IntegerType())\n",
        ")\n",
        "\n",
        "list(enem_refined.schema)"
      ],
      "metadata": {
        "colab": {
          "base_uri": "https://localhost:8080/"
        },
        "id": "yRh0jxFNKgbO",
        "outputId": "7ca506ab-0cac-43f5-82bd-8064f1980c71"
      },
      "execution_count": 60,
      "outputs": [
        {
          "output_type": "execute_result",
          "data": {
            "text/plain": [
              "[StructField('INSCRICAO', StringType(), True),\n",
              " StructField('ANO', StringType(), True),\n",
              " StructField('FAIXA_ETARIA', StringType(), True),\n",
              " StructField('SEXO', StringType(), True),\n",
              " StructField('COR_RACA', StringType(), True),\n",
              " StructField('ST_CONCLUSAO', StringType(), True),\n",
              " StructField('ANO_CONCLUIU', StringType(), True),\n",
              " StructField('ESCOLA', StringType(), True),\n",
              " StructField('ENSINO', StringType(), True),\n",
              " StructField('TREINEIRO', StringType(), True),\n",
              " StructField('UF_PROVA', StringType(), True),\n",
              " StructField('PRE_C_NATURAIS', StringType(), True),\n",
              " StructField('PRE_C_HUMANAS', StringType(), True),\n",
              " StructField('PRE_LINGUAGENS', StringType(), True),\n",
              " StructField('PRE_MATEMATICA', StringType(), True),\n",
              " StructField('NOTA_C_NATURAIS', IntegerType(), True),\n",
              " StructField('NOTA_C_HUMANAS', IntegerType(), True),\n",
              " StructField('NOTA_LINGAGENS', IntegerType(), True),\n",
              " StructField('NOTA_MATEMATICA', IntegerType(), True),\n",
              " StructField('LINGUA_ESTR', StringType(), True),\n",
              " StructField('STATUS_REDACAO', StringType(), True),\n",
              " StructField('NOTA_COMP1', IntegerType(), True),\n",
              " StructField('NOTA_COMP2', IntegerType(), True),\n",
              " StructField('NOTA_COMP3', IntegerType(), True),\n",
              " StructField('NOTA_COMP4', IntegerType(), True),\n",
              " StructField('NOTA_COMP5', IntegerType(), True),\n",
              " StructField('NOTA_REDACAO', IntegerType(), True)]"
            ]
          },
          "metadata": {},
          "execution_count": 60
        }
      ]
    },
    {
      "cell_type": "code",
      "source": [
        "enem_refined.show(5)"
      ],
      "metadata": {
        "colab": {
          "base_uri": "https://localhost:8080/"
        },
        "id": "73MATTVlL1E6",
        "outputId": "5613a9cd-68f7-4a02-b918-360f38fb668f"
      },
      "execution_count": 65,
      "outputs": [
        {
          "output_type": "stream",
          "name": "stdout",
          "text": [
            "+------------+----+------------+----+--------+------------+------------+------+------+---------+--------+--------------+-------------+--------------+--------------+---------------+--------------+--------------+---------------+-----------+--------------+----------+----------+----------+----------+----------+------------+\n",
            "|   INSCRICAO| ANO|FAIXA_ETARIA|SEXO|COR_RACA|ST_CONCLUSAO|ANO_CONCLUIU|ESCOLA|ENSINO|TREINEIRO|UF_PROVA|PRE_C_NATURAIS|PRE_C_HUMANAS|PRE_LINGUAGENS|PRE_MATEMATICA|NOTA_C_NATURAIS|NOTA_C_HUMANAS|NOTA_LINGAGENS|NOTA_MATEMATICA|LINGUA_ESTR|STATUS_REDACAO|NOTA_COMP1|NOTA_COMP2|NOTA_COMP3|NOTA_COMP4|NOTA_COMP5|NOTA_REDACAO|\n",
            "+------------+----+------------+----+--------+------------+------------+------+------+---------+--------+--------------+-------------+--------------+--------------+---------------+--------------+--------------+---------------+-----------+--------------+----------+----------+----------+----------+----------+------------+\n",
            "|200006271946|2020|          11|   F|       2|           1|          11|     1|  null|        0|      PA|             0|            0|             0|             0|           null|          null|          null|           null|          1|          null|      null|      null|      null|      null|      null|        null|\n",
            "|200001195856|2020|          11|   M|       3|           1|          11|     1|  null|        0|      RN|             1|            1|             1|             1|            604|           661|           595|            711|          1|             1|       120|       120|       120|       120|       100|         580|\n",
            "|200001943954|2020|           4|   F|       3|           2|           0|     2|     1|        0|      BA|             0|            0|             0|             0|           null|          null|          null|           null|          0|          null|      null|      null|      null|      null|      null|        null|\n",
            "|200001908998|2020|           2|   M|       3|           2|           0|     2|     1|        0|      SP|             1|            1|             1|             1|            620|           675|           624|            759|          0|             1|       140|       200|       140|       120|       160|         760|\n",
            "|200001634757|2020|           4|   F|       3|           1|           1|     1|  null|        0|      MG|             0|            0|             0|             0|           null|          null|          null|           null|          1|          null|      null|      null|      null|      null|      null|        null|\n",
            "+------------+----+------------+----+--------+------------+------------+------+------+---------+--------+--------------+-------------+--------------+--------------+---------------+--------------+--------------+---------------+-----------+--------------+----------+----------+----------+----------+----------+------------+\n",
            "only showing top 5 rows\n",
            "\n"
          ]
        }
      ]
    },
    {
      "cell_type": "markdown",
      "source": [
        "Um enriquecimento que pode ser feito é a adição de uma coluna com região baseado na coluna de estado de aplicação da prova. Pra isso, será criado um DataFrame que contenha as referências para a adição da coluna."
      ],
      "metadata": {
        "id": "b2u5v_MZNaPH"
      }
    },
    {
      "cell_type": "code",
      "source": [],
      "metadata": {
        "id": "lrvNWw0cN0Ay"
      },
      "execution_count": null,
      "outputs": []
    },
    {
      "cell_type": "code",
      "source": [],
      "metadata": {
        "id": "fLn7FtDpNQ9e"
      },
      "execution_count": null,
      "outputs": []
    }
  ]
}