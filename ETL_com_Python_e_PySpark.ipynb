{
  "nbformat": 4,
  "nbformat_minor": 0,
  "metadata": {
    "colab": {
      "provenance": [],
      "collapsed_sections": [
        "qJoeN3e8_Gzk",
        "Dd6t0uFzuR4X",
        "8qf-TmnsBgXd",
        "3UJoYm5zwOWp",
        "mI_zYOVpf2yK",
        "NiU1nhA3y0j4",
        "9sDnyyzozVxA",
        "D7Dw2UpQ08-9",
        "hiKFyArf14B0",
        "9lAyzg282V_4",
        "-aQQ2gBF3Azz",
        "oSOpIOhJ4etN"
      ],
      "include_colab_link": true
    },
    "kernelspec": {
      "name": "python3",
      "display_name": "Python 3"
    },
    "language_info": {
      "name": "python"
    }
  },
  "cells": [
    {
      "cell_type": "markdown",
      "metadata": {
        "id": "view-in-github",
        "colab_type": "text"
      },
      "source": [
        "<a href=\"https://colab.research.google.com/github/GabrielData21/ETL-com-PySpark/blob/main/ETL_com_Python_e_PySpark.ipynb\" target=\"_parent\"><img src=\"https://colab.research.google.com/assets/colab-badge.svg\" alt=\"Open In Colab\"/></a>"
      ]
    },
    {
      "cell_type": "markdown",
      "source": [
        "# Pipeline de ETL com Python (PySpark)"
      ],
      "metadata": {
        "id": "ZZPtipYTrbgk"
      }
    },
    {
      "cell_type": "markdown",
      "source": [
        "**Descrição da atividade**\n",
        "\n",
        "Esse projeto visa simular uma pipeline contendo importação e transformação de dados do ENEM em uma arquitetura medallion, cujo perfil consiste em 3 camadas de tratamento de dados, sendo uma camada bruta no momento da importação (bronze), uma segunda camada para pré-processamento (silver) e a camada final com os dados prontos para uso (gold).\n"
      ],
      "metadata": {
        "id": "dTZDpUrdtXZf"
      }
    },
    {
      "cell_type": "markdown",
      "metadata": {
        "id": "Dd6t0uFzuR4X"
      },
      "source": [
        "## Instalando PySpark"
      ]
    },
    {
      "cell_type": "markdown",
      "source": [
        "Realizando a instalação do PySpark no notebook. Em versões anteriores era necessário instalar o ambiente com Hadoop e outros módulos, a partir da versão 3.4.0 é possível fazer a instação isolada."
      ],
      "metadata": {
        "id": "qu34sKRJvhq_"
      }
    },
    {
      "cell_type": "code",
      "execution_count": 1,
      "metadata": {
        "id": "We2yp-o7Hgu9",
        "colab": {
          "base_uri": "https://localhost:8080/"
        },
        "outputId": "9ae3aab5-2ee6-43e9-b038-9eefa5674b2d"
      },
      "outputs": [
        {
          "output_type": "stream",
          "name": "stdout",
          "text": [
            "Collecting pyspark==3.4.0\n",
            "  Downloading pyspark-3.4.0.tar.gz (310.8 MB)\n",
            "\u001b[2K     \u001b[90m━━━━━━━━━━━━━━━━━━━━━━━━━━━━━━━━━━━━━━━━\u001b[0m \u001b[32m310.8/310.8 MB\u001b[0m \u001b[31m2.2 MB/s\u001b[0m eta \u001b[36m0:00:00\u001b[0m\n",
            "\u001b[?25h  Preparing metadata (setup.py) ... \u001b[?25l\u001b[?25hdone\n",
            "Requirement already satisfied: py4j==0.10.9.7 in /usr/local/lib/python3.10/dist-packages (from pyspark==3.4.0) (0.10.9.7)\n",
            "Building wheels for collected packages: pyspark\n",
            "  Building wheel for pyspark (setup.py) ... \u001b[?25l\u001b[?25hdone\n",
            "  Created wheel for pyspark: filename=pyspark-3.4.0-py2.py3-none-any.whl size=311317122 sha256=47722dd1b731e34de2d41da5b87ad0d439d58a8612d226d64fe826c9a83e9407\n",
            "  Stored in directory: /root/.cache/pip/wheels/7b/1b/4b/3363a1d04368e7ff0d408e57ff57966fcdf00583774e761327\n",
            "Successfully built pyspark\n",
            "Installing collected packages: pyspark\n",
            "Successfully installed pyspark-3.4.0\n"
          ]
        }
      ],
      "source": [
        "# instalando PySpark 3.4.0\n",
        "!pip install pyspark==3.4.0"
      ]
    },
    {
      "cell_type": "code",
      "source": [
        "# criando Spark Session\n",
        "from pyspark.sql import SparkSession\n",
        "spark = SparkSession.builder.appName(\"ETL-enem\").getOrCreate()\n",
        "spark"
      ],
      "metadata": {
        "colab": {
          "base_uri": "https://localhost:8080/",
          "height": 221
        },
        "id": "ULkClcAtSYDV",
        "outputId": "a2e8acf5-d6ae-4eee-92fa-28c2931303e3"
      },
      "execution_count": 2,
      "outputs": [
        {
          "output_type": "execute_result",
          "data": {
            "text/plain": [
              "<pyspark.sql.session.SparkSession at 0x7bc83b7b33d0>"
            ],
            "text/html": [
              "\n",
              "            <div>\n",
              "                <p><b>SparkSession - in-memory</b></p>\n",
              "                \n",
              "        <div>\n",
              "            <p><b>SparkContext</b></p>\n",
              "\n",
              "            <p><a href=\"http://5f6aae21ab8d:4040\">Spark UI</a></p>\n",
              "\n",
              "            <dl>\n",
              "              <dt>Version</dt>\n",
              "                <dd><code>v3.4.0</code></dd>\n",
              "              <dt>Master</dt>\n",
              "                <dd><code>local[*]</code></dd>\n",
              "              <dt>AppName</dt>\n",
              "                <dd><code>ETL-enem</code></dd>\n",
              "            </dl>\n",
              "        </div>\n",
              "        \n",
              "            </div>\n",
              "        "
            ]
          },
          "metadata": {},
          "execution_count": 2
        }
      ]
    },
    {
      "cell_type": "code",
      "source": [
        "\"\"\"\n",
        "As formas de visualização do PySpark não funcionam bem no GitHub, por isso o\n",
        "código abaixo gera uma formatação compatível com o Jupyter Notebook do Colab\n",
        "e o GitHub.\n",
        "\"\"\"\n",
        "spark.conf.set(\"spark.sql.repl.eagerEval.enabled\",True)"
      ],
      "metadata": {
        "id": "4czG-wCYojgB"
      },
      "execution_count": 37,
      "outputs": []
    },
    {
      "cell_type": "markdown",
      "source": [
        "# Organizando o ambiente para os arquivos do ETL"
      ],
      "metadata": {
        "id": "13jhiprkXri1"
      }
    },
    {
      "cell_type": "markdown",
      "source": [
        "Criando as pastas que irão compor o projeto de acordo com a arquitetura medallion."
      ],
      "metadata": {
        "id": "U3Ciz2-_Xzmu"
      }
    },
    {
      "cell_type": "code",
      "source": [
        "!mkdir -p enem_2020/1.bronze"
      ],
      "metadata": {
        "id": "6ob_vdkcYZlV"
      },
      "execution_count": 3,
      "outputs": []
    },
    {
      "cell_type": "code",
      "source": [
        "!mkdir enem_2020/2.silver/ enem_2020/3.gold/"
      ],
      "metadata": {
        "id": "kRsc5UKnnI60"
      },
      "execution_count": 4,
      "outputs": []
    },
    {
      "cell_type": "markdown",
      "metadata": {
        "id": "8qf-TmnsBgXd"
      },
      "source": [
        "## Aquisição de dados ENEM"
      ]
    },
    {
      "cell_type": "markdown",
      "metadata": {
        "id": "0ysUlfFrN5OD"
      },
      "source": [
        "### Download e pré processamento dos dados"
      ]
    },
    {
      "cell_type": "code",
      "execution_count": 5,
      "metadata": {
        "id": "FDtw5Hy3N-pV",
        "colab": {
          "base_uri": "https://localhost:8080/"
        },
        "outputId": "e2c25f3f-2895-4a0e-a97f-ec76d1acdc7c"
      },
      "outputs": [
        {
          "output_type": "stream",
          "name": "stdout",
          "text": [
            "--2024-05-15 13:34:01--  https://download.inep.gov.br/microdados/microdados_enem_2020.zip\n",
            "Resolving download.inep.gov.br (download.inep.gov.br)... 200.130.24.15\n",
            "Connecting to download.inep.gov.br (download.inep.gov.br)|200.130.24.15|:443... connected.\n",
            "WARNING: cannot verify download.inep.gov.br's certificate, issued by ‘CN=RNP ICPEdu OV SSL CA 2019,O=Rede Nacional de Ensino e Pesquisa - RNP,C=BR’:\n",
            "  Unable to locally verify the issuer's authority.\n",
            "HTTP request sent, awaiting response... 200 OK\n",
            "Length: 620776982 (592M) [application/zip]\n",
            "Saving to: ‘microdados_enem_2020.zip’\n",
            "\n",
            "microdados_enem_202 100%[===================>] 592.02M   721KB/s    in 14m 37s \n",
            "\n",
            "2024-05-15 13:48:40 (691 KB/s) - ‘microdados_enem_2020.zip’ saved [620776982/620776982]\n",
            "\n",
            "total 606240\n",
            "drwxr-xr-x 5 root root      4096 May 15 13:33 enem_2020\n",
            "-rw-r--r-- 1 root root 620776982 Feb 16  2022 microdados_enem_2020.zip\n",
            "drwxr-xr-x 1 root root      4096 May 14 20:30 sample_data\n"
          ]
        }
      ],
      "source": [
        "# Importando os arquivos\n",
        "!wget https://download.inep.gov.br/microdados/microdados_enem_2020.zip --no-check-certificate\n",
        "\n",
        "# verificando os arquivos na pasta após download\n",
        "!ls -l"
      ]
    },
    {
      "cell_type": "markdown",
      "source": [
        "Os arquivos do ENEM são recebidos em formato compactado, para fazer a descompactação existem duas opções: usando comandos linux shell (através do unzip) ou usando o pacote zipfile do Python. Como este projeto visa uma prática em Python e PySpark, foi usado o pacote zipfile."
      ],
      "metadata": {
        "id": "6sZm6CSDoKta"
      }
    },
    {
      "cell_type": "code",
      "source": [
        "import zipfile"
      ],
      "metadata": {
        "id": "9SGo6Kt5qgZE"
      },
      "execution_count": 6,
      "outputs": []
    },
    {
      "cell_type": "code",
      "source": [
        "%%time\n",
        "\n",
        "# realizando a descompactação dos arquivos\n",
        "with zipfile.ZipFile('microdados_enem_2020.zip', 'r') as zip_ref:\n",
        "    zip_ref.extractall('enem_2020')"
      ],
      "metadata": {
        "colab": {
          "base_uri": "https://localhost:8080/"
        },
        "id": "WOghTzsSqjxb",
        "outputId": "33a536b1-0a60-46fc-b77c-466de36bf38c"
      },
      "execution_count": 7,
      "outputs": [
        {
          "output_type": "stream",
          "name": "stdout",
          "text": [
            "CPU times: user 13.1 s, sys: 6.22 s, total: 19.3 s\n",
            "Wall time: 24.1 s\n"
          ]
        }
      ]
    },
    {
      "cell_type": "markdown",
      "source": [
        "Outro passo necessário é organizar os arquivos da descompactação, será usado apenas o arquivo principal para a transformação. Por isso ele será movido para a pasta /bronze."
      ],
      "metadata": {
        "id": "1XYHYIyNpX0N"
      }
    },
    {
      "cell_type": "markdown",
      "source": [
        "Mover arquivos entre pastas usando comandos linux shell é bem simples através do comando mv. Novamente, para manter o treinamento voltado para Python, usaremos o pacote shutil para realizar a movimentação."
      ],
      "metadata": {
        "id": "t1o2Mb-WuBvT"
      }
    },
    {
      "cell_type": "code",
      "source": [
        "import shutil"
      ],
      "metadata": {
        "id": "W_DLEa0XpY3C"
      },
      "execution_count": 8,
      "outputs": []
    },
    {
      "cell_type": "code",
      "source": [
        "# criando variáveis para movimentação de arquivo\n",
        "source = \"/content/enem_2020/DADOS/MICRODADOS_ENEM_2020.csv\"\n",
        "destination = \"/content/enem_2020/1.bronze/MICRODADOS_ENEM_2020.csv\"\n",
        "\n",
        "# movimentando o arquivo\n",
        "shutil.move(source, destination)"
      ],
      "metadata": {
        "colab": {
          "base_uri": "https://localhost:8080/",
          "height": 35
        },
        "id": "1uSwcJdhuftM",
        "outputId": "6dcd6aa5-b077-4955-a89e-3712966be3f0"
      },
      "execution_count": 10,
      "outputs": [
        {
          "output_type": "execute_result",
          "data": {
            "text/plain": [
              "'/content/enem_2020/1.bronze/MICRODADOS_ENEM_2020.csv'"
            ],
            "application/vnd.google.colaboratory.intrinsic+json": {
              "type": "string"
            }
          },
          "metadata": {},
          "execution_count": 10
        }
      ]
    },
    {
      "cell_type": "code",
      "execution_count": 38,
      "metadata": {
        "id": "9-1cK0nPNS95",
        "colab": {
          "base_uri": "https://localhost:8080/",
          "height": 334
        },
        "outputId": "d1b782cb-023e-472a-b826-733e25ece2cd"
      },
      "outputs": [
        {
          "output_type": "stream",
          "name": "stdout",
          "text": [
            "CPU times: user 6.01 ms, sys: 0 ns, total: 6.01 ms\n",
            "Wall time: 372 ms\n"
          ]
        },
        {
          "output_type": "execute_result",
          "data": {
            "text/plain": [
              "+------------+------+---------------+-------+---------------+-----------+----------------+---------------+---------------+---------+---------+------------+----------------+-------------------+---------+---------+----------------------+------------------+---------------+------------------+-------------------+-----------+-----------+--------------+--------------+--------------+--------------+-----------+-----------+-----------+-----------+----------+----------+----------+----------+--------------------+--------------------+--------------------+--------------------+---------+--------------------+--------------------+--------------------+--------------------+-----------------+-------------+-------------+-------------+-------------+-------------+---------------+----+----+----+----+----+----+----+----+----+----+----+----+----+----+----+----+----+----+----+----+----+----+----+----+----+\n",
              "|NU_INSCRICAO|NU_ANO|TP_FAIXA_ETARIA|TP_SEXO|TP_ESTADO_CIVIL|TP_COR_RACA|TP_NACIONALIDADE|TP_ST_CONCLUSAO|TP_ANO_CONCLUIU|TP_ESCOLA|TP_ENSINO|IN_TREINEIRO|CO_MUNICIPIO_ESC|   NO_MUNICIPIO_ESC|CO_UF_ESC|SG_UF_ESC|TP_DEPENDENCIA_ADM_ESC|TP_LOCALIZACAO_ESC|TP_SIT_FUNC_ESC|CO_MUNICIPIO_PROVA| NO_MUNICIPIO_PROVA|CO_UF_PROVA|SG_UF_PROVA|TP_PRESENCA_CN|TP_PRESENCA_CH|TP_PRESENCA_LC|TP_PRESENCA_MT|CO_PROVA_CN|CO_PROVA_CH|CO_PROVA_LC|CO_PROVA_MT|NU_NOTA_CN|NU_NOTA_CH|NU_NOTA_LC|NU_NOTA_MT|     TX_RESPOSTAS_CN|     TX_RESPOSTAS_CH|     TX_RESPOSTAS_LC|     TX_RESPOSTAS_MT|TP_LINGUA|      TX_GABARITO_CN|      TX_GABARITO_CH|      TX_GABARITO_LC|      TX_GABARITO_MT|TP_STATUS_REDACAO|NU_NOTA_COMP1|NU_NOTA_COMP2|NU_NOTA_COMP3|NU_NOTA_COMP4|NU_NOTA_COMP5|NU_NOTA_REDACAO|Q001|Q002|Q003|Q004|Q005|Q006|Q007|Q008|Q009|Q010|Q011|Q012|Q013|Q014|Q015|Q016|Q017|Q018|Q019|Q020|Q021|Q022|Q023|Q024|Q025|\n",
              "+------------+------+---------------+-------+---------------+-----------+----------------+---------------+---------------+---------+---------+------------+----------------+-------------------+---------+---------+----------------------+------------------+---------------+------------------+-------------------+-----------+-----------+--------------+--------------+--------------+--------------+-----------+-----------+-----------+-----------+----------+----------+----------+----------+--------------------+--------------------+--------------------+--------------------+---------+--------------------+--------------------+--------------------+--------------------+-----------------+-------------+-------------+-------------+-------------+-------------+---------------+----+----+----+----+----+----+----+----+----+----+----+----+----+----+----+----+----+----+----+----+----+----+----+----+----+\n",
              "|200006271946|  2020|             11|      F|              1|          2|               1|              1|             11|        1|     null|           0|            null|               null|     null|     null|                  null|              null|           null|           1501402|              Belém|         15|         PA|             0|             0|             0|             0|       null|       null|       null|       null|      null|      null|      null|      null|                null|                null|                null|                null|        1|                null|                null|                null|                null|             null|         null|         null|         null|         null|         null|           null|null|null|null|null|null|null|null|null|null|null|null|null|null|null|null|null|null|null|null|null|null|null|null|null|null|\n",
              "|200001195856|  2020|             11|      M|              2|          3|               1|              1|             11|        1|     null|           0|            null|               null|     null|     null|                  null|              null|           null|           2408102|              Natal|         24|         RN|             1|             1|             1|             1|        702|        689|        693|        698|     604.1|     661.7|     595.3|     711.3|BCBDBDCCCDBDDBADE...|BCAECABCDCEBDBBBD...|99999CADDEDADBAAB...|EBEBDEDAECBADCADD...|        1|ABBACBCCCDDDDBAEE...|BCEECDBCCDEBDBBBB...|99999CBDDEDBDBACE...|BBEADECAECBBXCEBA...|                1|          120|          120|          120|          120|          100|            580|null|null|null|null|null|null|null|null|null|null|null|null|null|null|null|null|null|null|null|null|null|null|null|null|null|\n",
              "|200001943954|  2020|              4|      F|              2|          3|               2|              2|              0|        2|        1|           0|         2927408|           Salvador|       29|       BA|                     2|                 1|              1|           2927408|           Salvador|         29|         BA|             0|             0|             0|             0|       null|       null|       null|       null|      null|      null|      null|      null|                null|                null|                null|                null|        0|                null|                null|                null|                null|             null|         null|         null|         null|         null|         null|           null|   B|   C|   A|   D|   3|   B|   A|   B|   A|   A|   A|   B|   A|   B|   A|   B|   A|   A|   B|   A|   A|   A|   A|   A|   A|\n",
              "|200001908998|  2020|              2|      M|              1|          3|               1|              2|              0|        2|        1|           0|         3547304|Santana de Parnaíba|       35|       SP|                     3|                 1|              1|           3547304|Santana de Parnaíba|         35|         SP|             1|             1|             1|             1|        700|        688|        692|        696|     620.8|       675|     624.2|     759.4|EBEDCCCDCBDBAECAE...|DABCCACCBCCDCADBD...|DCEAB99999AADAECC...|CBDBDCCDDEECBAABB...|        0|BDECCACBEBDEAEDAE...|DABCCAECBABECADBD...|DCEAD99999AADACCC...|EBDBXCCDAEECBAABA...|                1|          140|          200|          140|          120|          160|            760|null|null|null|null|null|null|null|null|null|null|null|null|null|null|null|null|null|null|null|null|null|null|null|null|null|\n",
              "|200001634757|  2020|              4|      F|              1|          3|               2|              1|              1|        1|     null|           0|            null|               null|     null|     null|                  null|              null|           null|           3121605|         Diamantina|         31|         MG|             0|             0|             0|             0|       null|       null|       null|       null|      null|      null|      null|      null|                null|                null|                null|                null|        1|                null|                null|                null|                null|             null|         null|         null|         null|         null|         null|           null|   B|   G|   B|   B|   3|   B|   A|   B|   D|   A|   A|   B|   A|   B|   A|   A|   A|   A|   B|   A|   B|   B|   A|   A|   B|\n",
              "|200003132410|  2020|              3|      F|              1|          3|               1|              1|              1|        1|     null|           0|            null|               null|     null|     null|                  null|              null|           null|           4305207|        Cerro Largo|         43|         RS|             1|             1|             1|             1|        598|        567|        577|        588|     498.1|     604.7|     505.4|     526.7|CABBEEACAEBEBCCDA...|ACEBBDDCADDAACEEA...|99999CBECEBEDBEEC...|BADCAAAEEDBEDBACE...|        1|CEDBDDDCACCBDAEBA...|DABCBDDDAEDBECECB...|AAEDCACEEECEAACBA...|AEBCCXCCCACCDABCC...|                1|          140|          120|          140|          140|          160|            700|   C|   B|   C|   B|   5|   C|   A|   B|   E|   A|   A|   B|   A|   A|   A|   B|   A|   A|   B|   B|   A|   D|   A|   B|   B|\n",
              "|200001379770|  2020|              9|      M|              1|          3|               1|              1|              6|        1|     null|           0|            null|               null|     null|     null|                  null|              null|           null|           2611606|             Recife|         26|         PE|             0|             0|             0|             0|       null|       null|       null|       null|      null|      null|      null|      null|                null|                null|                null|                null|        0|                null|                null|                null|                null|             null|         null|         null|         null|         null|         null|           null|null|null|null|null|null|null|null|null|null|null|null|null|null|null|null|null|null|null|null|null|null|null|null|null|null|\n",
              "|200001334237|  2020|              4|      M|              1|          1|               1|              1|              1|        1|     null|           0|            null|               null|     null|     null|                  null|              null|           null|           3550308|          São Paulo|         35|         SP|             1|             1|             1|             1|        699|        687|        691|        695|     604.6|     604.8|     562.1|     753.2|CECACBBCADACADDEE...|EAADABBEABCADDBAA...|CADDE99999AEEADBA...|BABADDBDAEBAEBBBE...|        0|DEAAECBBCDCBAEBEE...|EAAADBBEDBDACDBCC...|CADDE99999DEBBBBB...|BABBDABAEEBACBACD...|                1|          140|          120|          120|          120|          100|            600|null|null|null|null|null|null|null|null|null|null|null|null|null|null|null|null|null|null|null|null|null|null|null|null|null|\n",
              "|200006762554|  2020|              5|      F|              2|          3|               1|              1|              3|        1|     null|           0|            null|               null|     null|     null|                  null|              null|           null|           2507507|        João Pessoa|         25|         PB|             1|             1|             1|             1|        598|        567|        577|        588|     439.7|     383.5|     486.2|     448.5|DABCDCAEDEDCBEDCD...|ECCAEAEACDDABCBDA...|99999DDCBBABECCAC...|EEDCCEACEBAAAADCD...|        1|CEDBDDDCACCBDAEBA...|DABCBDDDAEDBECECB...|AAEDCACEEECEAACBA...|AEBCCXCCCACCDABCC...|                1|          120|          120|          120|          140|          100|            600|   B|   C|   C|   B|   2|   B|   A|   B|   C|   A|   A|   B|   A|   B|   A|   A|   A|   A|   B|   A|   A|   C|   A|   A|   A|\n",
              "|200005146210|  2020|              2|      M|              1|          2|               1|              2|              0|        2|        1|           0|            null|               null|     null|     null|                  null|              null|           null|           2304400|          Fortaleza|         23|         CE|             0|             0|             0|             0|       null|       null|       null|       null|      null|      null|      null|      null|                null|                null|                null|                null|        0|                null|                null|                null|                null|             null|         null|         null|         null|         null|         null|           null|   A|   A|   B|   A|   4|   B|   A|   B|   B|   A|   A|   B|   A|   A|   A|   A|   A|   A|   B|   A|   A|   A|   A|   A|   B|\n",
              "+------------+------+---------------+-------+---------------+-----------+----------------+---------------+---------------+---------+---------+------------+----------------+-------------------+---------+---------+----------------------+------------------+---------------+------------------+-------------------+-----------+-----------+--------------+--------------+--------------+--------------+-----------+-----------+-----------+-----------+----------+----------+----------+----------+--------------------+--------------------+--------------------+--------------------+---------+--------------------+--------------------+--------------------+--------------------+-----------------+-------------+-------------+-------------+-------------+-------------+---------------+----+----+----+----+----+----+----+----+----+----+----+----+----+----+----+----+----+----+----+----+----+----+----+----+----+"
            ],
            "text/html": [
              "<table border='1'>\n",
              "<tr><th>NU_INSCRICAO</th><th>NU_ANO</th><th>TP_FAIXA_ETARIA</th><th>TP_SEXO</th><th>TP_ESTADO_CIVIL</th><th>TP_COR_RACA</th><th>TP_NACIONALIDADE</th><th>TP_ST_CONCLUSAO</th><th>TP_ANO_CONCLUIU</th><th>TP_ESCOLA</th><th>TP_ENSINO</th><th>IN_TREINEIRO</th><th>CO_MUNICIPIO_ESC</th><th>NO_MUNICIPIO_ESC</th><th>CO_UF_ESC</th><th>SG_UF_ESC</th><th>TP_DEPENDENCIA_ADM_ESC</th><th>TP_LOCALIZACAO_ESC</th><th>TP_SIT_FUNC_ESC</th><th>CO_MUNICIPIO_PROVA</th><th>NO_MUNICIPIO_PROVA</th><th>CO_UF_PROVA</th><th>SG_UF_PROVA</th><th>TP_PRESENCA_CN</th><th>TP_PRESENCA_CH</th><th>TP_PRESENCA_LC</th><th>TP_PRESENCA_MT</th><th>CO_PROVA_CN</th><th>CO_PROVA_CH</th><th>CO_PROVA_LC</th><th>CO_PROVA_MT</th><th>NU_NOTA_CN</th><th>NU_NOTA_CH</th><th>NU_NOTA_LC</th><th>NU_NOTA_MT</th><th>TX_RESPOSTAS_CN</th><th>TX_RESPOSTAS_CH</th><th>TX_RESPOSTAS_LC</th><th>TX_RESPOSTAS_MT</th><th>TP_LINGUA</th><th>TX_GABARITO_CN</th><th>TX_GABARITO_CH</th><th>TX_GABARITO_LC</th><th>TX_GABARITO_MT</th><th>TP_STATUS_REDACAO</th><th>NU_NOTA_COMP1</th><th>NU_NOTA_COMP2</th><th>NU_NOTA_COMP3</th><th>NU_NOTA_COMP4</th><th>NU_NOTA_COMP5</th><th>NU_NOTA_REDACAO</th><th>Q001</th><th>Q002</th><th>Q003</th><th>Q004</th><th>Q005</th><th>Q006</th><th>Q007</th><th>Q008</th><th>Q009</th><th>Q010</th><th>Q011</th><th>Q012</th><th>Q013</th><th>Q014</th><th>Q015</th><th>Q016</th><th>Q017</th><th>Q018</th><th>Q019</th><th>Q020</th><th>Q021</th><th>Q022</th><th>Q023</th><th>Q024</th><th>Q025</th></tr>\n",
              "<tr><td>200006271946</td><td>2020</td><td>11</td><td>F</td><td>1</td><td>2</td><td>1</td><td>1</td><td>11</td><td>1</td><td>null</td><td>0</td><td>null</td><td>null</td><td>null</td><td>null</td><td>null</td><td>null</td><td>null</td><td>1501402</td><td>Belém</td><td>15</td><td>PA</td><td>0</td><td>0</td><td>0</td><td>0</td><td>null</td><td>null</td><td>null</td><td>null</td><td>null</td><td>null</td><td>null</td><td>null</td><td>null</td><td>null</td><td>null</td><td>null</td><td>1</td><td>null</td><td>null</td><td>null</td><td>null</td><td>null</td><td>null</td><td>null</td><td>null</td><td>null</td><td>null</td><td>null</td><td>null</td><td>null</td><td>null</td><td>null</td><td>null</td><td>null</td><td>null</td><td>null</td><td>null</td><td>null</td><td>null</td><td>null</td><td>null</td><td>null</td><td>null</td><td>null</td><td>null</td><td>null</td><td>null</td><td>null</td><td>null</td><td>null</td><td>null</td><td>null</td><td>null</td></tr>\n",
              "<tr><td>200001195856</td><td>2020</td><td>11</td><td>M</td><td>2</td><td>3</td><td>1</td><td>1</td><td>11</td><td>1</td><td>null</td><td>0</td><td>null</td><td>null</td><td>null</td><td>null</td><td>null</td><td>null</td><td>null</td><td>2408102</td><td>Natal</td><td>24</td><td>RN</td><td>1</td><td>1</td><td>1</td><td>1</td><td>702</td><td>689</td><td>693</td><td>698</td><td>604.1</td><td>661.7</td><td>595.3</td><td>711.3</td><td>BCBDBDCCCDBDDBADE...</td><td>BCAECABCDCEBDBBBD...</td><td>99999CADDEDADBAAB...</td><td>EBEBDEDAECBADCADD...</td><td>1</td><td>ABBACBCCCDDDDBAEE...</td><td>BCEECDBCCDEBDBBBB...</td><td>99999CBDDEDBDBACE...</td><td>BBEADECAECBBXCEBA...</td><td>1</td><td>120</td><td>120</td><td>120</td><td>120</td><td>100</td><td>580</td><td>null</td><td>null</td><td>null</td><td>null</td><td>null</td><td>null</td><td>null</td><td>null</td><td>null</td><td>null</td><td>null</td><td>null</td><td>null</td><td>null</td><td>null</td><td>null</td><td>null</td><td>null</td><td>null</td><td>null</td><td>null</td><td>null</td><td>null</td><td>null</td><td>null</td></tr>\n",
              "<tr><td>200001943954</td><td>2020</td><td>4</td><td>F</td><td>2</td><td>3</td><td>2</td><td>2</td><td>0</td><td>2</td><td>1</td><td>0</td><td>2927408</td><td>Salvador</td><td>29</td><td>BA</td><td>2</td><td>1</td><td>1</td><td>2927408</td><td>Salvador</td><td>29</td><td>BA</td><td>0</td><td>0</td><td>0</td><td>0</td><td>null</td><td>null</td><td>null</td><td>null</td><td>null</td><td>null</td><td>null</td><td>null</td><td>null</td><td>null</td><td>null</td><td>null</td><td>0</td><td>null</td><td>null</td><td>null</td><td>null</td><td>null</td><td>null</td><td>null</td><td>null</td><td>null</td><td>null</td><td>null</td><td>B</td><td>C</td><td>A</td><td>D</td><td>3</td><td>B</td><td>A</td><td>B</td><td>A</td><td>A</td><td>A</td><td>B</td><td>A</td><td>B</td><td>A</td><td>B</td><td>A</td><td>A</td><td>B</td><td>A</td><td>A</td><td>A</td><td>A</td><td>A</td><td>A</td></tr>\n",
              "<tr><td>200001908998</td><td>2020</td><td>2</td><td>M</td><td>1</td><td>3</td><td>1</td><td>2</td><td>0</td><td>2</td><td>1</td><td>0</td><td>3547304</td><td>Santana de Parnaíba</td><td>35</td><td>SP</td><td>3</td><td>1</td><td>1</td><td>3547304</td><td>Santana de Parnaíba</td><td>35</td><td>SP</td><td>1</td><td>1</td><td>1</td><td>1</td><td>700</td><td>688</td><td>692</td><td>696</td><td>620.8</td><td>675</td><td>624.2</td><td>759.4</td><td>EBEDCCCDCBDBAECAE...</td><td>DABCCACCBCCDCADBD...</td><td>DCEAB99999AADAECC...</td><td>CBDBDCCDDEECBAABB...</td><td>0</td><td>BDECCACBEBDEAEDAE...</td><td>DABCCAECBABECADBD...</td><td>DCEAD99999AADACCC...</td><td>EBDBXCCDAEECBAABA...</td><td>1</td><td>140</td><td>200</td><td>140</td><td>120</td><td>160</td><td>760</td><td>null</td><td>null</td><td>null</td><td>null</td><td>null</td><td>null</td><td>null</td><td>null</td><td>null</td><td>null</td><td>null</td><td>null</td><td>null</td><td>null</td><td>null</td><td>null</td><td>null</td><td>null</td><td>null</td><td>null</td><td>null</td><td>null</td><td>null</td><td>null</td><td>null</td></tr>\n",
              "<tr><td>200001634757</td><td>2020</td><td>4</td><td>F</td><td>1</td><td>3</td><td>2</td><td>1</td><td>1</td><td>1</td><td>null</td><td>0</td><td>null</td><td>null</td><td>null</td><td>null</td><td>null</td><td>null</td><td>null</td><td>3121605</td><td>Diamantina</td><td>31</td><td>MG</td><td>0</td><td>0</td><td>0</td><td>0</td><td>null</td><td>null</td><td>null</td><td>null</td><td>null</td><td>null</td><td>null</td><td>null</td><td>null</td><td>null</td><td>null</td><td>null</td><td>1</td><td>null</td><td>null</td><td>null</td><td>null</td><td>null</td><td>null</td><td>null</td><td>null</td><td>null</td><td>null</td><td>null</td><td>B</td><td>G</td><td>B</td><td>B</td><td>3</td><td>B</td><td>A</td><td>B</td><td>D</td><td>A</td><td>A</td><td>B</td><td>A</td><td>B</td><td>A</td><td>A</td><td>A</td><td>A</td><td>B</td><td>A</td><td>B</td><td>B</td><td>A</td><td>A</td><td>B</td></tr>\n",
              "<tr><td>200003132410</td><td>2020</td><td>3</td><td>F</td><td>1</td><td>3</td><td>1</td><td>1</td><td>1</td><td>1</td><td>null</td><td>0</td><td>null</td><td>null</td><td>null</td><td>null</td><td>null</td><td>null</td><td>null</td><td>4305207</td><td>Cerro Largo</td><td>43</td><td>RS</td><td>1</td><td>1</td><td>1</td><td>1</td><td>598</td><td>567</td><td>577</td><td>588</td><td>498.1</td><td>604.7</td><td>505.4</td><td>526.7</td><td>CABBEEACAEBEBCCDA...</td><td>ACEBBDDCADDAACEEA...</td><td>99999CBECEBEDBEEC...</td><td>BADCAAAEEDBEDBACE...</td><td>1</td><td>CEDBDDDCACCBDAEBA...</td><td>DABCBDDDAEDBECECB...</td><td>AAEDCACEEECEAACBA...</td><td>AEBCCXCCCACCDABCC...</td><td>1</td><td>140</td><td>120</td><td>140</td><td>140</td><td>160</td><td>700</td><td>C</td><td>B</td><td>C</td><td>B</td><td>5</td><td>C</td><td>A</td><td>B</td><td>E</td><td>A</td><td>A</td><td>B</td><td>A</td><td>A</td><td>A</td><td>B</td><td>A</td><td>A</td><td>B</td><td>B</td><td>A</td><td>D</td><td>A</td><td>B</td><td>B</td></tr>\n",
              "<tr><td>200001379770</td><td>2020</td><td>9</td><td>M</td><td>1</td><td>3</td><td>1</td><td>1</td><td>6</td><td>1</td><td>null</td><td>0</td><td>null</td><td>null</td><td>null</td><td>null</td><td>null</td><td>null</td><td>null</td><td>2611606</td><td>Recife</td><td>26</td><td>PE</td><td>0</td><td>0</td><td>0</td><td>0</td><td>null</td><td>null</td><td>null</td><td>null</td><td>null</td><td>null</td><td>null</td><td>null</td><td>null</td><td>null</td><td>null</td><td>null</td><td>0</td><td>null</td><td>null</td><td>null</td><td>null</td><td>null</td><td>null</td><td>null</td><td>null</td><td>null</td><td>null</td><td>null</td><td>null</td><td>null</td><td>null</td><td>null</td><td>null</td><td>null</td><td>null</td><td>null</td><td>null</td><td>null</td><td>null</td><td>null</td><td>null</td><td>null</td><td>null</td><td>null</td><td>null</td><td>null</td><td>null</td><td>null</td><td>null</td><td>null</td><td>null</td><td>null</td><td>null</td></tr>\n",
              "<tr><td>200001334237</td><td>2020</td><td>4</td><td>M</td><td>1</td><td>1</td><td>1</td><td>1</td><td>1</td><td>1</td><td>null</td><td>0</td><td>null</td><td>null</td><td>null</td><td>null</td><td>null</td><td>null</td><td>null</td><td>3550308</td><td>São Paulo</td><td>35</td><td>SP</td><td>1</td><td>1</td><td>1</td><td>1</td><td>699</td><td>687</td><td>691</td><td>695</td><td>604.6</td><td>604.8</td><td>562.1</td><td>753.2</td><td>CECACBBCADACADDEE...</td><td>EAADABBEABCADDBAA...</td><td>CADDE99999AEEADBA...</td><td>BABADDBDAEBAEBBBE...</td><td>0</td><td>DEAAECBBCDCBAEBEE...</td><td>EAAADBBEDBDACDBCC...</td><td>CADDE99999DEBBBBB...</td><td>BABBDABAEEBACBACD...</td><td>1</td><td>140</td><td>120</td><td>120</td><td>120</td><td>100</td><td>600</td><td>null</td><td>null</td><td>null</td><td>null</td><td>null</td><td>null</td><td>null</td><td>null</td><td>null</td><td>null</td><td>null</td><td>null</td><td>null</td><td>null</td><td>null</td><td>null</td><td>null</td><td>null</td><td>null</td><td>null</td><td>null</td><td>null</td><td>null</td><td>null</td><td>null</td></tr>\n",
              "<tr><td>200006762554</td><td>2020</td><td>5</td><td>F</td><td>2</td><td>3</td><td>1</td><td>1</td><td>3</td><td>1</td><td>null</td><td>0</td><td>null</td><td>null</td><td>null</td><td>null</td><td>null</td><td>null</td><td>null</td><td>2507507</td><td>João Pessoa</td><td>25</td><td>PB</td><td>1</td><td>1</td><td>1</td><td>1</td><td>598</td><td>567</td><td>577</td><td>588</td><td>439.7</td><td>383.5</td><td>486.2</td><td>448.5</td><td>DABCDCAEDEDCBEDCD...</td><td>ECCAEAEACDDABCBDA...</td><td>99999DDCBBABECCAC...</td><td>EEDCCEACEBAAAADCD...</td><td>1</td><td>CEDBDDDCACCBDAEBA...</td><td>DABCBDDDAEDBECECB...</td><td>AAEDCACEEECEAACBA...</td><td>AEBCCXCCCACCDABCC...</td><td>1</td><td>120</td><td>120</td><td>120</td><td>140</td><td>100</td><td>600</td><td>B</td><td>C</td><td>C</td><td>B</td><td>2</td><td>B</td><td>A</td><td>B</td><td>C</td><td>A</td><td>A</td><td>B</td><td>A</td><td>B</td><td>A</td><td>A</td><td>A</td><td>A</td><td>B</td><td>A</td><td>A</td><td>C</td><td>A</td><td>A</td><td>A</td></tr>\n",
              "<tr><td>200005146210</td><td>2020</td><td>2</td><td>M</td><td>1</td><td>2</td><td>1</td><td>2</td><td>0</td><td>2</td><td>1</td><td>0</td><td>null</td><td>null</td><td>null</td><td>null</td><td>null</td><td>null</td><td>null</td><td>2304400</td><td>Fortaleza</td><td>23</td><td>CE</td><td>0</td><td>0</td><td>0</td><td>0</td><td>null</td><td>null</td><td>null</td><td>null</td><td>null</td><td>null</td><td>null</td><td>null</td><td>null</td><td>null</td><td>null</td><td>null</td><td>0</td><td>null</td><td>null</td><td>null</td><td>null</td><td>null</td><td>null</td><td>null</td><td>null</td><td>null</td><td>null</td><td>null</td><td>A</td><td>A</td><td>B</td><td>A</td><td>4</td><td>B</td><td>A</td><td>B</td><td>B</td><td>A</td><td>A</td><td>B</td><td>A</td><td>A</td><td>A</td><td>A</td><td>A</td><td>A</td><td>B</td><td>A</td><td>A</td><td>A</td><td>A</td><td>A</td><td>B</td></tr>\n",
              "</table>\n"
            ]
          },
          "metadata": {},
          "execution_count": 38
        }
      ],
      "source": [
        "%%time\n",
        "\n",
        "# importando pacote Functions para manipulação de dados\n",
        "import pyspark.sql.functions\n",
        "\n",
        "# primeira leitura dos dados descompactados\n",
        "mida = spark.read.csv('/content/enem_2020/1.bronze/MICRODADOS_ENEM_2020.csv', header= True, sep=';', encoding='ISO-8859-1')\n",
        "mida.limit(10)"
      ]
    },
    {
      "cell_type": "code",
      "source": [
        "\"\"\"\n",
        "Verificando as colunas do DataFrame, avaliando junto à documetação do dicionário dos dados\n",
        "sobre o conteúdo, formato...\n",
        "\"\"\"\n",
        "mida.printSchema()"
      ],
      "metadata": {
        "id": "YDoMDzk0kWLF",
        "colab": {
          "base_uri": "https://localhost:8080/"
        },
        "outputId": "f8153745-a178-44fe-ddf8-1cd1e0ecf286"
      },
      "execution_count": 13,
      "outputs": [
        {
          "output_type": "stream",
          "name": "stdout",
          "text": [
            "root\n",
            " |-- NU_INSCRICAO: string (nullable = true)\n",
            " |-- NU_ANO: string (nullable = true)\n",
            " |-- TP_FAIXA_ETARIA: string (nullable = true)\n",
            " |-- TP_SEXO: string (nullable = true)\n",
            " |-- TP_ESTADO_CIVIL: string (nullable = true)\n",
            " |-- TP_COR_RACA: string (nullable = true)\n",
            " |-- TP_NACIONALIDADE: string (nullable = true)\n",
            " |-- TP_ST_CONCLUSAO: string (nullable = true)\n",
            " |-- TP_ANO_CONCLUIU: string (nullable = true)\n",
            " |-- TP_ESCOLA: string (nullable = true)\n",
            " |-- TP_ENSINO: string (nullable = true)\n",
            " |-- IN_TREINEIRO: string (nullable = true)\n",
            " |-- CO_MUNICIPIO_ESC: string (nullable = true)\n",
            " |-- NO_MUNICIPIO_ESC: string (nullable = true)\n",
            " |-- CO_UF_ESC: string (nullable = true)\n",
            " |-- SG_UF_ESC: string (nullable = true)\n",
            " |-- TP_DEPENDENCIA_ADM_ESC: string (nullable = true)\n",
            " |-- TP_LOCALIZACAO_ESC: string (nullable = true)\n",
            " |-- TP_SIT_FUNC_ESC: string (nullable = true)\n",
            " |-- CO_MUNICIPIO_PROVA: string (nullable = true)\n",
            " |-- NO_MUNICIPIO_PROVA: string (nullable = true)\n",
            " |-- CO_UF_PROVA: string (nullable = true)\n",
            " |-- SG_UF_PROVA: string (nullable = true)\n",
            " |-- TP_PRESENCA_CN: string (nullable = true)\n",
            " |-- TP_PRESENCA_CH: string (nullable = true)\n",
            " |-- TP_PRESENCA_LC: string (nullable = true)\n",
            " |-- TP_PRESENCA_MT: string (nullable = true)\n",
            " |-- CO_PROVA_CN: string (nullable = true)\n",
            " |-- CO_PROVA_CH: string (nullable = true)\n",
            " |-- CO_PROVA_LC: string (nullable = true)\n",
            " |-- CO_PROVA_MT: string (nullable = true)\n",
            " |-- NU_NOTA_CN: string (nullable = true)\n",
            " |-- NU_NOTA_CH: string (nullable = true)\n",
            " |-- NU_NOTA_LC: string (nullable = true)\n",
            " |-- NU_NOTA_MT: string (nullable = true)\n",
            " |-- TX_RESPOSTAS_CN: string (nullable = true)\n",
            " |-- TX_RESPOSTAS_CH: string (nullable = true)\n",
            " |-- TX_RESPOSTAS_LC: string (nullable = true)\n",
            " |-- TX_RESPOSTAS_MT: string (nullable = true)\n",
            " |-- TP_LINGUA: string (nullable = true)\n",
            " |-- TX_GABARITO_CN: string (nullable = true)\n",
            " |-- TX_GABARITO_CH: string (nullable = true)\n",
            " |-- TX_GABARITO_LC: string (nullable = true)\n",
            " |-- TX_GABARITO_MT: string (nullable = true)\n",
            " |-- TP_STATUS_REDACAO: string (nullable = true)\n",
            " |-- NU_NOTA_COMP1: string (nullable = true)\n",
            " |-- NU_NOTA_COMP2: string (nullable = true)\n",
            " |-- NU_NOTA_COMP3: string (nullable = true)\n",
            " |-- NU_NOTA_COMP4: string (nullable = true)\n",
            " |-- NU_NOTA_COMP5: string (nullable = true)\n",
            " |-- NU_NOTA_REDACAO: string (nullable = true)\n",
            " |-- Q001: string (nullable = true)\n",
            " |-- Q002: string (nullable = true)\n",
            " |-- Q003: string (nullable = true)\n",
            " |-- Q004: string (nullable = true)\n",
            " |-- Q005: string (nullable = true)\n",
            " |-- Q006: string (nullable = true)\n",
            " |-- Q007: string (nullable = true)\n",
            " |-- Q008: string (nullable = true)\n",
            " |-- Q009: string (nullable = true)\n",
            " |-- Q010: string (nullable = true)\n",
            " |-- Q011: string (nullable = true)\n",
            " |-- Q012: string (nullable = true)\n",
            " |-- Q013: string (nullable = true)\n",
            " |-- Q014: string (nullable = true)\n",
            " |-- Q015: string (nullable = true)\n",
            " |-- Q016: string (nullable = true)\n",
            " |-- Q017: string (nullable = true)\n",
            " |-- Q018: string (nullable = true)\n",
            " |-- Q019: string (nullable = true)\n",
            " |-- Q020: string (nullable = true)\n",
            " |-- Q021: string (nullable = true)\n",
            " |-- Q022: string (nullable = true)\n",
            " |-- Q023: string (nullable = true)\n",
            " |-- Q024: string (nullable = true)\n",
            " |-- Q025: string (nullable = true)\n",
            "\n"
          ]
        }
      ]
    },
    {
      "cell_type": "markdown",
      "source": [
        "# Transformação dos dados"
      ],
      "metadata": {
        "id": "MjYpRtL5-KEb"
      }
    },
    {
      "cell_type": "code",
      "source": [
        "\"\"\"\n",
        "Para realizar o tratamento de forma mais eficiente, o arquivo será transformado em Parquet.\n",
        "É possível atribuir o destino do arquivo em uma variável para usar na função\n",
        "de salvar o arquivo no formato desejado, por isso ao alterar o formato o arquivo será salvo na pasta /silver.\n",
        "\"\"\"\n",
        "\n",
        "# Caminho para salvar o arquivo Parquet\n",
        "parquet_path = \"/content/enem_2020/2.silver/MICRODADOS_ENEM_2020.parquet\"\n",
        "\n",
        "# Salvar o DataFrame como arquivo Parquet\n",
        "mida.write.mode(\"overwrite\").parquet(parquet_path)"
      ],
      "metadata": {
        "id": "6jBgmCFKkWCw"
      },
      "execution_count": 15,
      "outputs": []
    },
    {
      "cell_type": "code",
      "execution_count": 39,
      "metadata": {
        "id": "qLS_NEpEgDBJ",
        "colab": {
          "base_uri": "https://localhost:8080/",
          "height": 334
        },
        "outputId": "12216fad-a9fa-40c1-942c-e8e50a8731ec"
      },
      "outputs": [
        {
          "output_type": "stream",
          "name": "stdout",
          "text": [
            "CPU times: user 3.64 ms, sys: 671 µs, total: 4.31 ms\n",
            "Wall time: 180 ms\n"
          ]
        },
        {
          "output_type": "execute_result",
          "data": {
            "text/plain": [
              "+------------+------+---------------+-------+---------------+-----------+----------------+---------------+---------------+---------+---------+------------+----------------+-------------------+---------+---------+----------------------+------------------+---------------+------------------+-------------------+-----------+-----------+--------------+--------------+--------------+--------------+-----------+-----------+-----------+-----------+----------+----------+----------+----------+--------------------+--------------------+--------------------+--------------------+---------+--------------------+--------------------+--------------------+--------------------+-----------------+-------------+-------------+-------------+-------------+-------------+---------------+----+----+----+----+----+----+----+----+----+----+----+----+----+----+----+----+----+----+----+----+----+----+----+----+----+\n",
              "|NU_INSCRICAO|NU_ANO|TP_FAIXA_ETARIA|TP_SEXO|TP_ESTADO_CIVIL|TP_COR_RACA|TP_NACIONALIDADE|TP_ST_CONCLUSAO|TP_ANO_CONCLUIU|TP_ESCOLA|TP_ENSINO|IN_TREINEIRO|CO_MUNICIPIO_ESC|   NO_MUNICIPIO_ESC|CO_UF_ESC|SG_UF_ESC|TP_DEPENDENCIA_ADM_ESC|TP_LOCALIZACAO_ESC|TP_SIT_FUNC_ESC|CO_MUNICIPIO_PROVA| NO_MUNICIPIO_PROVA|CO_UF_PROVA|SG_UF_PROVA|TP_PRESENCA_CN|TP_PRESENCA_CH|TP_PRESENCA_LC|TP_PRESENCA_MT|CO_PROVA_CN|CO_PROVA_CH|CO_PROVA_LC|CO_PROVA_MT|NU_NOTA_CN|NU_NOTA_CH|NU_NOTA_LC|NU_NOTA_MT|     TX_RESPOSTAS_CN|     TX_RESPOSTAS_CH|     TX_RESPOSTAS_LC|     TX_RESPOSTAS_MT|TP_LINGUA|      TX_GABARITO_CN|      TX_GABARITO_CH|      TX_GABARITO_LC|      TX_GABARITO_MT|TP_STATUS_REDACAO|NU_NOTA_COMP1|NU_NOTA_COMP2|NU_NOTA_COMP3|NU_NOTA_COMP4|NU_NOTA_COMP5|NU_NOTA_REDACAO|Q001|Q002|Q003|Q004|Q005|Q006|Q007|Q008|Q009|Q010|Q011|Q012|Q013|Q014|Q015|Q016|Q017|Q018|Q019|Q020|Q021|Q022|Q023|Q024|Q025|\n",
              "+------------+------+---------------+-------+---------------+-----------+----------------+---------------+---------------+---------+---------+------------+----------------+-------------------+---------+---------+----------------------+------------------+---------------+------------------+-------------------+-----------+-----------+--------------+--------------+--------------+--------------+-----------+-----------+-----------+-----------+----------+----------+----------+----------+--------------------+--------------------+--------------------+--------------------+---------+--------------------+--------------------+--------------------+--------------------+-----------------+-------------+-------------+-------------+-------------+-------------+---------------+----+----+----+----+----+----+----+----+----+----+----+----+----+----+----+----+----+----+----+----+----+----+----+----+----+\n",
              "|200006271946|  2020|             11|      F|              1|          2|               1|              1|             11|        1|     null|           0|            null|               null|     null|     null|                  null|              null|           null|           1501402|              Belém|         15|         PA|             0|             0|             0|             0|       null|       null|       null|       null|      null|      null|      null|      null|                null|                null|                null|                null|        1|                null|                null|                null|                null|             null|         null|         null|         null|         null|         null|           null|null|null|null|null|null|null|null|null|null|null|null|null|null|null|null|null|null|null|null|null|null|null|null|null|null|\n",
              "|200001195856|  2020|             11|      M|              2|          3|               1|              1|             11|        1|     null|           0|            null|               null|     null|     null|                  null|              null|           null|           2408102|              Natal|         24|         RN|             1|             1|             1|             1|        702|        689|        693|        698|     604.1|     661.7|     595.3|     711.3|BCBDBDCCCDBDDBADE...|BCAECABCDCEBDBBBD...|99999CADDEDADBAAB...|EBEBDEDAECBADCADD...|        1|ABBACBCCCDDDDBAEE...|BCEECDBCCDEBDBBBB...|99999CBDDEDBDBACE...|BBEADECAECBBXCEBA...|                1|          120|          120|          120|          120|          100|            580|null|null|null|null|null|null|null|null|null|null|null|null|null|null|null|null|null|null|null|null|null|null|null|null|null|\n",
              "|200001943954|  2020|              4|      F|              2|          3|               2|              2|              0|        2|        1|           0|         2927408|           Salvador|       29|       BA|                     2|                 1|              1|           2927408|           Salvador|         29|         BA|             0|             0|             0|             0|       null|       null|       null|       null|      null|      null|      null|      null|                null|                null|                null|                null|        0|                null|                null|                null|                null|             null|         null|         null|         null|         null|         null|           null|   B|   C|   A|   D|   3|   B|   A|   B|   A|   A|   A|   B|   A|   B|   A|   B|   A|   A|   B|   A|   A|   A|   A|   A|   A|\n",
              "|200001908998|  2020|              2|      M|              1|          3|               1|              2|              0|        2|        1|           0|         3547304|Santana de Parnaíba|       35|       SP|                     3|                 1|              1|           3547304|Santana de Parnaíba|         35|         SP|             1|             1|             1|             1|        700|        688|        692|        696|     620.8|       675|     624.2|     759.4|EBEDCCCDCBDBAECAE...|DABCCACCBCCDCADBD...|DCEAB99999AADAECC...|CBDBDCCDDEECBAABB...|        0|BDECCACBEBDEAEDAE...|DABCCAECBABECADBD...|DCEAD99999AADACCC...|EBDBXCCDAEECBAABA...|                1|          140|          200|          140|          120|          160|            760|null|null|null|null|null|null|null|null|null|null|null|null|null|null|null|null|null|null|null|null|null|null|null|null|null|\n",
              "|200001634757|  2020|              4|      F|              1|          3|               2|              1|              1|        1|     null|           0|            null|               null|     null|     null|                  null|              null|           null|           3121605|         Diamantina|         31|         MG|             0|             0|             0|             0|       null|       null|       null|       null|      null|      null|      null|      null|                null|                null|                null|                null|        1|                null|                null|                null|                null|             null|         null|         null|         null|         null|         null|           null|   B|   G|   B|   B|   3|   B|   A|   B|   D|   A|   A|   B|   A|   B|   A|   A|   A|   A|   B|   A|   B|   B|   A|   A|   B|\n",
              "|200003132410|  2020|              3|      F|              1|          3|               1|              1|              1|        1|     null|           0|            null|               null|     null|     null|                  null|              null|           null|           4305207|        Cerro Largo|         43|         RS|             1|             1|             1|             1|        598|        567|        577|        588|     498.1|     604.7|     505.4|     526.7|CABBEEACAEBEBCCDA...|ACEBBDDCADDAACEEA...|99999CBECEBEDBEEC...|BADCAAAEEDBEDBACE...|        1|CEDBDDDCACCBDAEBA...|DABCBDDDAEDBECECB...|AAEDCACEEECEAACBA...|AEBCCXCCCACCDABCC...|                1|          140|          120|          140|          140|          160|            700|   C|   B|   C|   B|   5|   C|   A|   B|   E|   A|   A|   B|   A|   A|   A|   B|   A|   A|   B|   B|   A|   D|   A|   B|   B|\n",
              "|200001379770|  2020|              9|      M|              1|          3|               1|              1|              6|        1|     null|           0|            null|               null|     null|     null|                  null|              null|           null|           2611606|             Recife|         26|         PE|             0|             0|             0|             0|       null|       null|       null|       null|      null|      null|      null|      null|                null|                null|                null|                null|        0|                null|                null|                null|                null|             null|         null|         null|         null|         null|         null|           null|null|null|null|null|null|null|null|null|null|null|null|null|null|null|null|null|null|null|null|null|null|null|null|null|null|\n",
              "|200001334237|  2020|              4|      M|              1|          1|               1|              1|              1|        1|     null|           0|            null|               null|     null|     null|                  null|              null|           null|           3550308|          São Paulo|         35|         SP|             1|             1|             1|             1|        699|        687|        691|        695|     604.6|     604.8|     562.1|     753.2|CECACBBCADACADDEE...|EAADABBEABCADDBAA...|CADDE99999AEEADBA...|BABADDBDAEBAEBBBE...|        0|DEAAECBBCDCBAEBEE...|EAAADBBEDBDACDBCC...|CADDE99999DEBBBBB...|BABBDABAEEBACBACD...|                1|          140|          120|          120|          120|          100|            600|null|null|null|null|null|null|null|null|null|null|null|null|null|null|null|null|null|null|null|null|null|null|null|null|null|\n",
              "|200006762554|  2020|              5|      F|              2|          3|               1|              1|              3|        1|     null|           0|            null|               null|     null|     null|                  null|              null|           null|           2507507|        João Pessoa|         25|         PB|             1|             1|             1|             1|        598|        567|        577|        588|     439.7|     383.5|     486.2|     448.5|DABCDCAEDEDCBEDCD...|ECCAEAEACDDABCBDA...|99999DDCBBABECCAC...|EEDCCEACEBAAAADCD...|        1|CEDBDDDCACCBDAEBA...|DABCBDDDAEDBECECB...|AAEDCACEEECEAACBA...|AEBCCXCCCACCDABCC...|                1|          120|          120|          120|          140|          100|            600|   B|   C|   C|   B|   2|   B|   A|   B|   C|   A|   A|   B|   A|   B|   A|   A|   A|   A|   B|   A|   A|   C|   A|   A|   A|\n",
              "|200005146210|  2020|              2|      M|              1|          2|               1|              2|              0|        2|        1|           0|            null|               null|     null|     null|                  null|              null|           null|           2304400|          Fortaleza|         23|         CE|             0|             0|             0|             0|       null|       null|       null|       null|      null|      null|      null|      null|                null|                null|                null|                null|        0|                null|                null|                null|                null|             null|         null|         null|         null|         null|         null|           null|   A|   A|   B|   A|   4|   B|   A|   B|   B|   A|   A|   B|   A|   A|   A|   A|   A|   A|   B|   A|   A|   A|   A|   A|   B|\n",
              "+------------+------+---------------+-------+---------------+-----------+----------------+---------------+---------------+---------+---------+------------+----------------+-------------------+---------+---------+----------------------+------------------+---------------+------------------+-------------------+-----------+-----------+--------------+--------------+--------------+--------------+-----------+-----------+-----------+-----------+----------+----------+----------+----------+--------------------+--------------------+--------------------+--------------------+---------+--------------------+--------------------+--------------------+--------------------+-----------------+-------------+-------------+-------------+-------------+-------------+---------------+----+----+----+----+----+----+----+----+----+----+----+----+----+----+----+----+----+----+----+----+----+----+----+----+----+"
            ],
            "text/html": [
              "<table border='1'>\n",
              "<tr><th>NU_INSCRICAO</th><th>NU_ANO</th><th>TP_FAIXA_ETARIA</th><th>TP_SEXO</th><th>TP_ESTADO_CIVIL</th><th>TP_COR_RACA</th><th>TP_NACIONALIDADE</th><th>TP_ST_CONCLUSAO</th><th>TP_ANO_CONCLUIU</th><th>TP_ESCOLA</th><th>TP_ENSINO</th><th>IN_TREINEIRO</th><th>CO_MUNICIPIO_ESC</th><th>NO_MUNICIPIO_ESC</th><th>CO_UF_ESC</th><th>SG_UF_ESC</th><th>TP_DEPENDENCIA_ADM_ESC</th><th>TP_LOCALIZACAO_ESC</th><th>TP_SIT_FUNC_ESC</th><th>CO_MUNICIPIO_PROVA</th><th>NO_MUNICIPIO_PROVA</th><th>CO_UF_PROVA</th><th>SG_UF_PROVA</th><th>TP_PRESENCA_CN</th><th>TP_PRESENCA_CH</th><th>TP_PRESENCA_LC</th><th>TP_PRESENCA_MT</th><th>CO_PROVA_CN</th><th>CO_PROVA_CH</th><th>CO_PROVA_LC</th><th>CO_PROVA_MT</th><th>NU_NOTA_CN</th><th>NU_NOTA_CH</th><th>NU_NOTA_LC</th><th>NU_NOTA_MT</th><th>TX_RESPOSTAS_CN</th><th>TX_RESPOSTAS_CH</th><th>TX_RESPOSTAS_LC</th><th>TX_RESPOSTAS_MT</th><th>TP_LINGUA</th><th>TX_GABARITO_CN</th><th>TX_GABARITO_CH</th><th>TX_GABARITO_LC</th><th>TX_GABARITO_MT</th><th>TP_STATUS_REDACAO</th><th>NU_NOTA_COMP1</th><th>NU_NOTA_COMP2</th><th>NU_NOTA_COMP3</th><th>NU_NOTA_COMP4</th><th>NU_NOTA_COMP5</th><th>NU_NOTA_REDACAO</th><th>Q001</th><th>Q002</th><th>Q003</th><th>Q004</th><th>Q005</th><th>Q006</th><th>Q007</th><th>Q008</th><th>Q009</th><th>Q010</th><th>Q011</th><th>Q012</th><th>Q013</th><th>Q014</th><th>Q015</th><th>Q016</th><th>Q017</th><th>Q018</th><th>Q019</th><th>Q020</th><th>Q021</th><th>Q022</th><th>Q023</th><th>Q024</th><th>Q025</th></tr>\n",
              "<tr><td>200006271946</td><td>2020</td><td>11</td><td>F</td><td>1</td><td>2</td><td>1</td><td>1</td><td>11</td><td>1</td><td>null</td><td>0</td><td>null</td><td>null</td><td>null</td><td>null</td><td>null</td><td>null</td><td>null</td><td>1501402</td><td>Belém</td><td>15</td><td>PA</td><td>0</td><td>0</td><td>0</td><td>0</td><td>null</td><td>null</td><td>null</td><td>null</td><td>null</td><td>null</td><td>null</td><td>null</td><td>null</td><td>null</td><td>null</td><td>null</td><td>1</td><td>null</td><td>null</td><td>null</td><td>null</td><td>null</td><td>null</td><td>null</td><td>null</td><td>null</td><td>null</td><td>null</td><td>null</td><td>null</td><td>null</td><td>null</td><td>null</td><td>null</td><td>null</td><td>null</td><td>null</td><td>null</td><td>null</td><td>null</td><td>null</td><td>null</td><td>null</td><td>null</td><td>null</td><td>null</td><td>null</td><td>null</td><td>null</td><td>null</td><td>null</td><td>null</td><td>null</td></tr>\n",
              "<tr><td>200001195856</td><td>2020</td><td>11</td><td>M</td><td>2</td><td>3</td><td>1</td><td>1</td><td>11</td><td>1</td><td>null</td><td>0</td><td>null</td><td>null</td><td>null</td><td>null</td><td>null</td><td>null</td><td>null</td><td>2408102</td><td>Natal</td><td>24</td><td>RN</td><td>1</td><td>1</td><td>1</td><td>1</td><td>702</td><td>689</td><td>693</td><td>698</td><td>604.1</td><td>661.7</td><td>595.3</td><td>711.3</td><td>BCBDBDCCCDBDDBADE...</td><td>BCAECABCDCEBDBBBD...</td><td>99999CADDEDADBAAB...</td><td>EBEBDEDAECBADCADD...</td><td>1</td><td>ABBACBCCCDDDDBAEE...</td><td>BCEECDBCCDEBDBBBB...</td><td>99999CBDDEDBDBACE...</td><td>BBEADECAECBBXCEBA...</td><td>1</td><td>120</td><td>120</td><td>120</td><td>120</td><td>100</td><td>580</td><td>null</td><td>null</td><td>null</td><td>null</td><td>null</td><td>null</td><td>null</td><td>null</td><td>null</td><td>null</td><td>null</td><td>null</td><td>null</td><td>null</td><td>null</td><td>null</td><td>null</td><td>null</td><td>null</td><td>null</td><td>null</td><td>null</td><td>null</td><td>null</td><td>null</td></tr>\n",
              "<tr><td>200001943954</td><td>2020</td><td>4</td><td>F</td><td>2</td><td>3</td><td>2</td><td>2</td><td>0</td><td>2</td><td>1</td><td>0</td><td>2927408</td><td>Salvador</td><td>29</td><td>BA</td><td>2</td><td>1</td><td>1</td><td>2927408</td><td>Salvador</td><td>29</td><td>BA</td><td>0</td><td>0</td><td>0</td><td>0</td><td>null</td><td>null</td><td>null</td><td>null</td><td>null</td><td>null</td><td>null</td><td>null</td><td>null</td><td>null</td><td>null</td><td>null</td><td>0</td><td>null</td><td>null</td><td>null</td><td>null</td><td>null</td><td>null</td><td>null</td><td>null</td><td>null</td><td>null</td><td>null</td><td>B</td><td>C</td><td>A</td><td>D</td><td>3</td><td>B</td><td>A</td><td>B</td><td>A</td><td>A</td><td>A</td><td>B</td><td>A</td><td>B</td><td>A</td><td>B</td><td>A</td><td>A</td><td>B</td><td>A</td><td>A</td><td>A</td><td>A</td><td>A</td><td>A</td></tr>\n",
              "<tr><td>200001908998</td><td>2020</td><td>2</td><td>M</td><td>1</td><td>3</td><td>1</td><td>2</td><td>0</td><td>2</td><td>1</td><td>0</td><td>3547304</td><td>Santana de Parnaíba</td><td>35</td><td>SP</td><td>3</td><td>1</td><td>1</td><td>3547304</td><td>Santana de Parnaíba</td><td>35</td><td>SP</td><td>1</td><td>1</td><td>1</td><td>1</td><td>700</td><td>688</td><td>692</td><td>696</td><td>620.8</td><td>675</td><td>624.2</td><td>759.4</td><td>EBEDCCCDCBDBAECAE...</td><td>DABCCACCBCCDCADBD...</td><td>DCEAB99999AADAECC...</td><td>CBDBDCCDDEECBAABB...</td><td>0</td><td>BDECCACBEBDEAEDAE...</td><td>DABCCAECBABECADBD...</td><td>DCEAD99999AADACCC...</td><td>EBDBXCCDAEECBAABA...</td><td>1</td><td>140</td><td>200</td><td>140</td><td>120</td><td>160</td><td>760</td><td>null</td><td>null</td><td>null</td><td>null</td><td>null</td><td>null</td><td>null</td><td>null</td><td>null</td><td>null</td><td>null</td><td>null</td><td>null</td><td>null</td><td>null</td><td>null</td><td>null</td><td>null</td><td>null</td><td>null</td><td>null</td><td>null</td><td>null</td><td>null</td><td>null</td></tr>\n",
              "<tr><td>200001634757</td><td>2020</td><td>4</td><td>F</td><td>1</td><td>3</td><td>2</td><td>1</td><td>1</td><td>1</td><td>null</td><td>0</td><td>null</td><td>null</td><td>null</td><td>null</td><td>null</td><td>null</td><td>null</td><td>3121605</td><td>Diamantina</td><td>31</td><td>MG</td><td>0</td><td>0</td><td>0</td><td>0</td><td>null</td><td>null</td><td>null</td><td>null</td><td>null</td><td>null</td><td>null</td><td>null</td><td>null</td><td>null</td><td>null</td><td>null</td><td>1</td><td>null</td><td>null</td><td>null</td><td>null</td><td>null</td><td>null</td><td>null</td><td>null</td><td>null</td><td>null</td><td>null</td><td>B</td><td>G</td><td>B</td><td>B</td><td>3</td><td>B</td><td>A</td><td>B</td><td>D</td><td>A</td><td>A</td><td>B</td><td>A</td><td>B</td><td>A</td><td>A</td><td>A</td><td>A</td><td>B</td><td>A</td><td>B</td><td>B</td><td>A</td><td>A</td><td>B</td></tr>\n",
              "<tr><td>200003132410</td><td>2020</td><td>3</td><td>F</td><td>1</td><td>3</td><td>1</td><td>1</td><td>1</td><td>1</td><td>null</td><td>0</td><td>null</td><td>null</td><td>null</td><td>null</td><td>null</td><td>null</td><td>null</td><td>4305207</td><td>Cerro Largo</td><td>43</td><td>RS</td><td>1</td><td>1</td><td>1</td><td>1</td><td>598</td><td>567</td><td>577</td><td>588</td><td>498.1</td><td>604.7</td><td>505.4</td><td>526.7</td><td>CABBEEACAEBEBCCDA...</td><td>ACEBBDDCADDAACEEA...</td><td>99999CBECEBEDBEEC...</td><td>BADCAAAEEDBEDBACE...</td><td>1</td><td>CEDBDDDCACCBDAEBA...</td><td>DABCBDDDAEDBECECB...</td><td>AAEDCACEEECEAACBA...</td><td>AEBCCXCCCACCDABCC...</td><td>1</td><td>140</td><td>120</td><td>140</td><td>140</td><td>160</td><td>700</td><td>C</td><td>B</td><td>C</td><td>B</td><td>5</td><td>C</td><td>A</td><td>B</td><td>E</td><td>A</td><td>A</td><td>B</td><td>A</td><td>A</td><td>A</td><td>B</td><td>A</td><td>A</td><td>B</td><td>B</td><td>A</td><td>D</td><td>A</td><td>B</td><td>B</td></tr>\n",
              "<tr><td>200001379770</td><td>2020</td><td>9</td><td>M</td><td>1</td><td>3</td><td>1</td><td>1</td><td>6</td><td>1</td><td>null</td><td>0</td><td>null</td><td>null</td><td>null</td><td>null</td><td>null</td><td>null</td><td>null</td><td>2611606</td><td>Recife</td><td>26</td><td>PE</td><td>0</td><td>0</td><td>0</td><td>0</td><td>null</td><td>null</td><td>null</td><td>null</td><td>null</td><td>null</td><td>null</td><td>null</td><td>null</td><td>null</td><td>null</td><td>null</td><td>0</td><td>null</td><td>null</td><td>null</td><td>null</td><td>null</td><td>null</td><td>null</td><td>null</td><td>null</td><td>null</td><td>null</td><td>null</td><td>null</td><td>null</td><td>null</td><td>null</td><td>null</td><td>null</td><td>null</td><td>null</td><td>null</td><td>null</td><td>null</td><td>null</td><td>null</td><td>null</td><td>null</td><td>null</td><td>null</td><td>null</td><td>null</td><td>null</td><td>null</td><td>null</td><td>null</td><td>null</td></tr>\n",
              "<tr><td>200001334237</td><td>2020</td><td>4</td><td>M</td><td>1</td><td>1</td><td>1</td><td>1</td><td>1</td><td>1</td><td>null</td><td>0</td><td>null</td><td>null</td><td>null</td><td>null</td><td>null</td><td>null</td><td>null</td><td>3550308</td><td>São Paulo</td><td>35</td><td>SP</td><td>1</td><td>1</td><td>1</td><td>1</td><td>699</td><td>687</td><td>691</td><td>695</td><td>604.6</td><td>604.8</td><td>562.1</td><td>753.2</td><td>CECACBBCADACADDEE...</td><td>EAADABBEABCADDBAA...</td><td>CADDE99999AEEADBA...</td><td>BABADDBDAEBAEBBBE...</td><td>0</td><td>DEAAECBBCDCBAEBEE...</td><td>EAAADBBEDBDACDBCC...</td><td>CADDE99999DEBBBBB...</td><td>BABBDABAEEBACBACD...</td><td>1</td><td>140</td><td>120</td><td>120</td><td>120</td><td>100</td><td>600</td><td>null</td><td>null</td><td>null</td><td>null</td><td>null</td><td>null</td><td>null</td><td>null</td><td>null</td><td>null</td><td>null</td><td>null</td><td>null</td><td>null</td><td>null</td><td>null</td><td>null</td><td>null</td><td>null</td><td>null</td><td>null</td><td>null</td><td>null</td><td>null</td><td>null</td></tr>\n",
              "<tr><td>200006762554</td><td>2020</td><td>5</td><td>F</td><td>2</td><td>3</td><td>1</td><td>1</td><td>3</td><td>1</td><td>null</td><td>0</td><td>null</td><td>null</td><td>null</td><td>null</td><td>null</td><td>null</td><td>null</td><td>2507507</td><td>João Pessoa</td><td>25</td><td>PB</td><td>1</td><td>1</td><td>1</td><td>1</td><td>598</td><td>567</td><td>577</td><td>588</td><td>439.7</td><td>383.5</td><td>486.2</td><td>448.5</td><td>DABCDCAEDEDCBEDCD...</td><td>ECCAEAEACDDABCBDA...</td><td>99999DDCBBABECCAC...</td><td>EEDCCEACEBAAAADCD...</td><td>1</td><td>CEDBDDDCACCBDAEBA...</td><td>DABCBDDDAEDBECECB...</td><td>AAEDCACEEECEAACBA...</td><td>AEBCCXCCCACCDABCC...</td><td>1</td><td>120</td><td>120</td><td>120</td><td>140</td><td>100</td><td>600</td><td>B</td><td>C</td><td>C</td><td>B</td><td>2</td><td>B</td><td>A</td><td>B</td><td>C</td><td>A</td><td>A</td><td>B</td><td>A</td><td>B</td><td>A</td><td>A</td><td>A</td><td>A</td><td>B</td><td>A</td><td>A</td><td>C</td><td>A</td><td>A</td><td>A</td></tr>\n",
              "<tr><td>200005146210</td><td>2020</td><td>2</td><td>M</td><td>1</td><td>2</td><td>1</td><td>2</td><td>0</td><td>2</td><td>1</td><td>0</td><td>null</td><td>null</td><td>null</td><td>null</td><td>null</td><td>null</td><td>null</td><td>2304400</td><td>Fortaleza</td><td>23</td><td>CE</td><td>0</td><td>0</td><td>0</td><td>0</td><td>null</td><td>null</td><td>null</td><td>null</td><td>null</td><td>null</td><td>null</td><td>null</td><td>null</td><td>null</td><td>null</td><td>null</td><td>0</td><td>null</td><td>null</td><td>null</td><td>null</td><td>null</td><td>null</td><td>null</td><td>null</td><td>null</td><td>null</td><td>null</td><td>A</td><td>A</td><td>B</td><td>A</td><td>4</td><td>B</td><td>A</td><td>B</td><td>B</td><td>A</td><td>A</td><td>B</td><td>A</td><td>A</td><td>A</td><td>A</td><td>A</td><td>A</td><td>B</td><td>A</td><td>A</td><td>A</td><td>A</td><td>A</td><td>B</td></tr>\n",
              "</table>\n"
            ]
          },
          "metadata": {},
          "execution_count": 39
        }
      ],
      "source": [
        "%%time\n",
        "\n",
        "# Pra ler o arquivo Parquet, pode usar a mesma variável criada para alocar o aquivo na célula anterior\n",
        "mida_parquet = spark.read.parquet(parquet_path)\n",
        "mida_parquet.limit(10)"
      ]
    },
    {
      "cell_type": "markdown",
      "source": [
        "Parte do processo de ETL é a seleção das colunas que contém os dados importantes para análises posteriores pela equipe de Analytics."
      ],
      "metadata": {
        "id": "DFHkGUHr-Cdy"
      }
    },
    {
      "cell_type": "markdown",
      "source": [
        "Em um dataset que contém muitas colunas como esse, para manter o código limpo é interessante colocar as colunas selecionadas para deleção em uma variável antes de colocar na função. Isso é realizado utilizando o documento de dicionário de dados."
      ],
      "metadata": {
        "id": "m8I1WWjX-0bx"
      }
    },
    {
      "cell_type": "code",
      "execution_count": 17,
      "metadata": {
        "id": "E7NuMVpygC2h",
        "colab": {
          "base_uri": "https://localhost:8080/"
        },
        "outputId": "21f7b112-8d37-498b-b5ee-e7049f82b9c2"
      },
      "outputs": [
        {
          "output_type": "execute_result",
          "data": {
            "text/plain": [
              "['NU_INSCRICAO',\n",
              " 'NU_ANO',\n",
              " 'TP_FAIXA_ETARIA',\n",
              " 'TP_SEXO',\n",
              " 'TP_ESTADO_CIVIL',\n",
              " 'TP_COR_RACA',\n",
              " 'TP_NACIONALIDADE',\n",
              " 'TP_ST_CONCLUSAO',\n",
              " 'TP_ANO_CONCLUIU',\n",
              " 'TP_ESCOLA',\n",
              " 'TP_ENSINO',\n",
              " 'IN_TREINEIRO',\n",
              " 'CO_MUNICIPIO_ESC',\n",
              " 'NO_MUNICIPIO_ESC',\n",
              " 'CO_UF_ESC',\n",
              " 'SG_UF_ESC',\n",
              " 'TP_DEPENDENCIA_ADM_ESC',\n",
              " 'TP_LOCALIZACAO_ESC',\n",
              " 'TP_SIT_FUNC_ESC',\n",
              " 'CO_MUNICIPIO_PROVA',\n",
              " 'NO_MUNICIPIO_PROVA',\n",
              " 'CO_UF_PROVA',\n",
              " 'SG_UF_PROVA',\n",
              " 'TP_PRESENCA_CN',\n",
              " 'TP_PRESENCA_CH',\n",
              " 'TP_PRESENCA_LC',\n",
              " 'TP_PRESENCA_MT',\n",
              " 'CO_PROVA_CN',\n",
              " 'CO_PROVA_CH',\n",
              " 'CO_PROVA_LC',\n",
              " 'CO_PROVA_MT',\n",
              " 'NU_NOTA_CN',\n",
              " 'NU_NOTA_CH',\n",
              " 'NU_NOTA_LC',\n",
              " 'NU_NOTA_MT',\n",
              " 'TX_RESPOSTAS_CN',\n",
              " 'TX_RESPOSTAS_CH',\n",
              " 'TX_RESPOSTAS_LC',\n",
              " 'TX_RESPOSTAS_MT',\n",
              " 'TP_LINGUA',\n",
              " 'TX_GABARITO_CN',\n",
              " 'TX_GABARITO_CH',\n",
              " 'TX_GABARITO_LC',\n",
              " 'TX_GABARITO_MT',\n",
              " 'TP_STATUS_REDACAO',\n",
              " 'NU_NOTA_COMP1',\n",
              " 'NU_NOTA_COMP2',\n",
              " 'NU_NOTA_COMP3',\n",
              " 'NU_NOTA_COMP4',\n",
              " 'NU_NOTA_COMP5',\n",
              " 'NU_NOTA_REDACAO',\n",
              " 'Q001',\n",
              " 'Q002',\n",
              " 'Q003',\n",
              " 'Q004',\n",
              " 'Q005',\n",
              " 'Q006',\n",
              " 'Q007',\n",
              " 'Q008',\n",
              " 'Q009',\n",
              " 'Q010',\n",
              " 'Q011',\n",
              " 'Q012',\n",
              " 'Q013',\n",
              " 'Q014',\n",
              " 'Q015',\n",
              " 'Q016',\n",
              " 'Q017',\n",
              " 'Q018',\n",
              " 'Q019',\n",
              " 'Q020',\n",
              " 'Q021',\n",
              " 'Q022',\n",
              " 'Q023',\n",
              " 'Q024',\n",
              " 'Q025']"
            ]
          },
          "metadata": {},
          "execution_count": 17
        }
      ],
      "source": [
        "# Imprimindo as colunas em uma lista\n",
        "list(mida_parquet.columns)"
      ]
    },
    {
      "cell_type": "code",
      "source": [
        "# Selecionando as colunas que serão removidas\n",
        "dropcols = ('TX_RESPOSTAS_CN',\n",
        " 'TX_RESPOSTAS_CH',\n",
        " 'TX_RESPOSTAS_LC',\n",
        " 'TX_RESPOSTAS_MT',\n",
        " 'TX_GABARITO_CN',\n",
        " 'TX_GABARITO_CH',\n",
        " 'TX_GABARITO_LC',\n",
        " 'TX_GABARITO_MT',\n",
        " 'Q001',\n",
        " 'Q002',\n",
        " 'Q003',\n",
        " 'Q004',\n",
        " 'Q005',\n",
        " 'Q006',\n",
        " 'Q007',\n",
        " 'Q008',\n",
        " 'Q009',\n",
        " 'Q010',\n",
        " 'Q011',\n",
        " 'Q012',\n",
        " 'Q013',\n",
        " 'Q014',\n",
        " 'Q015',\n",
        " 'Q016',\n",
        " 'Q017',\n",
        " 'Q018',\n",
        " 'Q019',\n",
        " 'Q020',\n",
        " 'Q021',\n",
        " 'Q022',\n",
        " 'Q023',\n",
        " 'Q024',\n",
        " 'Q025')"
      ],
      "metadata": {
        "id": "cXvOU8dW_oVw"
      },
      "execution_count": 18,
      "outputs": []
    },
    {
      "cell_type": "code",
      "execution_count": 40,
      "metadata": {
        "id": "JkUF4yJFgG25",
        "colab": {
          "base_uri": "https://localhost:8080/",
          "height": 298
        },
        "outputId": "b22c13cb-52ef-4b82-9a69-ee6e0ae875c0"
      },
      "outputs": [
        {
          "output_type": "execute_result",
          "data": {
            "text/plain": [
              "+------------+------+---------------+-------+---------------+-----------+----------------+---------------+---------------+---------+---------+------------+----------------+-------------------+---------+---------+----------------------+------------------+---------------+------------------+-------------------+-----------+-----------+--------------+--------------+--------------+--------------+-----------+-----------+-----------+-----------+----------+----------+----------+----------+---------+-----------------+-------------+-------------+-------------+-------------+-------------+---------------+\n",
              "|NU_INSCRICAO|NU_ANO|TP_FAIXA_ETARIA|TP_SEXO|TP_ESTADO_CIVIL|TP_COR_RACA|TP_NACIONALIDADE|TP_ST_CONCLUSAO|TP_ANO_CONCLUIU|TP_ESCOLA|TP_ENSINO|IN_TREINEIRO|CO_MUNICIPIO_ESC|   NO_MUNICIPIO_ESC|CO_UF_ESC|SG_UF_ESC|TP_DEPENDENCIA_ADM_ESC|TP_LOCALIZACAO_ESC|TP_SIT_FUNC_ESC|CO_MUNICIPIO_PROVA| NO_MUNICIPIO_PROVA|CO_UF_PROVA|SG_UF_PROVA|TP_PRESENCA_CN|TP_PRESENCA_CH|TP_PRESENCA_LC|TP_PRESENCA_MT|CO_PROVA_CN|CO_PROVA_CH|CO_PROVA_LC|CO_PROVA_MT|NU_NOTA_CN|NU_NOTA_CH|NU_NOTA_LC|NU_NOTA_MT|TP_LINGUA|TP_STATUS_REDACAO|NU_NOTA_COMP1|NU_NOTA_COMP2|NU_NOTA_COMP3|NU_NOTA_COMP4|NU_NOTA_COMP5|NU_NOTA_REDACAO|\n",
              "+------------+------+---------------+-------+---------------+-----------+----------------+---------------+---------------+---------+---------+------------+----------------+-------------------+---------+---------+----------------------+------------------+---------------+------------------+-------------------+-----------+-----------+--------------+--------------+--------------+--------------+-----------+-----------+-----------+-----------+----------+----------+----------+----------+---------+-----------------+-------------+-------------+-------------+-------------+-------------+---------------+\n",
              "|200006271946|  2020|             11|      F|              1|          2|               1|              1|             11|        1|     null|           0|            null|               null|     null|     null|                  null|              null|           null|           1501402|              Belém|         15|         PA|             0|             0|             0|             0|       null|       null|       null|       null|      null|      null|      null|      null|        1|             null|         null|         null|         null|         null|         null|           null|\n",
              "|200001195856|  2020|             11|      M|              2|          3|               1|              1|             11|        1|     null|           0|            null|               null|     null|     null|                  null|              null|           null|           2408102|              Natal|         24|         RN|             1|             1|             1|             1|        702|        689|        693|        698|     604.1|     661.7|     595.3|     711.3|        1|                1|          120|          120|          120|          120|          100|            580|\n",
              "|200001943954|  2020|              4|      F|              2|          3|               2|              2|              0|        2|        1|           0|         2927408|           Salvador|       29|       BA|                     2|                 1|              1|           2927408|           Salvador|         29|         BA|             0|             0|             0|             0|       null|       null|       null|       null|      null|      null|      null|      null|        0|             null|         null|         null|         null|         null|         null|           null|\n",
              "|200001908998|  2020|              2|      M|              1|          3|               1|              2|              0|        2|        1|           0|         3547304|Santana de Parnaíba|       35|       SP|                     3|                 1|              1|           3547304|Santana de Parnaíba|         35|         SP|             1|             1|             1|             1|        700|        688|        692|        696|     620.8|       675|     624.2|     759.4|        0|                1|          140|          200|          140|          120|          160|            760|\n",
              "|200001634757|  2020|              4|      F|              1|          3|               2|              1|              1|        1|     null|           0|            null|               null|     null|     null|                  null|              null|           null|           3121605|         Diamantina|         31|         MG|             0|             0|             0|             0|       null|       null|       null|       null|      null|      null|      null|      null|        1|             null|         null|         null|         null|         null|         null|           null|\n",
              "|200003132410|  2020|              3|      F|              1|          3|               1|              1|              1|        1|     null|           0|            null|               null|     null|     null|                  null|              null|           null|           4305207|        Cerro Largo|         43|         RS|             1|             1|             1|             1|        598|        567|        577|        588|     498.1|     604.7|     505.4|     526.7|        1|                1|          140|          120|          140|          140|          160|            700|\n",
              "|200001379770|  2020|              9|      M|              1|          3|               1|              1|              6|        1|     null|           0|            null|               null|     null|     null|                  null|              null|           null|           2611606|             Recife|         26|         PE|             0|             0|             0|             0|       null|       null|       null|       null|      null|      null|      null|      null|        0|             null|         null|         null|         null|         null|         null|           null|\n",
              "|200001334237|  2020|              4|      M|              1|          1|               1|              1|              1|        1|     null|           0|            null|               null|     null|     null|                  null|              null|           null|           3550308|          São Paulo|         35|         SP|             1|             1|             1|             1|        699|        687|        691|        695|     604.6|     604.8|     562.1|     753.2|        0|                1|          140|          120|          120|          120|          100|            600|\n",
              "|200006762554|  2020|              5|      F|              2|          3|               1|              1|              3|        1|     null|           0|            null|               null|     null|     null|                  null|              null|           null|           2507507|        João Pessoa|         25|         PB|             1|             1|             1|             1|        598|        567|        577|        588|     439.7|     383.5|     486.2|     448.5|        1|                1|          120|          120|          120|          140|          100|            600|\n",
              "|200005146210|  2020|              2|      M|              1|          2|               1|              2|              0|        2|        1|           0|            null|               null|     null|     null|                  null|              null|           null|           2304400|          Fortaleza|         23|         CE|             0|             0|             0|             0|       null|       null|       null|       null|      null|      null|      null|      null|        0|             null|         null|         null|         null|         null|         null|           null|\n",
              "+------------+------+---------------+-------+---------------+-----------+----------------+---------------+---------------+---------+---------+------------+----------------+-------------------+---------+---------+----------------------+------------------+---------------+------------------+-------------------+-----------+-----------+--------------+--------------+--------------+--------------+-----------+-----------+-----------+-----------+----------+----------+----------+----------+---------+-----------------+-------------+-------------+-------------+-------------+-------------+---------------+"
            ],
            "text/html": [
              "<table border='1'>\n",
              "<tr><th>NU_INSCRICAO</th><th>NU_ANO</th><th>TP_FAIXA_ETARIA</th><th>TP_SEXO</th><th>TP_ESTADO_CIVIL</th><th>TP_COR_RACA</th><th>TP_NACIONALIDADE</th><th>TP_ST_CONCLUSAO</th><th>TP_ANO_CONCLUIU</th><th>TP_ESCOLA</th><th>TP_ENSINO</th><th>IN_TREINEIRO</th><th>CO_MUNICIPIO_ESC</th><th>NO_MUNICIPIO_ESC</th><th>CO_UF_ESC</th><th>SG_UF_ESC</th><th>TP_DEPENDENCIA_ADM_ESC</th><th>TP_LOCALIZACAO_ESC</th><th>TP_SIT_FUNC_ESC</th><th>CO_MUNICIPIO_PROVA</th><th>NO_MUNICIPIO_PROVA</th><th>CO_UF_PROVA</th><th>SG_UF_PROVA</th><th>TP_PRESENCA_CN</th><th>TP_PRESENCA_CH</th><th>TP_PRESENCA_LC</th><th>TP_PRESENCA_MT</th><th>CO_PROVA_CN</th><th>CO_PROVA_CH</th><th>CO_PROVA_LC</th><th>CO_PROVA_MT</th><th>NU_NOTA_CN</th><th>NU_NOTA_CH</th><th>NU_NOTA_LC</th><th>NU_NOTA_MT</th><th>TP_LINGUA</th><th>TP_STATUS_REDACAO</th><th>NU_NOTA_COMP1</th><th>NU_NOTA_COMP2</th><th>NU_NOTA_COMP3</th><th>NU_NOTA_COMP4</th><th>NU_NOTA_COMP5</th><th>NU_NOTA_REDACAO</th></tr>\n",
              "<tr><td>200006271946</td><td>2020</td><td>11</td><td>F</td><td>1</td><td>2</td><td>1</td><td>1</td><td>11</td><td>1</td><td>null</td><td>0</td><td>null</td><td>null</td><td>null</td><td>null</td><td>null</td><td>null</td><td>null</td><td>1501402</td><td>Belém</td><td>15</td><td>PA</td><td>0</td><td>0</td><td>0</td><td>0</td><td>null</td><td>null</td><td>null</td><td>null</td><td>null</td><td>null</td><td>null</td><td>null</td><td>1</td><td>null</td><td>null</td><td>null</td><td>null</td><td>null</td><td>null</td><td>null</td></tr>\n",
              "<tr><td>200001195856</td><td>2020</td><td>11</td><td>M</td><td>2</td><td>3</td><td>1</td><td>1</td><td>11</td><td>1</td><td>null</td><td>0</td><td>null</td><td>null</td><td>null</td><td>null</td><td>null</td><td>null</td><td>null</td><td>2408102</td><td>Natal</td><td>24</td><td>RN</td><td>1</td><td>1</td><td>1</td><td>1</td><td>702</td><td>689</td><td>693</td><td>698</td><td>604.1</td><td>661.7</td><td>595.3</td><td>711.3</td><td>1</td><td>1</td><td>120</td><td>120</td><td>120</td><td>120</td><td>100</td><td>580</td></tr>\n",
              "<tr><td>200001943954</td><td>2020</td><td>4</td><td>F</td><td>2</td><td>3</td><td>2</td><td>2</td><td>0</td><td>2</td><td>1</td><td>0</td><td>2927408</td><td>Salvador</td><td>29</td><td>BA</td><td>2</td><td>1</td><td>1</td><td>2927408</td><td>Salvador</td><td>29</td><td>BA</td><td>0</td><td>0</td><td>0</td><td>0</td><td>null</td><td>null</td><td>null</td><td>null</td><td>null</td><td>null</td><td>null</td><td>null</td><td>0</td><td>null</td><td>null</td><td>null</td><td>null</td><td>null</td><td>null</td><td>null</td></tr>\n",
              "<tr><td>200001908998</td><td>2020</td><td>2</td><td>M</td><td>1</td><td>3</td><td>1</td><td>2</td><td>0</td><td>2</td><td>1</td><td>0</td><td>3547304</td><td>Santana de Parnaíba</td><td>35</td><td>SP</td><td>3</td><td>1</td><td>1</td><td>3547304</td><td>Santana de Parnaíba</td><td>35</td><td>SP</td><td>1</td><td>1</td><td>1</td><td>1</td><td>700</td><td>688</td><td>692</td><td>696</td><td>620.8</td><td>675</td><td>624.2</td><td>759.4</td><td>0</td><td>1</td><td>140</td><td>200</td><td>140</td><td>120</td><td>160</td><td>760</td></tr>\n",
              "<tr><td>200001634757</td><td>2020</td><td>4</td><td>F</td><td>1</td><td>3</td><td>2</td><td>1</td><td>1</td><td>1</td><td>null</td><td>0</td><td>null</td><td>null</td><td>null</td><td>null</td><td>null</td><td>null</td><td>null</td><td>3121605</td><td>Diamantina</td><td>31</td><td>MG</td><td>0</td><td>0</td><td>0</td><td>0</td><td>null</td><td>null</td><td>null</td><td>null</td><td>null</td><td>null</td><td>null</td><td>null</td><td>1</td><td>null</td><td>null</td><td>null</td><td>null</td><td>null</td><td>null</td><td>null</td></tr>\n",
              "<tr><td>200003132410</td><td>2020</td><td>3</td><td>F</td><td>1</td><td>3</td><td>1</td><td>1</td><td>1</td><td>1</td><td>null</td><td>0</td><td>null</td><td>null</td><td>null</td><td>null</td><td>null</td><td>null</td><td>null</td><td>4305207</td><td>Cerro Largo</td><td>43</td><td>RS</td><td>1</td><td>1</td><td>1</td><td>1</td><td>598</td><td>567</td><td>577</td><td>588</td><td>498.1</td><td>604.7</td><td>505.4</td><td>526.7</td><td>1</td><td>1</td><td>140</td><td>120</td><td>140</td><td>140</td><td>160</td><td>700</td></tr>\n",
              "<tr><td>200001379770</td><td>2020</td><td>9</td><td>M</td><td>1</td><td>3</td><td>1</td><td>1</td><td>6</td><td>1</td><td>null</td><td>0</td><td>null</td><td>null</td><td>null</td><td>null</td><td>null</td><td>null</td><td>null</td><td>2611606</td><td>Recife</td><td>26</td><td>PE</td><td>0</td><td>0</td><td>0</td><td>0</td><td>null</td><td>null</td><td>null</td><td>null</td><td>null</td><td>null</td><td>null</td><td>null</td><td>0</td><td>null</td><td>null</td><td>null</td><td>null</td><td>null</td><td>null</td><td>null</td></tr>\n",
              "<tr><td>200001334237</td><td>2020</td><td>4</td><td>M</td><td>1</td><td>1</td><td>1</td><td>1</td><td>1</td><td>1</td><td>null</td><td>0</td><td>null</td><td>null</td><td>null</td><td>null</td><td>null</td><td>null</td><td>null</td><td>3550308</td><td>São Paulo</td><td>35</td><td>SP</td><td>1</td><td>1</td><td>1</td><td>1</td><td>699</td><td>687</td><td>691</td><td>695</td><td>604.6</td><td>604.8</td><td>562.1</td><td>753.2</td><td>0</td><td>1</td><td>140</td><td>120</td><td>120</td><td>120</td><td>100</td><td>600</td></tr>\n",
              "<tr><td>200006762554</td><td>2020</td><td>5</td><td>F</td><td>2</td><td>3</td><td>1</td><td>1</td><td>3</td><td>1</td><td>null</td><td>0</td><td>null</td><td>null</td><td>null</td><td>null</td><td>null</td><td>null</td><td>null</td><td>2507507</td><td>João Pessoa</td><td>25</td><td>PB</td><td>1</td><td>1</td><td>1</td><td>1</td><td>598</td><td>567</td><td>577</td><td>588</td><td>439.7</td><td>383.5</td><td>486.2</td><td>448.5</td><td>1</td><td>1</td><td>120</td><td>120</td><td>120</td><td>140</td><td>100</td><td>600</td></tr>\n",
              "<tr><td>200005146210</td><td>2020</td><td>2</td><td>M</td><td>1</td><td>2</td><td>1</td><td>2</td><td>0</td><td>2</td><td>1</td><td>0</td><td>null</td><td>null</td><td>null</td><td>null</td><td>null</td><td>null</td><td>null</td><td>2304400</td><td>Fortaleza</td><td>23</td><td>CE</td><td>0</td><td>0</td><td>0</td><td>0</td><td>null</td><td>null</td><td>null</td><td>null</td><td>null</td><td>null</td><td>null</td><td>null</td><td>0</td><td>null</td><td>null</td><td>null</td><td>null</td><td>null</td><td>null</td><td>null</td></tr>\n",
              "</table>\n"
            ]
          },
          "metadata": {},
          "execution_count": 40
        }
      ],
      "source": [
        "mida_parquet = mida_parquet.drop(*dropcols)\n",
        "mida_parquet.limit(10)"
      ]
    },
    {
      "cell_type": "code",
      "execution_count": 20,
      "metadata": {
        "id": "o3IB6VxLgGYi",
        "colab": {
          "base_uri": "https://localhost:8080/"
        },
        "outputId": "7491d761-16c4-4258-dc19-9891142ff163"
      },
      "outputs": [
        {
          "output_type": "execute_result",
          "data": {
            "text/plain": [
              "5783109"
            ]
          },
          "metadata": {},
          "execution_count": 20
        }
      ],
      "source": [
        "mida_parquet.count()"
      ]
    },
    {
      "cell_type": "markdown",
      "source": [
        "Até esse momento foi realizado uma transformação simples dos dados alterando o formato do arquivo e removendo colunas não essenciais para o trabalho de analytics. Agora o arquivo se encontra na pasta /silver."
      ],
      "metadata": {
        "id": "zZo57UWjNuFT"
      }
    },
    {
      "cell_type": "code",
      "source": [
        "# Listando as colunas\n",
        "mida_parquet.columns"
      ],
      "metadata": {
        "id": "9q3OfZrJN5LH",
        "colab": {
          "base_uri": "https://localhost:8080/"
        },
        "outputId": "d132983c-36ad-4562-ef4e-4ad9dcb6e520"
      },
      "execution_count": 21,
      "outputs": [
        {
          "output_type": "execute_result",
          "data": {
            "text/plain": [
              "['NU_INSCRICAO',\n",
              " 'NU_ANO',\n",
              " 'TP_FAIXA_ETARIA',\n",
              " 'TP_SEXO',\n",
              " 'TP_ESTADO_CIVIL',\n",
              " 'TP_COR_RACA',\n",
              " 'TP_NACIONALIDADE',\n",
              " 'TP_ST_CONCLUSAO',\n",
              " 'TP_ANO_CONCLUIU',\n",
              " 'TP_ESCOLA',\n",
              " 'TP_ENSINO',\n",
              " 'IN_TREINEIRO',\n",
              " 'CO_MUNICIPIO_ESC',\n",
              " 'NO_MUNICIPIO_ESC',\n",
              " 'CO_UF_ESC',\n",
              " 'SG_UF_ESC',\n",
              " 'TP_DEPENDENCIA_ADM_ESC',\n",
              " 'TP_LOCALIZACAO_ESC',\n",
              " 'TP_SIT_FUNC_ESC',\n",
              " 'CO_MUNICIPIO_PROVA',\n",
              " 'NO_MUNICIPIO_PROVA',\n",
              " 'CO_UF_PROVA',\n",
              " 'SG_UF_PROVA',\n",
              " 'TP_PRESENCA_CN',\n",
              " 'TP_PRESENCA_CH',\n",
              " 'TP_PRESENCA_LC',\n",
              " 'TP_PRESENCA_MT',\n",
              " 'CO_PROVA_CN',\n",
              " 'CO_PROVA_CH',\n",
              " 'CO_PROVA_LC',\n",
              " 'CO_PROVA_MT',\n",
              " 'NU_NOTA_CN',\n",
              " 'NU_NOTA_CH',\n",
              " 'NU_NOTA_LC',\n",
              " 'NU_NOTA_MT',\n",
              " 'TP_LINGUA',\n",
              " 'TP_STATUS_REDACAO',\n",
              " 'NU_NOTA_COMP1',\n",
              " 'NU_NOTA_COMP2',\n",
              " 'NU_NOTA_COMP3',\n",
              " 'NU_NOTA_COMP4',\n",
              " 'NU_NOTA_COMP5',\n",
              " 'NU_NOTA_REDACAO']"
            ]
          },
          "metadata": {},
          "execution_count": 21
        }
      ]
    },
    {
      "cell_type": "markdown",
      "source": [
        "Para a área de Analytics, as colunas selecionadas serão renomeadas."
      ],
      "metadata": {
        "id": "UlIgQJsYOwJU"
      }
    },
    {
      "cell_type": "code",
      "source": [
        "enem_gold = mida_parquet.withColumnsRenamed({\n",
        " 'NU_INSCRICAO':'INSCRICAO',\n",
        " 'NU_ANO':'ANO',\n",
        " 'TP_FAIXA_ETARIA':'FAIXA_ETARIA',\n",
        " 'TP_SEXO':'SEXO',\n",
        " 'TP_COR_RACA':'COR_RACA',\n",
        " 'TP_ST_CONCLUSAO':'ST_CONCLUSAO',\n",
        " 'TP_ANO_CONCLUIU':'ANO_CONCLUIU',\n",
        " 'TP_ESCOLA':'ESCOLA',\n",
        " 'TP_ENSINO':'ENSINO',\n",
        " 'IN_TREINEIRO':'TREINEIRO',\n",
        " 'SG_UF_PROVA':'UF_PROVA',\n",
        " 'TP_PRESENCA_CN':'PRE_C_NATURAIS',\n",
        " 'TP_PRESENCA_CH':'PRE_C_HUMANAS',\n",
        " 'TP_PRESENCA_LC':'PRE_LINGUAGENS',\n",
        " 'TP_PRESENCA_MT':'PRE_MATEMATICA',\n",
        " 'NU_NOTA_CN':'NOTA_C_NATURAIS',\n",
        " 'NU_NOTA_CH':'NOTA_C_HUMANAS',\n",
        " 'NU_NOTA_LC':'NOTA_LINGAGENS',\n",
        " 'NU_NOTA_MT':'NOTA_MATEMATICA',\n",
        " 'TP_LINGUA':'LINGUA_ESTR',\n",
        " 'TP_STATUS_REDACAO':'STATUS_REDACAO',\n",
        " 'NU_NOTA_COMP1':'NOTA_COMP1',\n",
        " 'NU_NOTA_COMP2':'NOTA_COMP2',\n",
        " 'NU_NOTA_COMP3':'NOTA_COMP3',\n",
        " 'NU_NOTA_COMP4':'NOTA_COMP4',\n",
        " 'NU_NOTA_COMP5':'NOTA_COMP5',\n",
        " 'NU_NOTA_REDACAO':'NOTA_REDACAO'\n",
        " })"
      ],
      "metadata": {
        "id": "LOiU5M-jOubJ"
      },
      "execution_count": 22,
      "outputs": []
    },
    {
      "cell_type": "code",
      "source": [
        "# Visualizando os dados com as colunas renomeadas\n",
        "enem_gold.limit(5)"
      ],
      "metadata": {
        "id": "WUYAGjk-PXEA",
        "colab": {
          "base_uri": "https://localhost:8080/",
          "height": 181
        },
        "outputId": "2fadd2e0-7e80-4ecf-96d0-4b9905c57574"
      },
      "execution_count": 41,
      "outputs": [
        {
          "output_type": "execute_result",
          "data": {
            "text/plain": [
              "+------------+----+------------+----+--------+------------+------------+------+------+---------+--------+--------------+-------------+--------------+--------------+---------------+--------------+--------------+---------------+-----------+--------------+----------+----------+----------+----------+----------+------------+\n",
              "|   INSCRICAO| ANO|FAIXA_ETARIA|SEXO|COR_RACA|ST_CONCLUSAO|ANO_CONCLUIU|ESCOLA|ENSINO|TREINEIRO|UF_PROVA|PRE_C_NATURAIS|PRE_C_HUMANAS|PRE_LINGUAGENS|PRE_MATEMATICA|NOTA_C_NATURAIS|NOTA_C_HUMANAS|NOTA_LINGAGENS|NOTA_MATEMATICA|LINGUA_ESTR|STATUS_REDACAO|NOTA_COMP1|NOTA_COMP2|NOTA_COMP3|NOTA_COMP4|NOTA_COMP5|NOTA_REDACAO|\n",
              "+------------+----+------------+----+--------+------------+------------+------+------+---------+--------+--------------+-------------+--------------+--------------+---------------+--------------+--------------+---------------+-----------+--------------+----------+----------+----------+----------+----------+------------+\n",
              "|200006271946|2020|          11|   F|       2|           1|          11|     1|  null|        0|      PA|             0|            0|             0|             0|           null|          null|          null|           null|          1|          null|      null|      null|      null|      null|      null|        null|\n",
              "|200001195856|2020|          11|   M|       3|           1|          11|     1|  null|        0|      RN|             1|            1|             1|             1|            604|           661|           595|            711|          1|             1|       120|       120|       120|       120|       100|         580|\n",
              "|200001943954|2020|           4|   F|       3|           2|           0|     2|     1|        0|      BA|             0|            0|             0|             0|           null|          null|          null|           null|          0|          null|      null|      null|      null|      null|      null|        null|\n",
              "|200001908998|2020|           2|   M|       3|           2|           0|     2|     1|        0|      SP|             1|            1|             1|             1|            620|           675|           624|            759|          0|             1|       140|       200|       140|       120|       160|         760|\n",
              "|200001634757|2020|           4|   F|       3|           1|           1|     1|  null|        0|      MG|             0|            0|             0|             0|           null|          null|          null|           null|          1|          null|      null|      null|      null|      null|      null|        null|\n",
              "+------------+----+------------+----+--------+------------+------------+------+------+---------+--------+--------------+-------------+--------------+--------------+---------------+--------------+--------------+---------------+-----------+--------------+----------+----------+----------+----------+----------+------------+"
            ],
            "text/html": [
              "<table border='1'>\n",
              "<tr><th>INSCRICAO</th><th>ANO</th><th>FAIXA_ETARIA</th><th>SEXO</th><th>COR_RACA</th><th>ST_CONCLUSAO</th><th>ANO_CONCLUIU</th><th>ESCOLA</th><th>ENSINO</th><th>TREINEIRO</th><th>UF_PROVA</th><th>PRE_C_NATURAIS</th><th>PRE_C_HUMANAS</th><th>PRE_LINGUAGENS</th><th>PRE_MATEMATICA</th><th>NOTA_C_NATURAIS</th><th>NOTA_C_HUMANAS</th><th>NOTA_LINGAGENS</th><th>NOTA_MATEMATICA</th><th>LINGUA_ESTR</th><th>STATUS_REDACAO</th><th>NOTA_COMP1</th><th>NOTA_COMP2</th><th>NOTA_COMP3</th><th>NOTA_COMP4</th><th>NOTA_COMP5</th><th>NOTA_REDACAO</th></tr>\n",
              "<tr><td>200006271946</td><td>2020</td><td>11</td><td>F</td><td>2</td><td>1</td><td>11</td><td>1</td><td>null</td><td>0</td><td>PA</td><td>0</td><td>0</td><td>0</td><td>0</td><td>null</td><td>null</td><td>null</td><td>null</td><td>1</td><td>null</td><td>null</td><td>null</td><td>null</td><td>null</td><td>null</td><td>null</td></tr>\n",
              "<tr><td>200001195856</td><td>2020</td><td>11</td><td>M</td><td>3</td><td>1</td><td>11</td><td>1</td><td>null</td><td>0</td><td>RN</td><td>1</td><td>1</td><td>1</td><td>1</td><td>604</td><td>661</td><td>595</td><td>711</td><td>1</td><td>1</td><td>120</td><td>120</td><td>120</td><td>120</td><td>100</td><td>580</td></tr>\n",
              "<tr><td>200001943954</td><td>2020</td><td>4</td><td>F</td><td>3</td><td>2</td><td>0</td><td>2</td><td>1</td><td>0</td><td>BA</td><td>0</td><td>0</td><td>0</td><td>0</td><td>null</td><td>null</td><td>null</td><td>null</td><td>0</td><td>null</td><td>null</td><td>null</td><td>null</td><td>null</td><td>null</td><td>null</td></tr>\n",
              "<tr><td>200001908998</td><td>2020</td><td>2</td><td>M</td><td>3</td><td>2</td><td>0</td><td>2</td><td>1</td><td>0</td><td>SP</td><td>1</td><td>1</td><td>1</td><td>1</td><td>620</td><td>675</td><td>624</td><td>759</td><td>0</td><td>1</td><td>140</td><td>200</td><td>140</td><td>120</td><td>160</td><td>760</td></tr>\n",
              "<tr><td>200001634757</td><td>2020</td><td>4</td><td>F</td><td>3</td><td>1</td><td>1</td><td>1</td><td>null</td><td>0</td><td>MG</td><td>0</td><td>0</td><td>0</td><td>0</td><td>null</td><td>null</td><td>null</td><td>null</td><td>1</td><td>null</td><td>null</td><td>null</td><td>null</td><td>null</td><td>null</td><td>null</td></tr>\n",
              "</table>\n"
            ]
          },
          "metadata": {},
          "execution_count": 41
        }
      ]
    },
    {
      "cell_type": "markdown",
      "source": [
        "Analisando os tipos das variáveis do arquivo, estão todas classificadas como string. As variáveis que não condizem com essa modelagem para análise receberão um novo formato."
      ],
      "metadata": {
        "id": "3QxBJvdlPhF0"
      }
    },
    {
      "cell_type": "code",
      "source": [
        "list(enem_gold.schema)"
      ],
      "metadata": {
        "id": "M4wA4eUiQC75",
        "colab": {
          "base_uri": "https://localhost:8080/"
        },
        "outputId": "a34b5573-b871-45eb-8a26-827f2a2d2764"
      },
      "execution_count": 25,
      "outputs": [
        {
          "output_type": "execute_result",
          "data": {
            "text/plain": [
              "[StructField('INSCRICAO', StringType(), True),\n",
              " StructField('ANO', StringType(), True),\n",
              " StructField('FAIXA_ETARIA', StringType(), True),\n",
              " StructField('SEXO', StringType(), True),\n",
              " StructField('TP_ESTADO_CIVIL', StringType(), True),\n",
              " StructField('COR_RACA', StringType(), True),\n",
              " StructField('TP_NACIONALIDADE', StringType(), True),\n",
              " StructField('ST_CONCLUSAO', StringType(), True),\n",
              " StructField('ANO_CONCLUIU', StringType(), True),\n",
              " StructField('ESCOLA', StringType(), True),\n",
              " StructField('ENSINO', StringType(), True),\n",
              " StructField('TREINEIRO', StringType(), True),\n",
              " StructField('CO_MUNICIPIO_ESC', StringType(), True),\n",
              " StructField('NO_MUNICIPIO_ESC', StringType(), True),\n",
              " StructField('CO_UF_ESC', StringType(), True),\n",
              " StructField('SG_UF_ESC', StringType(), True),\n",
              " StructField('TP_DEPENDENCIA_ADM_ESC', StringType(), True),\n",
              " StructField('TP_LOCALIZACAO_ESC', StringType(), True),\n",
              " StructField('TP_SIT_FUNC_ESC', StringType(), True),\n",
              " StructField('CO_MUNICIPIO_PROVA', StringType(), True),\n",
              " StructField('NO_MUNICIPIO_PROVA', StringType(), True),\n",
              " StructField('CO_UF_PROVA', StringType(), True),\n",
              " StructField('UF_PROVA', StringType(), True),\n",
              " StructField('PRE_C_NATURAIS', StringType(), True),\n",
              " StructField('PRE_C_HUMANAS', StringType(), True),\n",
              " StructField('PRE_LINGUAGENS', StringType(), True),\n",
              " StructField('PRE_MATEMATICA', StringType(), True),\n",
              " StructField('CO_PROVA_CN', StringType(), True),\n",
              " StructField('CO_PROVA_CH', StringType(), True),\n",
              " StructField('CO_PROVA_LC', StringType(), True),\n",
              " StructField('CO_PROVA_MT', StringType(), True),\n",
              " StructField('NOTA_C_NATURAIS', StringType(), True),\n",
              " StructField('NOTA_C_HUMANAS', StringType(), True),\n",
              " StructField('NOTA_LINGAGENS', StringType(), True),\n",
              " StructField('NOTA_MATEMATICA', StringType(), True),\n",
              " StructField('LINGUA_ESTR', StringType(), True),\n",
              " StructField('STATUS_REDACAO', StringType(), True),\n",
              " StructField('NOTA_COMP1', StringType(), True),\n",
              " StructField('NOTA_COMP2', StringType(), True),\n",
              " StructField('NOTA_COMP3', StringType(), True),\n",
              " StructField('NOTA_COMP4', StringType(), True),\n",
              " StructField('NOTA_COMP5', StringType(), True),\n",
              " StructField('NOTA_REDACAO', StringType(), True)]"
            ]
          },
          "metadata": {},
          "execution_count": 25
        }
      ]
    },
    {
      "cell_type": "code",
      "source": [
        "# Importando o pacote types do PySpark para alterar os dados do dataframe\n",
        "from pyspark.sql.types import StructType, StructField, StringType, IntegerType"
      ],
      "metadata": {
        "id": "y_FQzlQRQHxw"
      },
      "execution_count": 26,
      "outputs": []
    },
    {
      "cell_type": "code",
      "source": [
        "# alterando o formato dos dados no df\n",
        "enem_gold = enem_gold.select(\n",
        " enem_gold.INSCRICAO.cast(StringType()),\n",
        " enem_gold.ANO.cast(StringType()),\n",
        " enem_gold.FAIXA_ETARIA.cast(StringType()),\n",
        " enem_gold.SEXO.cast(StringType()),\n",
        " enem_gold.COR_RACA.cast(StringType()),\n",
        " enem_gold.ST_CONCLUSAO.cast(StringType()),\n",
        " enem_gold.ANO_CONCLUIU.cast(StringType()),\n",
        " enem_gold.ESCOLA.cast(StringType()),\n",
        " enem_gold.ENSINO.cast(StringType()),\n",
        " enem_gold.TREINEIRO.cast(StringType()),\n",
        " enem_gold.UF_PROVA.cast(StringType()),\n",
        " enem_gold.PRE_C_NATURAIS.cast(StringType()),\n",
        " enem_gold.PRE_C_HUMANAS.cast(StringType()),\n",
        " enem_gold.PRE_LINGUAGENS.cast(StringType()),\n",
        " enem_gold.PRE_MATEMATICA.cast(StringType()),\n",
        " enem_gold.NOTA_C_NATURAIS.cast(IntegerType()),\n",
        " enem_gold.NOTA_C_HUMANAS.cast(IntegerType()),\n",
        " enem_gold.NOTA_LINGAGENS.cast(IntegerType()),\n",
        " enem_gold.NOTA_MATEMATICA.cast(IntegerType()),\n",
        " enem_gold.LINGUA_ESTR.cast(StringType()),\n",
        " enem_gold.STATUS_REDACAO.cast(StringType()),\n",
        " enem_gold.NOTA_COMP1.cast(IntegerType()),\n",
        " enem_gold.NOTA_COMP2.cast(IntegerType()),\n",
        " enem_gold.NOTA_COMP3.cast(IntegerType()),\n",
        " enem_gold.NOTA_COMP4.cast(IntegerType()),\n",
        " enem_gold.NOTA_COMP5.cast(IntegerType()),\n",
        " enem_gold.NOTA_REDACAO.cast(IntegerType())\n",
        ")\n",
        "\n",
        "# visualizando o schema do df após alteração\n",
        "list(enem_gold.schema)"
      ],
      "metadata": {
        "colab": {
          "base_uri": "https://localhost:8080/"
        },
        "id": "PCO-nmELQPTw",
        "outputId": "d9cfdccf-8554-4c18-90de-7271702a0394"
      },
      "execution_count": 27,
      "outputs": [
        {
          "output_type": "execute_result",
          "data": {
            "text/plain": [
              "[StructField('INSCRICAO', StringType(), True),\n",
              " StructField('ANO', StringType(), True),\n",
              " StructField('FAIXA_ETARIA', StringType(), True),\n",
              " StructField('SEXO', StringType(), True),\n",
              " StructField('COR_RACA', StringType(), True),\n",
              " StructField('ST_CONCLUSAO', StringType(), True),\n",
              " StructField('ANO_CONCLUIU', StringType(), True),\n",
              " StructField('ESCOLA', StringType(), True),\n",
              " StructField('ENSINO', StringType(), True),\n",
              " StructField('TREINEIRO', StringType(), True),\n",
              " StructField('UF_PROVA', StringType(), True),\n",
              " StructField('PRE_C_NATURAIS', StringType(), True),\n",
              " StructField('PRE_C_HUMANAS', StringType(), True),\n",
              " StructField('PRE_LINGUAGENS', StringType(), True),\n",
              " StructField('PRE_MATEMATICA', StringType(), True),\n",
              " StructField('NOTA_C_NATURAIS', IntegerType(), True),\n",
              " StructField('NOTA_C_HUMANAS', IntegerType(), True),\n",
              " StructField('NOTA_LINGAGENS', IntegerType(), True),\n",
              " StructField('NOTA_MATEMATICA', IntegerType(), True),\n",
              " StructField('LINGUA_ESTR', StringType(), True),\n",
              " StructField('STATUS_REDACAO', StringType(), True),\n",
              " StructField('NOTA_COMP1', IntegerType(), True),\n",
              " StructField('NOTA_COMP2', IntegerType(), True),\n",
              " StructField('NOTA_COMP3', IntegerType(), True),\n",
              " StructField('NOTA_COMP4', IntegerType(), True),\n",
              " StructField('NOTA_COMP5', IntegerType(), True),\n",
              " StructField('NOTA_REDACAO', IntegerType(), True)]"
            ]
          },
          "metadata": {},
          "execution_count": 27
        }
      ]
    },
    {
      "cell_type": "code",
      "source": [
        "enem_gold.limit(5)"
      ],
      "metadata": {
        "id": "AiFIa82OQrME",
        "colab": {
          "base_uri": "https://localhost:8080/",
          "height": 181
        },
        "outputId": "f5649746-6df6-4b33-812f-32b149976f9a"
      },
      "execution_count": 42,
      "outputs": [
        {
          "output_type": "execute_result",
          "data": {
            "text/plain": [
              "+------------+----+------------+----+--------+------------+------------+------+------+---------+--------+--------------+-------------+--------------+--------------+---------------+--------------+--------------+---------------+-----------+--------------+----------+----------+----------+----------+----------+------------+\n",
              "|   INSCRICAO| ANO|FAIXA_ETARIA|SEXO|COR_RACA|ST_CONCLUSAO|ANO_CONCLUIU|ESCOLA|ENSINO|TREINEIRO|UF_PROVA|PRE_C_NATURAIS|PRE_C_HUMANAS|PRE_LINGUAGENS|PRE_MATEMATICA|NOTA_C_NATURAIS|NOTA_C_HUMANAS|NOTA_LINGAGENS|NOTA_MATEMATICA|LINGUA_ESTR|STATUS_REDACAO|NOTA_COMP1|NOTA_COMP2|NOTA_COMP3|NOTA_COMP4|NOTA_COMP5|NOTA_REDACAO|\n",
              "+------------+----+------------+----+--------+------------+------------+------+------+---------+--------+--------------+-------------+--------------+--------------+---------------+--------------+--------------+---------------+-----------+--------------+----------+----------+----------+----------+----------+------------+\n",
              "|200006271946|2020|          11|   F|       2|           1|          11|     1|  null|        0|      PA|             0|            0|             0|             0|           null|          null|          null|           null|          1|          null|      null|      null|      null|      null|      null|        null|\n",
              "|200001195856|2020|          11|   M|       3|           1|          11|     1|  null|        0|      RN|             1|            1|             1|             1|            604|           661|           595|            711|          1|             1|       120|       120|       120|       120|       100|         580|\n",
              "|200001943954|2020|           4|   F|       3|           2|           0|     2|     1|        0|      BA|             0|            0|             0|             0|           null|          null|          null|           null|          0|          null|      null|      null|      null|      null|      null|        null|\n",
              "|200001908998|2020|           2|   M|       3|           2|           0|     2|     1|        0|      SP|             1|            1|             1|             1|            620|           675|           624|            759|          0|             1|       140|       200|       140|       120|       160|         760|\n",
              "|200001634757|2020|           4|   F|       3|           1|           1|     1|  null|        0|      MG|             0|            0|             0|             0|           null|          null|          null|           null|          1|          null|      null|      null|      null|      null|      null|        null|\n",
              "+------------+----+------------+----+--------+------------+------------+------+------+---------+--------+--------------+-------------+--------------+--------------+---------------+--------------+--------------+---------------+-----------+--------------+----------+----------+----------+----------+----------+------------+"
            ],
            "text/html": [
              "<table border='1'>\n",
              "<tr><th>INSCRICAO</th><th>ANO</th><th>FAIXA_ETARIA</th><th>SEXO</th><th>COR_RACA</th><th>ST_CONCLUSAO</th><th>ANO_CONCLUIU</th><th>ESCOLA</th><th>ENSINO</th><th>TREINEIRO</th><th>UF_PROVA</th><th>PRE_C_NATURAIS</th><th>PRE_C_HUMANAS</th><th>PRE_LINGUAGENS</th><th>PRE_MATEMATICA</th><th>NOTA_C_NATURAIS</th><th>NOTA_C_HUMANAS</th><th>NOTA_LINGAGENS</th><th>NOTA_MATEMATICA</th><th>LINGUA_ESTR</th><th>STATUS_REDACAO</th><th>NOTA_COMP1</th><th>NOTA_COMP2</th><th>NOTA_COMP3</th><th>NOTA_COMP4</th><th>NOTA_COMP5</th><th>NOTA_REDACAO</th></tr>\n",
              "<tr><td>200006271946</td><td>2020</td><td>11</td><td>F</td><td>2</td><td>1</td><td>11</td><td>1</td><td>null</td><td>0</td><td>PA</td><td>0</td><td>0</td><td>0</td><td>0</td><td>null</td><td>null</td><td>null</td><td>null</td><td>1</td><td>null</td><td>null</td><td>null</td><td>null</td><td>null</td><td>null</td><td>null</td></tr>\n",
              "<tr><td>200001195856</td><td>2020</td><td>11</td><td>M</td><td>3</td><td>1</td><td>11</td><td>1</td><td>null</td><td>0</td><td>RN</td><td>1</td><td>1</td><td>1</td><td>1</td><td>604</td><td>661</td><td>595</td><td>711</td><td>1</td><td>1</td><td>120</td><td>120</td><td>120</td><td>120</td><td>100</td><td>580</td></tr>\n",
              "<tr><td>200001943954</td><td>2020</td><td>4</td><td>F</td><td>3</td><td>2</td><td>0</td><td>2</td><td>1</td><td>0</td><td>BA</td><td>0</td><td>0</td><td>0</td><td>0</td><td>null</td><td>null</td><td>null</td><td>null</td><td>0</td><td>null</td><td>null</td><td>null</td><td>null</td><td>null</td><td>null</td><td>null</td></tr>\n",
              "<tr><td>200001908998</td><td>2020</td><td>2</td><td>M</td><td>3</td><td>2</td><td>0</td><td>2</td><td>1</td><td>0</td><td>SP</td><td>1</td><td>1</td><td>1</td><td>1</td><td>620</td><td>675</td><td>624</td><td>759</td><td>0</td><td>1</td><td>140</td><td>200</td><td>140</td><td>120</td><td>160</td><td>760</td></tr>\n",
              "<tr><td>200001634757</td><td>2020</td><td>4</td><td>F</td><td>3</td><td>1</td><td>1</td><td>1</td><td>null</td><td>0</td><td>MG</td><td>0</td><td>0</td><td>0</td><td>0</td><td>null</td><td>null</td><td>null</td><td>null</td><td>1</td><td>null</td><td>null</td><td>null</td><td>null</td><td>null</td><td>null</td><td>null</td></tr>\n",
              "</table>\n"
            ]
          },
          "metadata": {},
          "execution_count": 42
        }
      ]
    },
    {
      "cell_type": "markdown",
      "source": [
        "Finalizando o arquivo agora com os dados tratados e selecionados, resta salvar no diretório do último estágio do processo de ETL: gold."
      ],
      "metadata": {
        "id": "xFv2vv0fRE6Z"
      }
    },
    {
      "cell_type": "code",
      "source": [
        "# Caminho para salvar o arquivo gold\n",
        "gold_path = \"/content/enem_2020/3.gold/ENEM_2020_GOLD.parquet\"\n",
        "\n",
        "# Salvar o DataFrame na pasta gold\n",
        "enem_gold.write.parquet(gold_path)\n",
        "#dados_enem.write.mode(\"overwrite\").parquet(parquet_path)"
      ],
      "metadata": {
        "id": "PWVW5ga8RG3n"
      },
      "execution_count": 30,
      "outputs": []
    }
  ]
}